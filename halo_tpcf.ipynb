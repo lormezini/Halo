{
 "cells": [
  {
   "cell_type": "code",
   "execution_count": 10,
   "metadata": {},
   "outputs": [],
   "source": [
    "from halotools.sim_manager import CachedHaloCatalog, FakeSim\n",
    "from halotools.empirical_models import PrebuiltHodModelFactory, Zheng07Cens, Zheng07Sats, TrivialPhaseSpace, NFWPhaseSpace, HodModelFactory\n",
    "from halotools.mock_observables import return_xyz_formatted_array,wp,tpcf,marked_tpcf\n",
    "import numpy as np\n",
    "%matplotlib inline\n",
    "import matplotlib.pyplot as plt\n",
    "import time\n",
    "from multiprocessing import Pool, cpu_count\n",
    "import emcee\n",
    "#import corner\n",
    "#from Corrfunc.theory.wp import wp\n",
    "import MCMC_data_file\n",
    "from numpy.linalg import inv\n",
    "import scipy.optimize as op\n",
    "from scipy.stats import chi2\n",
    "import scipy.stats as stats\n",
    "import random\n",
    "import MCMC_data_file, zehavi_data_file_20, guo_data_file, mock_data, mock_data_2\n",
    "import warnings\n",
    "warnings.filterwarnings(\"ignore\")\n",
    "from IPython.display import set_matplotlib_formats\n",
    "set_matplotlib_formats('retina')\n",
    "from scipy.special import gamma\n",
    "from scipy.stats import chisquare"
   ]
  },
  {
   "cell_type": "code",
   "execution_count": 2,
   "metadata": {},
   "outputs": [],
   "source": [
    "m = 20"
   ]
  },
  {
   "cell_type": "code",
   "execution_count": 3,
   "metadata": {},
   "outputs": [],
   "source": [
    "wp_ng_vals = zehavi_data_file_20.get_wp()\n",
    "bin_edges = zehavi_data_file_20.get_bins()\n",
    "cov_matrix = zehavi_data_file_20.get_cov()\n",
    "err = np.array([cov_matrix[i,i] for i in range(len(cov_matrix))])\n",
    "bin_cen = (bin_edges[1:]+bin_edges[:-1])/2."
   ]
  },
  {
   "cell_type": "code",
   "execution_count": 13,
   "metadata": {},
   "outputs": [
    {
     "name": "stdout",
     "output_type": "stream",
     "text": [
      "2000000\n"
     ]
    },
    {
     "data": {
      "image/png": "[encoded data removed]",
      "text/plain": [
       "<Figure size 432x288 with 1 Axes>"
      ]
     },
     "metadata": {
      "image/png": {
       "height": 263,
       "width": 390
      },
      "needs_background": "light"
     },
     "output_type": "display_data"
    }
   ],
   "source": [
    "plt.errorbar(bin_cen,wp_ng_vals[1:len(wp_ng_vals)],yerr=np.sqrt(err),fmt='o',markersize=2,capsize=4,label='data')\n",
    "\n",
    "#cens_occ_model = Zheng07Cens(prim_haloprop_key = 'halo_vmax')\n",
    "cens_occ_model = Zheng07Cens(threshold = -m)\n",
    "cens_prof_model = TrivialPhaseSpace(threshold = -m)\n",
    "\n",
    "#sats_occ_model =  Zheng07Sats(prim_haloprop_key = 'halo_vmax', modulate_with_cenocc=True)\n",
    "sats_occ_model =  Zheng07Sats(modulate_with_cenocc=True,threshold = -m)\n",
    "sats_prof_model = NFWPhaseSpace(threshold = -m)\n",
    "\n",
    "#halocat = CachedHaloCatalog(simname='bolshoi',redshift = 0.0)\n",
    "#halocat = CachedHaloCatalog(fname = '/Users/lmezini/.astropy/cache/halotools/halo_catalogs/bolplanck/rockstar/hlist_1.00231.list.halotools_v0p4.hdf5',update_cached_fname = True)\n",
    "#halocat = CachedHaloCatalog(fname = '/Users/lmezini/Downloads/hlist_1.00231.list.halotools_v0p1.hdf5',update_cached_fname = True)\n",
    "halocat = CachedHaloCatalog(fname='/Users/lmezini/.astropy/cache/halotools/halo_catalogs/SMDPL/rockstar/2019-07-03-18-38-02-9731.dat.my_cosmosim_halos.hdf5')\n",
    "halocat.redshift = 0.\n",
    "pi_max = 60.\n",
    "Lbox = 400.\n",
    "model_instance = HodModelFactory(centrals_occupation = cens_occ_model, centrals_profile = cens_prof_model, \n",
    "                                 satellites_occupation = sats_occ_model, satellites_profile = sats_prof_model)\n",
    "\n",
    "\n",
    "param_sampling = [11.96,0.38,1.16,13.28-1.7,13.28]\n",
    "model_instance.param_dict['logMmin'] = param_sampling[0]#Mmin_val[i]\n",
    "model_instance.param_dict['sigma_logM'] = param_sampling[1]#sigma_val[i]\n",
    "model_instance.param_dict['alpha'] = param_sampling[2]#alpha_val[i]\n",
    "model_instance.param_dict['logM0'] = param_sampling[3]#M0_val[i]\n",
    "model_instance.param_dict['logM1'] = param_sampling[4]#M1_val[i]\n",
    "\n",
    "try:\n",
    "    model_instance.mock.populate()\n",
    "except:\n",
    "    model_instance.populate_mock(halocat)\n",
    "\"\"\"        \n",
    "gpos = return_xyz_formatted_array(model_instance.mock.galaxy_table['x'], model_instance.mock.galaxy_table['y'],\n",
    "                                 model_instance.mock.galaxy_table['z'],period = Lbox)\n",
    "\n",
    "x = gpos[:,0]\n",
    "y = gpos[:,1]\n",
    "z = gpos[:,2]\n",
    "velz = model_instance.mock.galaxy_table['vz']\n",
    "pos_zdist = return_xyz_formatted_array(x,y,z, period = Lbox, velocity=velz, velocity_distortion_dimension='z')\n",
    "gmod = wp(Lbox,pi_max,4,bin_edges,x,y,z,verbose=True)\n",
    "plt.plot(bin_cen,gmod['wp'],markersize=2)\n",
    "\"\"\"\n",
    "\n",
    "#halo_table = model_instance.mock.halo_table\n",
    "halo_table = halocat.halo_table\n",
    "mask = np.where(halo_table['halo_mvir_host_halo']>2e12)\n",
    "\n",
    "mass_cut_ht = halo_table[halo_table['halo_mvir_host_halo']>2e12]\n",
    "\n",
    "hpos = return_xyz_formatted_array(mass_cut_ht['halo_x'], mass_cut_ht['halo_y'],\n",
    "                                 mass_cut_ht['halo_z'],period = Lbox)\n",
    "x = hpos[:,0]\n",
    "y = hpos[:,1]\n",
    "z = hpos[:,2]\n",
    "#pos = np.vstack((x,y,z)).T\n",
    "velz = mass_cut_ht['halo_vz']\n",
    "\n",
    "pos_zdist = return_xyz_formatted_array(x,y,z,period=Lbox,\n",
    "                velocity=velz,velocity_distortion_dimension='z')\n",
    "\n",
    "#hmod = wp(Lbox,pi_max,4,bin_edges,pos_zdist[:,0],pos_zdist[:,1],pos_zdist[:,2],verbose=True)\n",
    "\n",
    "mod = wp(pos_zdist, bin_edges, pi_max, period=Lbox)\n",
    "#mod = wp(pos, bin_edges,pi_max,period=Lbox)\n",
    "\n",
    "plt.plot(bin_cen,mod,markersize=2)#,label='Vmax')\n",
    "plt.legend()\n",
    "plt.ylabel('wp')\n",
    "plt.xlabel('rp')\n",
    "plt.tick_params(right=True)\n",
    "plt.xscale('log')\n",
    "plt.yscale('log')\n",
    "plt.grid()\n",
    "plt.show()"
   ]
  },
  {
   "cell_type": "code",
   "execution_count": 15,
   "metadata": {},
   "outputs": [
    {
     "name": "stdout",
     "output_type": "stream",
     "text": [
      "500208\n"
     ]
    }
   ],
   "source": [
    "mass_cut_ht = halo_table[halo_table['halo_mvir_host_halo']>5e11]\n",
    "print(len(mass_cut_ht))"
   ]
  },
  {
   "cell_type": "code",
   "execution_count": null,
   "metadata": {},
   "outputs": [],
   "source": []
  }
 ],
 "metadata": {
  "kernelspec": {
   "display_name": "Python 3",
   "language": "python",
   "name": "python3"
  },
  "language_info": {
   "codemirror_mode": {
    "name": "ipython",
    "version": 3
   },
   "file_extension": ".py",
   "mimetype": "text/x-python",
   "name": "python",
   "nbconvert_exporter": "python",
   "pygments_lexer": "ipython3",
   "version": "3.7.4"
  }
 },
 "nbformat": 4,
 "nbformat_minor": 4
}
