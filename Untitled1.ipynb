{
 "cells": [
  {
   "cell_type": "code",
   "execution_count": 8,
   "metadata": {},
   "outputs": [],
   "source": [
    "import numpy as np\n",
    "from halotools.sim_manager import CachedHaloCatalog, FakeSim\n",
    "from halotools.empirical_models import PrebuiltHodModelFactory, Zheng07Cens, Zheng07Sats, TrivialPhaseSpace, NFWPhaseSpace, HodModelFactory\n",
    "from halotools.mock_observables import return_xyz_formatted_array\n",
    "%matplotlib inline\n",
    "import matplotlib.pyplot as plt\n",
    "from Corrfunc.theory.wp import wp\n",
    "import mock_data_2\n",
    "import warnings\n",
    "warnings.filterwarnings(\"ignore\")\n",
    "from IPython.display import set_matplotlib_formats\n",
    "set_matplotlib_formats('retina')"
   ]
  },
  {
   "cell_type": "code",
   "execution_count": 32,
   "metadata": {},
   "outputs": [],
   "source": [
    "wp_ng_vals = mock_data_2.get_wp()\n",
    "bin_edges = mock_data_2.get_bin_edges()\n",
    "cov_matrix = mock_data_2.get_cov()\n",
    "ng = mock_data_2.get_ng()\n",
    "err = np.array([cov_matrix[i,i] for i in range(len(cov_matrix))])\n",
    "bin_cen = (bin_edges[1:]+bin_edges[:-1])/2."
   ]
  },
  {
   "cell_type": "code",
   "execution_count": 37,
   "metadata": {},
   "outputs": [],
   "source": [
    "#cens_occ_model = Zheng07Cens(prim_haloprop_key = 'halo_vmax')\n",
    "cens_occ_model = Zheng07Cens()\n",
    "cens_prof_model = TrivialPhaseSpace()\n",
    "\n",
    "#sats_occ_model =  Zheng07Sats(prim_haloprop_key = 'halo_vmax', modulate_with_cenocc=True)\n",
    "sats_occ_model =  Zheng07Sats(modulate_with_cenocc=True)\n",
    "sats_prof_model = NFWPhaseSpace()\n",
    "\n",
    "#halocat = CachedHaloCatalog(simname='bolshoi',redshift = 0.0)\n",
    "#halocat = CachedHaloCatalog(fname = '/Users/lmezini/.astropy/cache/halotools/halo_catalogs/bolplanck/rockstar/hlist_1.00231.list.halotools_v0p4.hdf5',update_cached_fname = True)\n",
    "#halocat = CachedHaloCatalog(fname = '/Users/lmezini/Downloads/hlist_1.00231.list.halotools_v0p1.hdf5',update_cached_fname = True)\n",
    "halocat = CachedHaloCatalog(fname='/Users/lmezini/.astropy/cache/halotools/halo_catalogs/SMDPL/rockstar/2019-07-03-18-38-02-9731.dat.my_cosmosim_halos.hdf5')\n",
    "halocat.redshift = 0.\n",
    "pi_max = 60.\n",
    "Lbox = 400.\n",
    "model_instance = HodModelFactory(centrals_occupation = cens_occ_model, centrals_profile = cens_prof_model, \n",
    "                                 satellites_occupation = sats_occ_model, satellites_profile = sats_prof_model)\n",
    "\n",
    "try:\n",
    "    model_instance.mock.populate()\n",
    "except:\n",
    "    model_instance.populate_mock(halocat)\n",
    "    \n",
    "#ng = model_instance.mock.number_density\n",
    "#halo_table = halocat.halo_table\n",
    "#mean_cen = np.sum(cens_occ_model.mean_occupation(prim_haloprop = halo_table['halo_mvir']))\n",
    "#mean_sat = np.sum(sats_occ_model.mean_occupation(prim_haloprop = halo_table['halo_mvir']))\n",
    "#ng = (mean_cen+mean_sat)/(Lbox**3)"
   ]
  },
  {
   "cell_type": "code",
   "execution_count": 115,
   "metadata": {},
   "outputs": [
    {
     "name": "stdout",
     "output_type": "stream",
     "text": [
      "-2.8906250000007225e-06\n",
      "12.03735 0.3 1.0 11.638379995663982 13.338379995663981\n"
     ]
    }
   ],
   "source": [
    "logMmin = 12.03735\n",
    "logM1 = np.log10((10**logMmin)*20)\n",
    "sigma_logM,alpha,logM0 = [0.3,1.0,logM1-1.7]\n",
    "model_instance.param_dict['alpha'] = alpha\n",
    "model_instance.param_dict['logM0'] = logM0\n",
    "model_instance.param_dict['logM1'] = logM1\n",
    "model_instance.param_dict['logMmin'] = logMmin\n",
    "model_instance.param_dict['sigma_logM'] = sigma_logM\n",
    "\n",
    "model_instance.mock.populate()\n",
    "\n",
    "mock_ng = model_instance.mock.number_density\n",
    "print(mock_ng - ng)\n",
    "print(logMmin,sigma_logM,alpha,logM0,logM1)"
   ]
  },
  {
   "cell_type": "code",
   "execution_count": null,
   "metadata": {},
   "outputs": [],
   "source": []
  },
  {
   "cell_type": "code",
   "execution_count": null,
   "metadata": {},
   "outputs": [],
   "source": []
  }
 ],
 "metadata": {
  "kernelspec": {
   "display_name": "Python 3",
   "language": "python",
   "name": "python3"
  },
  "language_info": {
   "codemirror_mode": {
    "name": "ipython",
    "version": 3
   },
   "file_extension": ".py",
   "mimetype": "text/x-python",
   "name": "python",
   "nbconvert_exporter": "python",
   "pygments_lexer": "ipython3",
   "version": "3.7.4"
  }
 },
 "nbformat": 4,
 "nbformat_minor": 4
}
