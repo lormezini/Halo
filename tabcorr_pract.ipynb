{
 "cells": [
  {
   "cell_type": "code",
   "execution_count": 1,
   "metadata": {},
   "outputs": [
    {
     "name": "stderr",
     "output_type": "stream",
     "text": [
      "WARNING: AstropyDeprecationWarning: astropy.extern.six will be removed in 4.0, use the six module directly if it is still needed [astropy.extern.six]\n"
     ]
    }
   ],
   "source": [
    "import numpy as np\n",
    "from matplotlib import cm\n",
    "from matplotlib import colors\n",
    "import matplotlib.pyplot as plt\n",
    "from halotools.sim_manager import CachedHaloCatalog\n",
    "from halotools.mock_observables import wp\n",
    "from halotools.empirical_models import PrebuiltHodModelFactory,  Zheng07Cens, Zheng07Sats, TrivialPhaseSpace,NFWPhaseSpace, HodModelFactory\n",
    "from halotools.mock_observables import return_xyz_formatted_array\n",
    "from astropy.cosmology import FlatLambdaCDM\n",
    "from tabcorr import TabCorr\n",
    "import emcee\n",
    "import warnings\n",
    "warnings.filterwarnings(\"ignore\")\n",
    "import scipy.constants as sc\n",
    "import scipy.stats as ss"
   ]
  },
  {
   "cell_type": "code",
   "execution_count": 8,
   "metadata": {},
   "outputs": [],
   "source": [
    "cosmo = FlatLambdaCDM(H0=67.77, Om0=0.307115) # smdpl\n",
    "param = 'vmax'\n",
    "threshold=19\n",
    "dname = '21'\n",
    "Lbox = 400"
   ]
  },
  {
   "cell_type": "code",
   "execution_count": 6,
   "metadata": {},
   "outputs": [],
   "source": [
    "#halocat = CachedHaloCatalog(simname='bolplanck')\n",
    "#halocat = CachedHaloCatalog(fname = '/Users/lmezini/.astropy/cache/halotools/halo_catalogs/bolplanck/rockstar/hlist_1.00231.list.halotools_v0p4.hdf5',update_cached_fname = True)\n",
    "halocat = CachedHaloCatalog(fname = '/Users/lmezini/Downloads/hlist_1.00231.list.halotools_v0p1.hdf5',update_cached_fname = True)\n",
    "#halocat = CachedHaloCatalog(fname='/Users/lmezini/.astropy/cache/halotools/halo_catalogs/SMDPL/rockstar/2019-07-03-18-38-02-9731.dat.my_cosmosim_halos.hdf5')\n",
    "#model_instance = PrebuiltHodModelFactory('zheng07')"
   ]
  },
  {
   "cell_type": "code",
   "execution_count": 11,
   "metadata": {},
   "outputs": [
    {
     "ename": "NameError",
     "evalue": "name 'm' is not defined",
     "output_type": "error",
     "traceback": [
      "\u001b[0;31m---------------------------------------------------------------------------\u001b[0m",
      "\u001b[0;31mNameError\u001b[0m                                 Traceback (most recent call last)",
      "\u001b[0;32m<ipython-input-11-5205a029f3d2>\u001b[0m in \u001b[0;36m<module>\u001b[0;34m\u001b[0m\n\u001b[1;32m      4\u001b[0m \u001b[0mG\u001b[0m \u001b[0;34m=\u001b[0m \u001b[0msc\u001b[0m\u001b[0;34m.\u001b[0m\u001b[0mgravitational_constant\u001b[0m\u001b[0;34m\u001b[0m\u001b[0;34m\u001b[0m\u001b[0m\n\u001b[1;32m      5\u001b[0m \u001b[0mvvir\u001b[0m \u001b[0;34m=\u001b[0m \u001b[0;34m(\u001b[0m\u001b[0mG\u001b[0m\u001b[0;34m*\u001b[0m\u001b[0mmvir\u001b[0m\u001b[0;34m/\u001b[0m\u001b[0mrvir\u001b[0m\u001b[0;34m)\u001b[0m\u001b[0;34m**\u001b[0m\u001b[0;36m0.5\u001b[0m\u001b[0;34m\u001b[0m\u001b[0;34m\u001b[0m\u001b[0m\n\u001b[0;32m----> 6\u001b[0;31m \u001b[0mvmax_ml\u001b[0m \u001b[0;34m=\u001b[0m \u001b[0;34m(\u001b[0m\u001b[0;36m10\u001b[0m\u001b[0;34m**\u001b[0m\u001b[0;34m(\u001b[0m\u001b[0mnp\u001b[0m\u001b[0;34m.\u001b[0m\u001b[0mlog10\u001b[0m\u001b[0;34m(\u001b[0m\u001b[0mhalocat\u001b[0m\u001b[0;34m.\u001b[0m\u001b[0mhalo_table\u001b[0m\u001b[0;34m[\u001b[0m\u001b[0;34m'halo_vmax'\u001b[0m\u001b[0;34m]\u001b[0m\u001b[0;34m)\u001b[0m\u001b[0;34m*\u001b[0m\u001b[0;34m(\u001b[0m\u001b[0mm\u001b[0m\u001b[0;34m)\u001b[0m\u001b[0;34m+\u001b[0m\u001b[0;34m(\u001b[0m\u001b[0mb\u001b[0m\u001b[0;34m)\u001b[0m\u001b[0;34m)\u001b[0m\u001b[0;34m)\u001b[0m\u001b[0;34m\u001b[0m\u001b[0;34m\u001b[0m\u001b[0m\n\u001b[0m",
      "\u001b[0;31mNameError\u001b[0m: name 'm' is not defined"
     ]
    }
   ],
   "source": [
    "mvir = halocat.halo_table['halo_mvir']\n",
    "rvir = halocat.halo_table['halo_rvir']\n",
    "vmax = halocat.halo_table['halo_vmax']\n",
    "G = sc.gravitational_constant\n",
    "vvir = (G*mvir/rvir)**0.5\n",
    "vmax_ml = (10**(np.log10(halocat.halo_table['halo_vmax'])*(m)+(b)))"
   ]
  },
  {
   "cell_type": "code",
   "execution_count": null,
   "metadata": {},
   "outputs": [],
   "source": [
    "halocat.halo_table.add_column(vmax_ml, name = 'vmax_ml')\n",
    "if param == 'mvir':\n",
    "    print('mvir')\n",
    "    cens_occ_model = Zheng07Cens(threshold=threshold)\n",
    "    cens_prof_model = TrivialPhaseSpace()\n",
    "\n",
    "    sats_occ_model =  Zheng07Sats(modulate_with_cenocc=True,threshold=threshold)\n",
    "    sats_prof_model = NFWPhaseSpace()\n",
    "else:\n",
    "    print('vmax')\n",
    "    cens_occ_model = Zheng07Cens(prim_haloprop_key = 'vmax_ml',threshold=threshold)\n",
    "    cens_prof_model = TrivialPhaseSpace()\n",
    "\n",
    "    sats_occ_model =  Zheng07Sats(prim_haloprop_key = 'vmax_ml', modulate_with_cenocc=True,threshold=threshold)\n",
    "    sats_prof_model = NFWPhaseSpace()\n",
    "    \n",
    "model_instance = HodModelFactory(centrals_occupation = cens_occ_model, centrals_profile = cens_prof_model, \n",
    "                                 satellites_occupation = sats_occ_model, satellites_profile = sats_prof_model)\n",
    "\n",
    "model_instance.populate_mock(halocat) \n"
   ]
  },
  {
   "cell_type": "code",
   "execution_count": 10,
   "metadata": {},
   "outputs": [],
   "source": [
    "if '21' in dname:\n",
    "    import zehavi_data_file_21\n",
    "    wp_ng_vals = zehavi_data_file_21.get_wp()[0:12]\n",
    "    bin_edges = zehavi_data_file_21.get_bins()[0:12]\n",
    "    cov_matrix = zehavi_data_file_21.get_cov()[0:11,0:11]\n",
    "    err = np.array([cov_matrix[i,i] for i in range(len(cov_matrix))])\n",
    "    bin_cen = (bin_edges[1:]+bin_edges[:-1])/2.\n",
    "elif '19' in dname:\n",
    "    print('19')\n",
    "    import zehavi_data_file_19\n",
    "    wp_ng_vals = zehavi_data_file_19.get_wp()[0:12]\n",
    "    bin_edges = zehavi_data_file_19.get_bins()[0:12]\n",
    "    cov_matrix = zehavi_data_file_19.get_cov()[0:11,0:11]\n",
    "    err = np.array([cov_matrix[i,i] for i in range(len(cov_matrix))])    \n",
    "    bin_cen = (bin_edges[1:]+bin_edges[:-1])/2.\n",
    "elif '20_noGW' in dname:\n",
    "    print('20 noGW')\n",
    "    import zehavi_data_file_20_noGW\n",
    "    wp_ng_vals = zehavi_data_file_20_noGW.get_wp()[0:12]\n",
    "    bin_edges = zehavi_data_file_20_noGW.get_bins()[0:12]\n",
    "    cov_matrix = zehavi_data_file_20_noGW.get_cov()[0:11,0:11]\n",
    "    err = np.array([cov_matrix[i,i] for i in range(len(cov_matrix))])    \n",
    "    bin_cen = (bin_edges[1:]+bin_edges[:-1])/2.\n",
    "elif '20' in dname:\n",
    "    print('20')\n",
    "    import zehavi_data_file_20\n",
    "    wp_ng_vals = zehavi_data_file_20.get_wp()[0:12]\n",
    "    bin_edges = zehavi_data_file_20.get_bins()[0:12]\n",
    "    cov_matrix = zehavi_data_file_20.get_cov()[0:11,0:11]\n",
    "    err = np.array([cov_matrix[i,i] for i in range(len(cov_matrix))])    \n",
    "    bin_cen = (bin_edges[1:]+bin_edges[:-1])/2.\n",
    "    ng_err = 0.00007\n",
    "elif 'guo' in dname:\n",
    "    wp_ng_vals = guo_data_file.get_wp()\n",
    "    bin_edges = guo_data_file.get_bins()\n",
    "    cov_matrix = guo_data_file.get_cov()\n",
    "    err = np.array([cov_matrix[i,i] for i in range(len(cov_matrix))])\n",
    "    bin_cen = (bin_edges[1:]+bin_edges[:-1])/2.\n",
    "elif 'mock' in dname:\n",
    "    wp_ng_vals = mock_data_2.get_wp()\n",
    "    bin_edges = mock_data_2.get_bin_edges()\n",
    "    cov_matrix = mock_data_2.get_cov()\n",
    "    err = np.array([cov_matrix[i,i] for i in range(len(cov_matrix))])\n",
    "    bin_cen = (bin_edges[1:]+bin_edges[:-1])/2.\n",
    "invcov = np.linalg.inv(cov_matrix)\n"
   ]
  },
  {
   "cell_type": "code",
   "execution_count": 71,
   "metadata": {},
   "outputs": [],
   "source": [
    "halotab = TabCorr.read('smdpl_vmax.hdf5')\n"
   ]
  },
  {
   "cell_type": "code",
   "execution_count": 42,
   "metadata": {},
   "outputs": [
    {
     "name": "stdout",
     "output_type": "stream",
     "text": [
      "[409.48211215 261.32274231 169.89549764 113.05953934  73.91752265\n",
      "  49.56826681  34.21599742  24.73272755  17.27091456  11.08293303\n",
      "   6.50134646]\n"
     ]
    }
   ],
   "source": [
    "ngal, wp = halotab.predict(model_instance)"
   ]
  },
  {
   "cell_type": "code",
   "execution_count": 43,
   "metadata": {},
   "outputs": [
    {
     "data": {
      "image/png": "[encoded data removed]",
      "text/plain": [
       "<Figure size 432x288 with 1 Axes>"
      ]
     },
     "metadata": {
      "needs_background": "light"
     },
     "output_type": "display_data"
    }
   ],
   "source": [
    "plt.errorbar(bin_cen,wp_ng_vals[1:len(wp_ng_vals)],yerr=np.sqrt(err),fmt='o',markersize=2,capsize=4,label='data')\n",
    "plt.plot(bin_cen, wp, label='total')\n",
    "plt.xscale('log')\n",
    "plt.yscale('log')"
   ]
  },
  {
   "cell_type": "code",
   "execution_count": 47,
   "metadata": {},
   "outputs": [],
   "source": [
    "#log liklihood\n",
    "def lnlike(theta):\n",
    "    logMmin, sigma_logM, alpha, logM0, logM1 = theta\n",
    "    cens_occ_model.param_dict['logMmin'] = logMmin\n",
    "    cens_occ_model.param_dict['sigma_logM'] = sigma_logM\n",
    "    sats_occ_model.param_dict['alpha'] = alpha\n",
    "    sats_occ_model.param_dict['logM0'] = logM0\n",
    "    sats_occ_model.param_dict['logM1'] = logM1\n",
    "        \n",
    "    ngal, wp = halotab.predict(model_instance)\n",
    "    wp_diff = wp_ng_vals[1:12]-wp\n",
    "    ng_diff = wp_ng_vals[0]-ngal\n",
    "    \n",
    "    return -0.5*np.dot(wp_diff, np.dot(invcov, wp_diff)) + -0.5*(ng_diff**2)/(ng_err**2)\n",
    "\n",
    "#log prior\n",
    "def lnprior(theta):\n",
    "    logMmin_r = [1.0,4.0]\n",
    "    sigma_logM_r = [0.01,2.0]\n",
    "    alpha_r = [0.5,3.0]\n",
    "    logM0_r = [1.0,4.0]\n",
    "    logM1_r = [1.0,4.0]\n",
    "    \n",
    "    logMmin, sigma_logM, alpha, logM0, logM1 = theta\n",
    "    if logMmin_r[0]<logMmin<logMmin_r[1] and sigma_logM_r[0]<sigma_logM<sigma_logM_r[1] and alpha_r[0]<alpha<alpha_r[1] and logM0_r[0]<logM0<logM0_r[1] and logM1_r[0]<logM1<logM1_r[1]:\n",
    "        return 0.0\n",
    "    return -np.inf\n",
    "\n",
    "#log prop\n",
    "def lnprob(theta):\n",
    "    lp = lnprior(theta)\n",
    "    if not np.isfinite(lp):\n",
    "        return -np.inf\n",
    "\n",
    "    ll = lnlike(theta)\n",
    "    return lp + ll"
   ]
  },
  {
   "cell_type": "code",
   "execution_count": null,
   "metadata": {},
   "outputs": [],
   "source": [
    "nwalkers = 10\n",
    "ndim = 5\n",
    "nsteps = 5\n",
    "guess = [2.13, 0.22, 3.08, 1.47, 2.45]\n",
    "pos = [guess+1e-4*np.random.randn(ndim) for i in range(nwalkers)]\n",
    "backend = emcee.backends.HDFBackend('test.h5')\n",
    "backend.reset(nwalkers, ndim)                                                        \n",
    "sampler = emcee.EnsembleSampler(nwalkers, ndim, lnprob,\n",
    "                                        backend=backend)                                                             \n",
    "sampler.run_mcmc(pos, nsteps, progress=True, store=True)\n"
   ]
  },
  {
   "cell_type": "code",
   "execution_count": 46,
   "metadata": {},
   "outputs": [],
   "source": [
    "reader = emcee.backends.HDFBackend('test.h5', read_only=True)"
   ]
  },
  {
   "cell_type": "code",
   "execution_count": null,
   "metadata": {},
   "outputs": [],
   "source": [
    "reader.get_chain(discard=0, flat=False, thin=1)"
   ]
  },
  {
   "cell_type": "markdown",
   "metadata": {},
   "source": [
    "# Conversions"
   ]
  },
  {
   "cell_type": "code",
   "execution_count": 72,
   "metadata": {},
   "outputs": [],
   "source": [
    "mvir = halocat.halo_table['halo_mvir']\n",
    "rvir = halocat.halo_table['halo_rvir']\n",
    "vmax = halocat.halo_table['halo_vmax']\n",
    "G = sc.gravitational_constant\n",
    "vvir = (G*mvir/rvir)**0.5\n"
   ]
  },
  {
   "cell_type": "code",
   "execution_count": 12,
   "metadata": {},
   "outputs": [
    {
     "name": "stdout",
     "output_type": "stream",
     "text": [
      "106.1035 200800000000000.0 1001.57\n",
      "2.0257297 3.0006814 14.302764\n"
     ]
    }
   ],
   "source": [
    "print(vvir[0],mvir[0],vmax[0])\n",
    "print(np.log10(vvir[0]),np.log10(vmax[0]),np.log10(mvir[0]))"
   ]
  },
  {
   "cell_type": "code",
   "execution_count": 13,
   "metadata": {},
   "outputs": [
    {
     "data": {
      "text/plain": [
       "(3.2129514846864926, 4.71149353971438)"
      ]
     },
     "execution_count": 13,
     "metadata": {},
     "output_type": "execute_result"
    }
   ],
   "source": [
    "m, b, r, p, se = ss.linregress(np.log10(vmax), np.log10(mvir))\n",
    "m,b"
   ]
  },
  {
   "cell_type": "code",
   "execution_count": 14,
   "metadata": {},
   "outputs": [
    {
     "data": {
      "text/plain": [
       "[<matplotlib.lines.Line2D at 0x1a20daa650>]"
      ]
     },
     "execution_count": 14,
     "metadata": {},
     "output_type": "execute_result"
    },
    {
     "data": {
      "image/png": "[encoded data removed]",
      "text/plain": [
       "<Figure size 432x288 with 1 Axes>"
      ]
     },
     "metadata": {
      "needs_background": "light"
     },
     "output_type": "display_data"
    }
   ],
   "source": [
    "plt.scatter(np.log10(vmax[0:10_000]),np.log10(mvir[0:10_000]))\n",
    "plt.plot(np.log10(vmax[0:10_000]),np.log10(vmax[0:10_000])*(m)+(b),c='y')\n",
    "#plt.yscale('log')\n",
    "#plt.xscale('log')"
   ]
  },
  {
   "cell_type": "code",
   "execution_count": 15,
   "metadata": {},
   "outputs": [
    {
     "name": "stdout",
     "output_type": "stream",
     "text": [
      "14.054148273263985\n",
      "14.090987144445135\n",
      "14.255014532754634\n",
      "0.6912321523014552\n",
      "0.36303746073303284\n"
     ]
    }
   ],
   "source": [
    "##CONVERT FROM VMAX TO MASS LIKE\n",
    "vmax_ml = (10**(np.log10(halocat.halo_table['halo_vmax'])*(m)+(b)))\n",
    "#print(10**(np.log10(100)*(m)+(b)),halocat.particle_mass)\n",
    "#convert Vmax param vals to masslike\n",
    "        #logVmaxMin, LogVmax0, LogVmax1\n",
    "vals = [2.71201315,2.74328734,2.886974  ]\n",
    "for v in vals:\n",
    "    print(np.log(10**(np.log10(v)*(m)+(b))))\n",
    "alpha_v = 2.22089537\n",
    "sigma_v = 0.11299189\n",
    "alpha_m = alpha_v/m\n",
    "sigma_m = m*sigma_v\n",
    "print(alpha_m)\n",
    "print(sigma_m)"
   ]
  },
  {
   "cell_type": "code",
   "execution_count": 127,
   "metadata": {},
   "outputs": [],
   "source": [
    "cens_occ_model = Zheng07Cens(prim_haloprop_key = 'vmax_ml',threshold=threshold)\n",
    "cens_prof_model = TrivialPhaseSpace()\n",
    "sats_occ_model =  Zheng07Sats(prim_haloprop_key = 'vmax_ml',threshold=threshold)#, modulate_with_cenocc=True,threshold=threshold)\n",
    "sats_prof_model = NFWPhaseSpace()\n",
    "model_instance = HodModelFactory(centrals_occupation = cens_occ_model, centrals_profile = cens_prof_model, \n",
    "                                 satellites_occupation = sats_occ_model, satellites_profile = sats_prof_model)\n",
    "model_instance.populate_mock(halocat)\n",
    "\n",
    "mean_ncen_vml = cens_occ_model.mean_occupation(prim_haloprop=halocat.halo_table['vmax_ml'])\n",
    "mean_nsat_vml = sats_occ_model.mean_occupation(prim_haloprop=halocat.halo_table['vmax_ml'])"
   ]
  },
  {
   "cell_type": "code",
   "execution_count": 128,
   "metadata": {},
   "outputs": [],
   "source": [
    "cens_occ_model = Zheng07Cens(prim_haloprop_key = 'halo_vmax',threshold=threshold)\n",
    "cens_prof_model = TrivialPhaseSpace()\n",
    "sats_occ_model =  Zheng07Sats(prim_haloprop_key = 'halo_vmax',threshold=threshold)#, modulate_with_cenocc=True,threshold=threshold)\n",
    "sats_prof_model = NFWPhaseSpace()\n",
    "model_instance = HodModelFactory(centrals_occupation = cens_occ_model, centrals_profile = cens_prof_model, \n",
    "                                 satellites_occupation = sats_occ_model, satellites_profile = sats_prof_model)\n",
    "model_instance.populate_mock(halocat)\n",
    "\n",
    "mean_ncen_v = cens_occ_model.mean_occupation(table=halocat.halo_table)\n",
    "mean_nsat_v = sats_occ_model.mean_occupation(table=halocat.halo_table)"
   ]
  },
  {
   "cell_type": "code",
   "execution_count": 129,
   "metadata": {},
   "outputs": [
    {
     "data": {
      "text/plain": [
       "(0.1, 100)"
      ]
     },
     "execution_count": 129,
     "metadata": {},
     "output_type": "execute_result"
    },
    {
     "data": {
      "image/png": "[encoded data removed]",
      "text/plain": [
       "<Figure size 432x288 with 1 Axes>"
      ]
     },
     "metadata": {
      "needs_background": "light"
     },
     "output_type": "display_data"
    }
   ],
   "source": [
    "#plt.semilogy(vmax_ml[0:int(0.99e5)],mean_nsat[0:int(0.99e5)],ls='', marker='.')\n",
    "plt.semilogy(vmax_ml[0:int(0.99e5)],mean_nsat_v[0:int(0.99e5)],ls='', marker='.')\n",
    "plt.xscale('log')\n",
    "plt.ylim(0.1,100)"
   ]
  },
  {
   "cell_type": "markdown",
   "metadata": {},
   "source": [
    "Find Vmax cut off for TabCorr"
   ]
  },
  {
   "cell_type": "code",
   "execution_count": 24,
   "metadata": {},
   "outputs": [
    {
     "data": {
      "text/plain": [
       "<matplotlib.lines.Line2D at 0x11d07f690>"
      ]
     },
     "execution_count": 24,
     "metadata": {},
     "output_type": "execute_result"
    },
    {
     "data": {
      "image/png": "[encoded data removed]",
      "text/plain": [
       "<Figure size 432x288 with 1 Axes>"
      ]
     },
     "metadata": {
      "needs_background": "light"
     },
     "output_type": "display_data"
    }
   ],
   "source": [
    "bins = np.linspace(np.min(np.log10(vmax_ml[0:100000])),np.max(np.log10(vmax_ml[0:100000])),100)\n",
    "counts,bins,patches = plt.hist(np.log10(vmax_ml),bins=bins)\n",
    "plt.axvline(bins[np.where(counts == np.max(counts))],c='m')\n"
   ]
  },
  {
   "cell_type": "code",
   "execution_count": 25,
   "metadata": {},
   "outputs": [
    {
     "data": {
      "text/plain": [
       "array([5.07746568e+10])"
      ]
     },
     "execution_count": 25,
     "metadata": {},
     "output_type": "execute_result"
    }
   ],
   "source": [
    "10**(bins[np.where(counts == np.max(counts))])\n"
   ]
  },
  {
   "cell_type": "code",
   "execution_count": null,
   "metadata": {},
   "outputs": [],
   "source": []
  }
 ],
 "metadata": {
  "kernelspec": {
   "display_name": "Python 3",
   "language": "python",
   "name": "python3"
  },
  "language_info": {
   "codemirror_mode": {
    "name": "ipython",
    "version": 3
   },
   "file_extension": ".py",
   "mimetype": "text/x-python",
   "name": "python",
   "nbconvert_exporter": "python",
   "pygments_lexer": "ipython3",
   "version": "3.7.4"
  }
 },
 "nbformat": 4,
 "nbformat_minor": 4
}
