{
 "metadata": {
  "language_info": {
   "codemirror_mode": {
    "name": "ipython",
    "version": 3
   },
   "file_extension": ".py",
   "mimetype": "text/x-python",
   "name": "python",
   "nbconvert_exporter": "python",
   "pygments_lexer": "ipython3",
   "version": "3.7.4"
  },
  "orig_nbformat": 2,
  "kernelspec": {
   "name": "python3",
   "display_name": "Python 3.7.4 64-bit ('haloenv': conda)"
  },
  "interpreter": {
   "hash": "a5dc2ba1ee04c9422a6eb8390f85b9678d8705b25ef4b5085e93bcf6d8841bd2"
  }
 },
 "nbformat": 4,
 "nbformat_minor": 2,
 "cells": [
  {
   "cell_type": "code",
   "execution_count": 1,
   "source": [
    "from halotools.sim_manager import CachedHaloCatalog, FakeSim\n",
    "from halotools.empirical_models import PrebuiltHodModelFactory, Zheng07Cens, Zheng07Sats, TrivialPhaseSpace, NFWPhaseSpace, HodModelFactory\n",
    "from halotools.mock_observables import return_xyz_formatted_array,wp\n",
    "import numpy as np\n",
    "%matplotlib inline\n",
    "import matplotlib.pyplot as plt\n",
    "import time\n",
    "from multiprocessing import Pool, cpu_count\n",
    "import emcee\n",
    "#import corner\n",
    "#from Corrfunc.theory.wp import wp\n",
    "import MCMC_data_file\n",
    "from numpy.linalg import inv\n",
    "import scipy.optimize as op\n",
    "from scipy.stats import chi2\n",
    "import scipy.stats as stats\n",
    "import random\n",
    "import warnings\n",
    "warnings.filterwarnings(\"ignore\")\n",
    "from IPython.display import set_matplotlib_formats\n",
    "set_matplotlib_formats('retina')\n",
    "from scipy.special import gamma\n",
    "from scipy.stats import chisquare, gaussian_kde\n",
    "from tabcorr import TabCorr\n",
    "import numpy as np\n",
    "from os import walk\n",
    "import gc"
   ],
   "outputs": [
    {
     "output_type": "stream",
     "name": "stderr",
     "text": [
      "WARNING: AstropyDeprecationWarning: astropy.extern.six will be removed in 4.0, use the six module directly if it is still needed [astropy.extern.six]\n"
     ]
    }
   ],
   "metadata": {}
  },
  {
   "cell_type": "code",
   "execution_count": 10,
   "source": [
    "fname = 'zehavi_smdpl_mvir_m21_tabcorr_2.h5'\n",
    "wp_out_file = None#'zehavi_smdpl_mvir_m19_wp.npy'\n",
    "dname ='zehavi_data_file_20'\n",
    "param = 'combo'\n",
    "threshold = -20\n",
    "\n",
    "if '21' in dname:\n",
    "    import zehavi_data_file_21\n",
    "    print(dname)\n",
    "    wp_ng_vals = zehavi_data_file_21.get_wp()[0:12]\n",
    "    bin_edges = zehavi_data_file_21.get_bins()[0:12]\n",
    "    cov_matrix = zehavi_data_file_21.get_cov()[0:11,0:11]\n",
    "    err = np.array([cov_matrix[i,i] for i in range(len(cov_matrix))])\n",
    "    bin_cen = (bin_edges[1:]+bin_edges[:-1])/2.\n",
    "\n",
    "if '20' in dname:\n",
    "    import zehavi_data_file_20\n",
    "    wp_ng_vals = zehavi_data_file_20.get_wp()[0:12]\n",
    "    bin_edges = zehavi_data_file_20.get_bins()[0:12]\n",
    "    cov_matrix = zehavi_data_file_20.get_cov()[0:11,0:11]\n",
    "    err = np.array([cov_matrix[i,i] for i in range(len(cov_matrix))])\n",
    "    bin_cen = (bin_edges[1:]+bin_edges[:-1])/2.\n",
    "\n",
    "if '19' in dname:\n",
    "    import zehavi_data_file_19\n",
    "    print(dname)\n",
    "    wp_ng_vals = zehavi_data_file_19.get_wp()[0:12]\n",
    "    bin_edges = zehavi_data_file_19.get_bins()[0:12]\n",
    "    cov_matrix = zehavi_data_file_19.get_cov()[0:11,0:11]\n",
    "    err = np.array([cov_matrix[i,i] for i in range(len(cov_matrix))])\n",
    "    bin_cen = (bin_edges[1:]+bin_edges[:-1])/2."
   ],
   "outputs": [],
   "metadata": {}
  },
  {
   "cell_type": "code",
   "execution_count": 4,
   "source": [
    "halocat = CachedHaloCatalog(fname = '/Users/lmezini/.astropy/cache/halotools/halo_catalogs/SMDPL/rockstar/smdpl.dat.smdpl2.hdf5',update_cached_fname = True)\n",
    "halocat.redshift=0.\n",
    "ht = halocat.halo_table\n",
    "vmax_ml = 10**(np.log10(ht['halo_vmax'])*3.1069839419403174+5.015822745222037)\n",
    "ht.add_column(vmax_ml, name='vmax_ml')\n",
    "\n",
    "pi_max = 60.\n",
    "Lbox = 400.\n",
    "\n",
    "hmvir = halocat.halo_table['halo_mvir']\n",
    "hvmax = halocat.halo_table['vmax_ml']\n",
    "\n",
    "\n",
    "class TabNames(object):\n",
    "    def __init__(self, f):\n",
    "        self.f = f\n",
    "        self.a = float(f[:-5].split('combo_a')[1])\n",
    "        self.model_instance = _get_model_inst(self.a)\n",
    "\n",
    "def _get_model_inst(a):\n",
    "    halocat.halo_table.add_column((hmvir**a)*(hvmax**(1-a)),name='combo')\n",
    "\n",
    "    cens_occ_model = Zheng07Cens(prim_haloprop_key = 'combo',\n",
    "                                 threshold=threshold)\n",
    "    cens_prof_model = TrivialPhaseSpace()\n",
    "\n",
    "    sats_occ_model =  Zheng07Sats(prim_haloprop_key = 'combo',\n",
    "                                  modulate_with_cenocc=True,\n",
    "                                  threshold=threshold)\n",
    "    sats_prof_model = NFWPhaseSpace()\n",
    "\n",
    "    model_instance = HodModelFactory(centrals_occupation = cens_occ_model,\n",
    "                                     centrals_profile = cens_prof_model,\n",
    "                                     satellites_occupation = sats_occ_model,\n",
    "                                     satellites_profile = sats_prof_model)\n",
    "    del(halocat.halo_table['combo'])\n",
    "    return model_instance\n",
    "\n",
    "def _get_wp_ng(model_instance,f):\n",
    "    ngals,wp = TabCorr.read('/Users/lmezini/Halo/tabcorr_tables/{}'.format(f)).predict(model_instance)\n",
    "    return ngals,wp\n",
    "\n",
    "_, _, filenames = next(walk('/Users/lmezini/Halo/tabcorr_tables/'))\n",
    "tab_names = [TabNames(f) for f in filenames]\n",
    "mod_inst = [TabNames(f).model_instance for f in filenames]\n",
    "tab_names_dict = dict(zip(filenames, tab_names))\n",
    "mod_names_dict = dict(zip(filenames, mod_inst))\n",
    "\n",
    "gc.collect()"
   ],
   "outputs": [
    {
     "output_type": "execute_result",
     "data": {
      "text/plain": [
       "0"
      ]
     },
     "metadata": {},
     "execution_count": 4
    }
   ],
   "metadata": {}
  },
  {
   "cell_type": "code",
   "execution_count": 5,
   "source": [
    "def _get_wp_ng(model_instance,f):\n",
    "    ngals,wp = TabCorr.read('/Users/lmezini/Halo/tabcorr_tables/{}'.format(f)).predict(model_instance)\n",
    "    return ngals,wp"
   ],
   "outputs": [],
   "metadata": {}
  },
  {
   "cell_type": "code",
   "execution_count": 8,
   "source": [
    "halocat = CachedHaloCatalog(fname = '/Users/lmezini/.astropy/cache/halotools/halo_catalogs/SMDPL/rockstar/smdpl.dat.smdpl2.hdf5',update_cached_fname = True)\n",
    "halocat.redshift=0.\n",
    "ht = halocat.halo_table\n",
    "mvir = ht['halo_mvir']\n",
    "c = ht['halo_nfw_conc']\n",
    "hms = ht['halo_halfmass_scale']\n",
    "\n",
    "bin_num = 71\n",
    "bins=np.logspace(8,15.1,num=bin_num)\n",
    "d = []\n",
    "for i in range(1,bin_num):\n",
    "    mask = np.logical_and(mvir>bins[i-1],mvir<bins[i])\n",
    "    d.append((c[mask]-np.mean(c[mask]))/np.std(c[mask]))\n",
    "i = bin_num\n",
    "mask = np.where(mvir>bins[i-1])\n",
    "d.append((c[mask]-np.mean(c[mask]))/np.std(c[mask]))\n",
    "d = np.concatenate(d)\n",
    "A = -0.66784885\n",
    "halocat.halo_table.add_column(10**(np.log10(mvir)+(A*d)),name='combo')\n",
    "\n",
    "pi_max = 60.\n",
    "Lbox = 400.\n",
    "\n",
    "cens_occ_model = Zheng07Cens(prim_haloprop_key = 'combo',\n",
    "                                 threshold=threshold)\n",
    "cens_prof_model = TrivialPhaseSpace()\n",
    "\n",
    "sats_occ_model =  Zheng07Sats(prim_haloprop_key = 'combo',\n",
    "                                  modulate_with_cenocc=True,\n",
    "                                  threshold=threshold)\n",
    "sats_prof_model = NFWPhaseSpace()\n",
    "\n",
    "model_instance = HodModelFactory(centrals_occupation = cens_occ_model,\n",
    "                                     centrals_profile = cens_prof_model,\n",
    "                                     satellites_occupation = sats_occ_model,\n",
    "                                     satellites_profile = sats_prof_model)\n",
    "del(halocat.halo_table['combo'])"
   ],
   "outputs": [],
   "metadata": {}
  },
  {
   "cell_type": "code",
   "execution_count": 11,
   "source": [
    "param_sampling =[.015,11.889, 0.053, 0.976, 12.505, 12.505]\n"
   ],
   "outputs": [],
   "metadata": {}
  },
  {
   "cell_type": "code",
   "execution_count": 14,
   "source": [
    "plt.errorbar(bin_cen,wp_ng_vals[1:len(wp_ng_vals)],yerr=np.sqrt(err),fmt='o',markersize=2,capsize=4,label='data')\n",
    "for i in range(1):\n",
    "    #a = i/100.\n",
    "    a = param_sampling[0]\n",
    "    #print(a)\n",
    "    model_instance = mod_names_dict['smdpl_combo_a{}.hdf5'.format(round(a,2))]\n",
    "        #cens_occ_model = Zheng07Cens(threshold=threshold)\n",
    "        #cens_prof_model = TrivialPhaseSpace()\n",
    "\n",
    "        #sats_occ_model =  Zheng07Sats(modulate_with_cenocc=True,threshold=threshold)\n",
    "        #sats_prof_model = NFWPhaseSpace()\n",
    "\n",
    "        #model_instance = HodModelFactory(centrals_occupation = cens_occ_model,\n",
    "        #centrals_profile = cens_prof_model, satellites_occupation = sats_occ_model, \n",
    "        #satellites_profile = sats_prof_model)\n",
    "    print(param_sampling)\n",
    "    model_instance.param_dict['logMmin'] = param_sampling[1]#Mmin_val[i]\n",
    "    model_instance.param_dict['sigma_logM'] = param_sampling[2]#sigma_val[i]\n",
    "    model_instance.param_dict['alpha'] = param_sampling[3]#alpha_val[i]\n",
    "    model_instance.param_dict['logM0'] = param_sampling[4]#M0_val[i]\n",
    "    model_instance.param_dict['logM1'] = param_sampling[5]#M1_val[i]\n",
    "    a = 1.0\n",
    "    ngal,wp = _get_wp_ng(model_instance,'smdpl_combo_a{}.hdf5'.format(round(a,2)))\n",
    "    plt.plot(bin_cen,wp,markersize=2)#,label='Vmax')\n",
    "#plt.plot(bin_cen,oldfunc,label='Old Corrfunc')\n",
    "#plt.title(\"\")\n",
    "plt.legend()\n",
    "plt.ylabel('wp')\n",
    "plt.xlabel('rp')\n",
    "plt.tick_params(right=True)\n",
    "plt.xscale('log')\n",
    "plt.yscale('log')\n",
    "plt.grid()\n",
    "plt.title(fname)\n",
    "#plt.savefig('a_vs_wp.png')\n",
    "plt.title(\"{} M<{}\".format(param,threshold))\n",
    "#plt.savefig('wp_plot_{}_m{}.pdf'.format(param,threshold))"
   ],
   "outputs": [
    {
     "output_type": "stream",
     "name": "stdout",
     "text": [
      "[0.015, 11.889, 0.053, 0.976, 12.505, 12.505]\n"
     ]
    },
    {
     "output_type": "execute_result",
     "data": {
      "text/plain": [
       "Text(0.5, 1.0, 'combo M<-20')"
      ]
     },
     "metadata": {},
     "execution_count": 14
    },
    {
     "output_type": "display_data",
     "data": {
      "image/png": "[encoded data removed]",
      "text/plain": [
       "<Figure size 432x288 with 1 Axes>"
      ]
     },
     "metadata": {
      "image/png": {
       "width": 390,
       "height": 278
      },
      "needs_background": "light"
     }
    }
   ],
   "metadata": {}
  },
  {
   "cell_type": "code",
   "execution_count": 8,
   "source": [
    "a = 1.\n",
    "model_instance = _get_model_inst(a)\n",
    "a1_ngals, a1_wp = TabCorr.read('/Users/lmezini/Halo/tabcorr_tables/{}'.format('smdpl_combo_a1.0.hdf5')).predict(model_instance)"
   ],
   "outputs": [
    {
     "output_type": "stream",
     "name": "stdout",
     "text": [
      "-21\n"
     ]
    }
   ],
   "metadata": {}
  },
  {
   "cell_type": "code",
   "execution_count": 17,
   "source": [
    "a1_wp"
   ],
   "outputs": [
    {
     "output_type": "execute_result",
     "data": {
      "text/plain": [
       "array([862.73867897, 534.00670408, 321.96897692, 194.60689733,\n",
       "       120.13808987,  77.49532516,  53.09797376,  38.84055631,\n",
       "        26.97306332,  17.83261174,  10.23139115])"
      ]
     },
     "metadata": {},
     "execution_count": 17
    }
   ],
   "metadata": {}
  },
  {
   "cell_type": "code",
   "execution_count": 12,
   "source": [
    "\"\"\"\n",
    "del(ht['vmax_ml'])\n",
    "ht = halocat.halo_table\n",
    "vmax_ml = 10**(np.log10(ht['halo_vmax'])*3.1069839419403174+5.015822745222037)\n",
    "ht.add_column(vmax_ml, name='vmax_ml')\n",
    "cens_occ_model = Zheng07Cens(prim_haloprop_key = 'vmax_ml',threshold=threshold)\n",
    "cens_prof_model = TrivialPhaseSpace()\n",
    "\n",
    "sats_occ_model =  Zheng07Sats(prim_haloprop_key = 'vmax_ml', modulate_with_cenocc=True,threshold=threshold)\n",
    "sats_prof_model = NFWPhaseSpace()\n",
    "\n",
    "model_instance = HodModelFactory(centrals_occupation = cens_occ_model, centrals_profile = cens_prof_model, satellites_occupation = sats_occ_model, satellites_profile = sats_prof_model)\n",
    "\"\"\"\n",
    "cens_occ_model = Zheng07Cens(threshold=threshold)\n",
    "cens_prof_model = TrivialPhaseSpace()\n",
    "\n",
    "sats_occ_model =  Zheng07Sats(modulate_with_cenocc=True,threshold=threshold)\n",
    "sats_prof_model = NFWPhaseSpace()\n",
    "\n",
    "model_instance = HodModelFactory(centrals_occupation = cens_occ_model, centrals_profile = cens_prof_model, satellites_occupation = sats_occ_model, satellites_profile = sats_prof_model)"
   ],
   "outputs": [],
   "metadata": {}
  },
  {
   "cell_type": "code",
   "execution_count": 14,
   "source": [
    "ngals, wp = TabCorr.read('smdpl_halo_mvir.hdf5').predict(model_instance)"
   ],
   "outputs": [],
   "metadata": {}
  },
  {
   "cell_type": "code",
   "execution_count": 16,
   "source": [
    "wp"
   ],
   "outputs": [
    {
     "output_type": "execute_result",
     "data": {
      "text/plain": [
       "array([864.54091796, 533.78543688, 321.94574182, 194.73829736,\n",
       "       120.09692911,  77.42466483,  53.10866712,  38.83533469,\n",
       "        26.97674812,  17.83838629,  10.2306561 ])"
      ]
     },
     "metadata": {},
     "execution_count": 16
    }
   ],
   "metadata": {}
  },
  {
   "cell_type": "code",
   "execution_count": 21,
   "source": [
    "plt.loglog(bin_cen,wp)\n",
    "plt.loglog(bin_cen,a1_wp)"
   ],
   "outputs": [
    {
     "output_type": "execute_result",
     "data": {
      "text/plain": [
       "[<matplotlib.lines.Line2D at 0x1a1970fd90>]"
      ]
     },
     "metadata": {},
     "execution_count": 21
    },
    {
     "output_type": "display_data",
     "data": {
      "image/png": "[encoded data removed]",
      "text/plain": [
       "<Figure size 432x288 with 1 Axes>"
      ]
     },
     "metadata": {
      "image/png": {
       "width": 373,
       "height": 250
      },
      "needs_background": "light"
     }
    }
   ],
   "metadata": {}
  },
  {
   "cell_type": "code",
   "execution_count": null,
   "source": [],
   "outputs": [],
   "metadata": {}
  }
 ]
}