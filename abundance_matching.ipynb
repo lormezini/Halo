{
 "cells": [
  {
   "cell_type": "code",
   "execution_count": 21,
   "metadata": {},
   "outputs": [],
   "source": [
    "from halotools.empirical_models import PrebuiltSubhaloModelFactory\n",
    "from halotools.mock_observables import return_xyz_formatted_array,wp\n",
    "from halotools.sim_manager import FakeSim, CachedHaloCatalog\n",
    "import numpy as np\n",
    "%matplotlib inline\n",
    "import matplotlib.pyplot as plt\n",
    "#import corner\n",
    "from Corrfunc.theory.wp import wp\n",
    "from numpy.linalg import inv\n",
    "from scipy.stats import chi2\n",
    "import random\n",
    "import warnings\n",
    "warnings.filterwarnings(\"ignore\")\n",
    "from IPython.display import set_matplotlib_formats\n",
    "set_matplotlib_formats('retina')\n",
    "from numpy.linalg import inv\n",
    "import time"
   ]
  },
  {
   "cell_type": "code",
   "execution_count": 4,
   "metadata": {},
   "outputs": [],
   "source": [
    "from astropy.table import Table \n",
    "\n",
    "__all__ = ('add_new_table_column', )\n",
    "\n",
    "def add_new_table_column(table, new_colname, new_coltype, grouping_key,  \n",
    "    aggregation_function, colnames_needed_by_function, \n",
    "    sorting_keys = None, table_is_already_sorted = False):\n",
    "\n",
    "    assert type(table) == Table\n",
    "    assert new_colname not in table.keys()\n",
    "    assert grouping_key in table.keys()\n",
    "    assert callable(aggregation_function) is True\n",
    "    _ = iter(colnames_needed_by_function)\n",
    "    for colname in colnames_needed_by_function:\n",
    "        assert colname in table.keys()\n",
    "\n",
    "    if sorting_keys == None:\n",
    "        sorting_keys = [grouping_key]\n",
    "\n",
    "    _ = iter(sorting_keys)\n",
    "    for colname in sorting_keys:\n",
    "        assert colname in table.keys()\n",
    "    else:\n",
    "        assert sorting_keys[0] == grouping_key\n",
    "        \n",
    "    if table_is_already_sorted is False:\n",
    "        table.sort(sorting_keys)\n",
    "\n",
    "    group_ids_data, idx_groups_data, group_richness_data = np.unique(\n",
    "        table[grouping_key].data, \n",
    "        return_index = True, return_counts = True)\n",
    "\n",
    "    dt = np.dtype([(new_colname, new_coltype)])\n",
    "    \n",
    "    result = np.zeros(len(table), dtype=dt[new_colname])\n",
    "\n",
    "    func_arglist = [table[key].data for key in colnames_needed_by_function]\n",
    "\n",
    "    for igroup, host_halo_id in enumerate(group_ids_data):\n",
    "        first_igroup_idx = idx_groups_data[igroup]\n",
    "        last_igroup_idx = first_igroup_idx + group_richness_data[igroup]\n",
    "        group_data_list = [arg[first_igroup_idx:last_igroup_idx] for arg in func_arglist]\n",
    "        result[first_igroup_idx:last_igroup_idx] = aggregation_function(*group_data_list)\n",
    "\n",
    "    table[new_colname] = result"
   ]
  },
  {
   "cell_type": "code",
   "execution_count": 5,
   "metadata": {},
   "outputs": [],
   "source": [
    "add_new_param = True\n",
    "prop = 'combo'\n",
    "Lbox = 400\n",
    "pi_max = 60\n",
    "dname = 'zehavi_data_file_21'"
   ]
  },
  {
   "cell_type": "code",
   "execution_count": 6,
   "metadata": {},
   "outputs": [],
   "source": [
    "if '20' in dname:\n",
    "    print('20')\n",
    "    import zehavi_data_file_20\n",
    "    wp_ng_vals = zehavi_data_file_20.get_wp()[0:12]\n",
    "    bin_edges = zehavi_data_file_20.get_bins()[0:12]\n",
    "    cov_matrix = zehavi_data_file_20.get_cov()[0:11,0:11]\n",
    "    err = np.array([cov_matrix[i,i] for i in range(len(cov_matrix))])    \n",
    "    bin_cen = (bin_edges[1:]+bin_edges[:-1])/2.\n",
    "if '21' in dname:\n",
    "    import zehavi_data_file_21\n",
    "    wp_ng_vals = zehavi_data_file_21.get_wp()[0:12]\n",
    "    bin_edges = zehavi_data_file_21.get_bins()[0:12]\n",
    "    cov_matrix = zehavi_data_file_21.get_cov()[0:11,0:11]\n",
    "    err = np.array([cov_matrix[i,i] for i in range(len(cov_matrix))])\n",
    "    bin_cen = (bin_edges[1:]+bin_edges[:-1])/2.\n",
    "if '19' in dname:\n",
    "    import zehavi_data_file_19\n",
    "    wp_ng_vals = zehavi_data_file_19.get_wp()[0:12]\n",
    "    bin_edges = zehavi_data_file_19.get_bins()[0:12]\n",
    "    cov_matrix = zehavi_data_file_19.get_cov()[0:11,0:11]\n",
    "    err = np.array([cov_matrix[i,i] for i in range(len(cov_matrix))])\n",
    "    bin_cen = (bin_edges[1:]+bin_edges[:-1])/2."
   ]
  },
  {
   "cell_type": "code",
   "execution_count": 7,
   "metadata": {},
   "outputs": [],
   "source": [
    "halocat = CachedHaloCatalog(fname='/Users/lmezini/.astropy/cache/halotools/halo_catalogs/SMDPL/rockstar/smdpl.dat.smdpl2.hdf5')"
   ]
  },
  {
   "cell_type": "code",
   "execution_count": 34,
   "metadata": {},
   "outputs": [
    {
     "name": "stdout",
     "output_type": "stream",
     "text": [
      "36.07472586631775\n"
     ]
    }
   ],
   "source": [
    "time_last = time.time()\n",
    "del(halocat.halo_table['combo'])\n",
    "a = 0.5\n",
    "if add_new_param == True:\n",
    "    new_colname = 'combo'\n",
    "    new_coltype = 'f4'\n",
    "    grouping_key = 'halo_hostid'\n",
    "    def lin_combo_mass_vmax(mass, vmax):\n",
    "        return (mass**a)*(vmax**(1-a))\n",
    "    aggregation_function = lin_combo_mass_vmax\n",
    "    colnames_needed_by_function = ['halo_mvir','halo_vmax']\n",
    "    sorting_keys = ['halo_hostid', 'halo_upid']\n",
    "    add_new_table_column(halocat.halo_table, new_colname, new_coltype, grouping_key, \n",
    "                     aggregation_function, colnames_needed_by_function, \n",
    "                     sorting_keys=sorting_keys)\n",
    "time_now = time.time()\n",
    "print(time_now-time_last)"
   ]
  },
  {
   "cell_type": "code",
   "execution_count": 37,
   "metadata": {},
   "outputs": [
    {
     "name": "stdout",
     "output_type": "stream",
     "text": [
      "0.04148507118225098\n"
     ]
    }
   ],
   "source": [
    "time_last=time.time()\n",
    "del(halocat.halo_table['combo'])\n",
    "a=.5\n",
    "halocat.halo_table.add_column((halocat.halo_table['halo_mvir']**a)*(halocat.halo_table['halo_vmax']**(1-a)),name='combo')\n",
    "print(time.time()-time_last)"
   ]
  },
  {
   "cell_type": "code",
   "execution_count": 35,
   "metadata": {},
   "outputs": [
    {
     "data": {
      "text/plain": [
       "1324703.1"
      ]
     },
     "execution_count": 35,
     "metadata": {},
     "output_type": "execute_result"
    }
   ],
   "source": [
    "halocat.halo_table['combo'][0]"
   ]
  },
  {
   "cell_type": "code",
   "execution_count": 36,
   "metadata": {},
   "outputs": [
    {
     "name": "stdout",
     "output_type": "stream",
     "text": [
      "1324703.1\n",
      "1324703.1\n"
     ]
    }
   ],
   "source": [
    "print((halocat.halo_table['combo'])[0])\n",
    "print(((halocat.halo_table['halo_mvir']**a)*(halocat.halo_table['halo_vmax']**(1-a)))[0])"
   ]
  },
  {
   "cell_type": "code",
   "execution_count": 33,
   "metadata": {},
   "outputs": [
    {
     "data": {
      "text/html": [
       "&lt;Column name=&apos;halo_mvir&apos; dtype=&apos;float32&apos; length=8693934&gt;\n",
       "<table>\n",
       "<tr><td>1324703.1</td></tr>\n",
       "<tr><td>2681352.0</td></tr>\n",
       "<tr><td>1117474.8</td></tr>\n",
       "<tr><td>1466933.4</td></tr>\n",
       "<tr><td>1309029.0</td></tr>\n",
       "<tr><td>4100381.0</td></tr>\n",
       "<tr><td>905482.94</td></tr>\n",
       "<tr><td>1185244.1</td></tr>\n",
       "<tr><td>1379936.9</td></tr>\n",
       "<tr><td>1390469.0</td></tr>\n",
       "<tr><td>2802228.0</td></tr>\n",
       "<tr><td>2726279.0</td></tr>\n",
       "<tr><td>...</td></tr>\n",
       "<tr><td>42784.984</td></tr>\n",
       "<tr><td>45236.797</td></tr>\n",
       "<tr><td>42807.5</td></tr>\n",
       "<tr><td>43543.883</td></tr>\n",
       "<tr><td>46372.625</td></tr>\n",
       "<tr><td>44744.266</td></tr>\n",
       "<tr><td>44463.46</td></tr>\n",
       "<tr><td>44115.406</td></tr>\n",
       "<tr><td>44787.305</td></tr>\n",
       "<tr><td>43121.438</td></tr>\n",
       "<tr><td>43009.582</td></tr>\n",
       "<tr><td>41620.703</td></tr>\n",
       "</table>"
      ],
      "text/plain": [
       "<Column name='halo_mvir' dtype='float32' length=8693934>\n",
       "1324703.1\n",
       "2681352.0\n",
       "1117474.8\n",
       "1466933.4\n",
       "1309029.0\n",
       "4100381.0\n",
       "905482.94\n",
       "1185244.1\n",
       "1379936.9\n",
       "1390469.0\n",
       "2802228.0\n",
       "2726279.0\n",
       "      ...\n",
       "42784.984\n",
       "45236.797\n",
       "  42807.5\n",
       "43543.883\n",
       "46372.625\n",
       "44744.266\n",
       " 44463.46\n",
       "44115.406\n",
       "44787.305\n",
       "43121.438\n",
       "43009.582\n",
       "41620.703"
      ]
     },
     "execution_count": 33,
     "metadata": {},
     "output_type": "execute_result"
    }
   ],
   "source": [
    "(halocat.halo_table['halo_mvir']**0.5)*(halocat.halo_table['halo_vmax']**(1-a))"
   ]
  },
  {
   "cell_type": "code",
   "execution_count": 97,
   "metadata": {},
   "outputs": [
    {
     "data": {
      "text/plain": [
       "\"\\nmodel_instance = PrebuiltSubhaloModelFactory('behroozi10', redshift = 0, prim_haloprop_key=prop)\\nmodel_instance.populate_mock(halocat)\\ngt = model_instance.mock.galaxy_table\\npos = return_xyz_formatted_array(gt['x'], gt['y'], gt['z'],period = Lbox)\\nx = pos[:,0]\\ny = pos[:,1]\\nz = pos[:,2]\\nvelz = gt['vz']\\npos_zdist = return_xyz_formatted_array(x,y,z, period = Lbox, velocity=velz, velocity_distortion_dimension='z')\\nmod = wp(Lbox,pi_max,1,bin_edges,pos_zdist[:,0],pos_zdist[:,1],pos_zdist[:,2],verbose=True)\\n\""
      ]
     },
     "execution_count": 97,
     "metadata": {},
     "output_type": "execute_result"
    }
   ],
   "source": [
    "\"\"\"\n",
    "model_instance = PrebuiltSubhaloModelFactory('behroozi10', redshift = 0, prim_haloprop_key=prop)\n",
    "model_instance.populate_mock(halocat)\n",
    "gt = model_instance.mock.galaxy_table\n",
    "pos = return_xyz_formatted_array(gt['x'], gt['y'], gt['z'],period = Lbox)\n",
    "x = pos[:,0]\n",
    "y = pos[:,1]\n",
    "z = pos[:,2]\n",
    "velz = gt['vz']\n",
    "pos_zdist = return_xyz_formatted_array(x,y,z, period = Lbox, velocity=velz, velocity_distortion_dimension='z')\n",
    "mod = wp(Lbox,pi_max,1,bin_edges,pos_zdist[:,0],pos_zdist[:,1],pos_zdist[:,2],verbose=True)\n",
    "\"\"\""
   ]
  },
  {
   "cell_type": "code",
   "execution_count": 98,
   "metadata": {},
   "outputs": [
    {
     "data": {
      "text/plain": [
       "74240"
      ]
     },
     "execution_count": 98,
     "metadata": {},
     "output_type": "execute_result"
    }
   ],
   "source": [
    "N = int(Lbox**3*wp_ng_vals[0])\n",
    "N"
   ]
  },
  {
   "cell_type": "code",
   "execution_count": 99,
   "metadata": {},
   "outputs": [],
   "source": [
    "ht=halocat.halo_table\n",
    "\n",
    "ht[0]\n",
    "sort_ht = ht[np.argsort(ht[prop])[::-1]][0:N]"
   ]
  },
  {
   "cell_type": "code",
   "execution_count": 100,
   "metadata": {},
   "outputs": [
    {
     "data": {
      "image/png": "[encoded data removed]",
      "text/plain": [
       "<Figure size 432x288 with 1 Axes>"
      ]
     },
     "metadata": {
      "image/png": {
       "height": 248,
       "width": 382
      },
      "needs_background": "light"
     },
     "output_type": "display_data"
    }
   ],
   "source": [
    "hist = plt.hist(sort_ht[prop],bins = 1000)\n",
    "plt.show()\n",
    "counts = hist[0]"
   ]
  },
  {
   "cell_type": "code",
   "execution_count": 101,
   "metadata": {
    "scrolled": true
   },
   "outputs": [
    {
     "data": {
      "image/png": "[encoded data removed]",
      "text/plain": [
       "<Figure size 432x288 with 1 Axes>"
      ]
     },
     "metadata": {
      "image/png": {
       "height": 249,
       "width": 378
      },
      "needs_background": "light"
     },
     "output_type": "display_data"
    }
   ],
   "source": [
    "mass=np.linspace(min(sort_ht[prop]),max(sort_ht[prop]),1000)\n",
    "plt.plot(mass,counts)\n",
    "plt.xscale('log')\n",
    "plt.yscale('log')"
   ]
  },
  {
   "cell_type": "code",
   "execution_count": 102,
   "metadata": {},
   "outputs": [
    {
     "name": "stderr",
     "output_type": "stream",
     "text": [
      "In gridlink_float> Running with [nmesh_x, nmesh_y, nmesh_z]  = 38,38,6.  Time taken =   0.014 sec\n",
      "0%.........10%.........20%.........30%.........40%.........50%.........60%.........70%.........80%.........90%.........100% done. Time taken =  0.238 secs\n"
     ]
    }
   ],
   "source": [
    "pos = return_xyz_formatted_array(sort_ht['halo_x'], sort_ht['halo_y'],\n",
    "                                 sort_ht['halo_z'],period = Lbox)\n",
    "x = pos[:,0]\n",
    "y = pos[:,1]\n",
    "z = pos[:,2]\n",
    "velz = sort_ht['halo_vz']\n",
    "pos_zdist = return_xyz_formatted_array(x,y,z, period = Lbox, velocity=velz, velocity_distortion_dimension='z')\n",
    "mod = wp(Lbox,pi_max,1,bin_edges,pos_zdist[:,0],pos_zdist[:,1],pos_zdist[:,2],verbose=True)"
   ]
  },
  {
   "cell_type": "code",
   "execution_count": 103,
   "metadata": {},
   "outputs": [
    {
     "data": {
      "image/png": "[encoded data removed]",
      "text/plain": [
       "<Figure size 432x288 with 1 Axes>"
      ]
     },
     "metadata": {
      "image/png": {
       "height": 249,
       "width": 373
      },
      "needs_background": "light"
     },
     "output_type": "display_data"
    }
   ],
   "source": [
    "plt.errorbar(bin_cen,wp_ng_vals[1:len(wp_ng_vals)],yerr=np.sqrt(err),fmt='o',markersize=2,capsize=4,label='data')\n",
    "plt.plot(bin_cen,mod['wp'])\n",
    "plt.xscale('log')\n",
    "plt.yscale('log')"
   ]
  },
  {
   "cell_type": "code",
   "execution_count": 104,
   "metadata": {},
   "outputs": [],
   "source": [
    "\n",
    "def calc_chi2(obs,exp,var):\n",
    "    chi2s = []\n",
    "    for wp in obs:\n",
    "        diff = wp-exp\n",
    "        chi2 = np.sum(diff**2/var)\n",
    "        chi2s.append(round(chi2,7))\n",
    "        \n",
    "    return chi2s"
   ]
  },
  {
   "cell_type": "code",
   "execution_count": 105,
   "metadata": {},
   "outputs": [
    {
     "data": {
      "text/plain": [
       "54.28517551428571"
      ]
     },
     "execution_count": 105,
     "metadata": {},
     "output_type": "execute_result"
    }
   ],
   "source": [
    "chi2s = []\n",
    "diff = mod['wp']-wp_ng_vals[1:12]\n",
    "chi2 = np.sum(diff**2/err)\n",
    "chi2s.append(round(chi2,7))\n",
    "chi2s[0]/7"
   ]
  },
  {
   "cell_type": "code",
   "execution_count": 106,
   "metadata": {},
   "outputs": [
    {
     "name": "stdout",
     "output_type": "stream",
     "text": [
      "-124.21980428958113\n"
     ]
    }
   ],
   "source": [
    "wp_dev = mod['wp']-wp_ng_vals[1:12]\n",
    "wplike = -0.5*np.dot(np.dot(wp_dev,inv(cov_matrix)), wp_dev)\n",
    "print(wplike)\n"
   ]
  },
  {
   "cell_type": "code",
   "execution_count": null,
   "metadata": {},
   "outputs": [],
   "source": []
  },
  {
   "cell_type": "code",
   "execution_count": null,
   "metadata": {},
   "outputs": [],
   "source": []
  }
 ],
 "metadata": {
  "kernelspec": {
   "display_name": "Python 3",
   "language": "python",
   "name": "python3"
  },
  "language_info": {
   "codemirror_mode": {
    "name": "ipython",
    "version": 3
   },
   "file_extension": ".py",
   "mimetype": "text/x-python",
   "name": "python",
   "nbconvert_exporter": "python",
   "pygments_lexer": "ipython3",
   "version": "3.7.4"
  }
 },
 "nbformat": 4,
 "nbformat_minor": 4
}
