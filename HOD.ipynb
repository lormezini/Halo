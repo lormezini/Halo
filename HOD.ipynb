{
 "cells": [
  {
   "cell_type": "code",
   "execution_count": 155,
   "metadata": {
    "scrolled": true
   },
   "outputs": [],
   "source": [
    "from halotools.sim_manager import CachedHaloCatalog, FakeSim\n",
    "from halotools.empirical_models import PrebuiltHodModelFactory, Zheng07Cens, Zheng07Sats, TrivialPhaseSpace, NFWPhaseSpace, HodModelFactory\n",
    "from halotools.mock_observables import return_xyz_formatted_array\n",
    "import numpy as np\n",
    "%matplotlib inline\n",
    "import matplotlib.pyplot as plt\n",
    "from numpy.linalg import inv\n",
    "import astropy"
   ]
  },
  {
   "cell_type": "code",
   "execution_count": 2,
   "metadata": {},
   "outputs": [],
   "source": [
    "#halocat = CachedHaloCatalog(simname='bolplanck',redshift = 0.0)\n",
    "halocat = CachedHaloCatalog(fname = '/Users/lmezini/.astropy/cache/halotools/halo_catalogs/bolplanck/rockstar/hlist_1.00231.list.halotools_v0p4.hdf5',update_cached_fname = True)\n",
    "#halocat = CachedHaloCatalog(fname = '/Users/lmezini/Downloads/hlist_1.00231.list.halotools_v0p1.hdf5',update_cached_fname = True)\n",
    "#halocat = CachedHaloCatalog(fname='/Users/lmezini/.astropy/cache/halotools/halo_catalogs/SMDPL/rockstar/2019-07-03-18-38-02-9731.dat.my_cosmosim_halos.hdf5')\n",
    "halocat.redshift = 0.\n",
    "#cens_occ_model.param_dict['logMmin'] = param_samples[i][0]#Mmin_val[i]\n",
    "#cens_occ_model.param_dict['sigma_logM'] = param_samples[i][1]#sigma_val[i]\n",
    "#sats_occ_model.param_dict['alpha'] = param_samples[i][2]#alpha_val[i]\n",
    "#sats_occ_model.param_dict['logM0'] = param_samples[i][3]#M0_val[i]\n",
    "#sats_occ_model.param_dict['logM1'] = param_samples[i][4]#M1_val[i]\n",
    "#model_instance = HodModelFactory(centrals_occupation = cens_occ_model, centrals_profile = cens_prof_model, \n",
    "#                            satellites_occupation = sats_occ_model, satellites_profile = sats_prof_model)"
   ]
  },
  {
   "cell_type": "code",
   "execution_count": 396,
   "metadata": {},
   "outputs": [],
   "source": [
    "model = PrebuiltHodModelFactory('zheng07',threshold=-20,z=0)\n",
    "model.param_dict['logMmin'] = 12.24\n",
    "model.param_dict['sigma_logM'] = 0.84\n",
    "model.param_dict['alpha'] = 1.05\n",
    "model.param_dict['logM0'] = 12.19583311183421\n",
    "model.param_dict['logM1'] = 13.19\n",
    "halo_mass = np.logspace(10, 15, 200)\n",
    "mean_ncen = model.mean_occupation_centrals(prim_haloprop = halo_mass)\n",
    "mean_nsat = model.mean_occupation_satellites(prim_haloprop = halo_mass)"
   ]
  },
  {
   "cell_type": "code",
   "execution_count": 389,
   "metadata": {},
   "outputs": [
    {
     "data": {
      "text/plain": [
       "(10000000000, 10000000000000000)"
      ]
     },
     "execution_count": 389,
     "metadata": {},
     "output_type": "execute_result"
    },
    {
     "data": {
      "image/png": "[encoded data removed]",
      "text/plain": [
       "<matplotlib.figure.Figure at 0x1a2c23d898>"
      ]
     },
     "metadata": {},
     "output_type": "display_data"
    }
   ],
   "source": [
    "plt.loglog(halo_mass,mean_ncen)\n",
    "plt.loglog(halo_mass,mean_nsat)\n",
    "plt.ylim(0.001,1000)\n",
    "plt.xlim(10**10,10**16)"
   ]
  },
  {
   "cell_type": "code",
   "execution_count": 380,
   "metadata": {},
   "outputs": [],
   "source": [
    "for i in range(1):\n",
    "    model.populate_mock(halocat = halocat)\n",
    "    halo_table = model.mock.halo_table\n",
    "    gal_table = model.mock.galaxy_table\n",
    "    data=np.zeros(len(halo_table))\n",
    "    #col = astropy.table.Column(name='Ngals',data=np.zeros(len(halo_table)))\n",
    "    #halo_table.add_column(col,rename_duplicate=True)\n",
    "    for j in range(len(halo_table)):\n",
    "        mask=gal_table['halo_hostid']==halo_table['halo_hostid'][j]\n",
    "        data[j]+=len(gal_table[mask])\n",
    "    col = astropy.table.Column(name='Ngals',data=data)\n",
    "    halo_table.add_column(col,rename_duplicate=True)"
   ]
  },
  {
   "cell_type": "code",
   "execution_count": 381,
   "metadata": {},
   "outputs": [
    {
     "data": {
      "text/html": [
       "<i>Table length=997674</i>\n",
       "<table id=\"table112359103008\" class=\"table-striped table-bordered table-condensed\">\n",
       "<thead><tr><th>halo_rvir</th><th>halo_hostid</th><th>halo_y</th><th>halo_vz</th><th>halo_upid</th><th>halo_vy</th><th>halo_mvir</th><th>halo_x</th><th>halo_vx</th><th>halo_id</th><th>halo_z</th><th>conc_NFWmodel</th><th>halo_num_centrals</th><th>halo_num_satellites</th><th>Ngals</th></tr></thead>\n",
       "<thead><tr><th>float32</th><th>int64</th><th>float32</th><th>float32</th><th>int64</th><th>float32</th><th>float32</th><th>float32</th><th>float32</th><th>int64</th><th>float32</th><th>float32</th><th>int64</th><th>int64</th><th>float64</th></tr></thead>\n",
       "<tr><td>1.190447</td><td>2811042639</td><td>43.14082</td><td>-78.88</td><td>-1</td><td>8.51</td><td>200800000000000.0</td><td>36.17984</td><td>16.1</td><td>2811042639</td><td>17.96339</td><td>8.629367</td><td>1</td><td>19</td><td>20.0</td></tr>\n",
       "<tr><td>1.146849</td><td>2811055606</td><td>49.54417</td><td>-128.08</td><td>-1</td><td>264.77</td><td>179600000000000.0</td><td>45.36644</td><td>2.46</td><td>2811055606</td><td>40.01593</td><td>6.172326</td><td>1</td><td>10</td><td>11.0</td></tr>\n",
       "<tr><td>1.029343</td><td>2809250167</td><td>13.88261</td><td>-35.19</td><td>-1</td><td>124.89</td><td>129800000000000.0</td><td>22.02318</td><td>18.49</td><td>2809250167</td><td>9.80153</td><td>8.628624</td><td>1</td><td>9</td><td>10.0</td></tr>\n",
       "<tr><td>0.952978</td><td>2809483946</td><td>36.67881</td><td>-391.28</td><td>-1</td><td>-115.39</td><td>103000000000000.0</td><td>12.29788</td><td>-281.37</td><td>2809483946</td><td>34.18085</td><td>7.201309</td><td>1</td><td>5</td><td>6.0</td></tr>\n",
       "<tr><td>0.941893</td><td>2809272603</td><td>26.12877</td><td>-171.47</td><td>-1</td><td>292.95</td><td>99470000000000.0</td><td>10.66037</td><td>-43.87</td><td>2809272603</td><td>22.5009</td><td>6.691006</td><td>1</td><td>9</td><td>10.0</td></tr>\n",
       "<tr><td>0.92767197</td><td>2809261554</td><td>29.5494</td><td>224.59</td><td>-1</td><td>229.38</td><td>95030000000000.0</td><td>1.93592</td><td>281.14</td><td>2809261554</td><td>18.1172</td><td>9.261161</td><td>1</td><td>6</td><td>7.0</td></tr>\n",
       "<tr><td>0.905182</td><td>2809285813</td><td>24.66325</td><td>-470.92</td><td>-1</td><td>208.72</td><td>88290000000000.0</td><td>14.82678</td><td>-85.39</td><td>2809285813</td><td>38.86248</td><td>5.741282</td><td>1</td><td>6</td><td>7.0</td></tr>\n",
       "<tr><td>0.897055</td><td>2809273410</td><td>25.64953</td><td>-194.93</td><td>-1</td><td>199.12</td><td>85930000000000.0</td><td>15.10384</td><td>-365.37</td><td>2809273410</td><td>23.68184</td><td>9.21493</td><td>1</td><td>6</td><td>7.0</td></tr>\n",
       "<tr><td>0.88608897</td><td>2809284998</td><td>33.33908</td><td>-407.85</td><td>-1</td><td>275.28</td><td>82820000000000.0</td><td>10.49368</td><td>-44.45</td><td>2809284998</td><td>33.39198</td><td>7.291233</td><td>1</td><td>4</td><td>5.0</td></tr>\n",
       "<tr><td>0.885411</td><td>2810866534</td><td>6.28848</td><td>30.36</td><td>-1</td><td>139.39</td><td>82630000000000.0</td><td>46.21854</td><td>-255.78</td><td>2810866534</td><td>41.9007</td><td>5.953624</td><td>1</td><td>3</td><td>4.0</td></tr>\n",
       "<tr><td>...</td><td>...</td><td>...</td><td>...</td><td>...</td><td>...</td><td>...</td><td>...</td><td>...</td><td>...</td><td>...</td><td>...</td><td>...</td><td>...</td><td>...</td></tr>\n",
       "<tr><td>0.073176004</td><td>2821894532</td><td>226.36073</td><td>740.22</td><td>-1</td><td>-8.31</td><td>46640000000.0</td><td>238.23843</td><td>807.89</td><td>2821894532</td><td>216.52681</td><td>20.0</td><td>0</td><td>0</td><td>0.0</td></tr>\n",
       "<tr><td>0.073176004</td><td>2821904174</td><td>223.85786</td><td>-98.68</td><td>-1</td><td>285.59</td><td>46640000000.0</td><td>233.71004</td><td>585.69</td><td>2821904174</td><td>220.6705</td><td>20.0</td><td>0</td><td>0</td><td>0.0</td></tr>\n",
       "<tr><td>0.073176004</td><td>2821914349</td><td>221.36002</td><td>-215.07</td><td>-1</td><td>221.75</td><td>46640000000.0</td><td>230.52281</td><td>492.67</td><td>2821914349</td><td>227.1258</td><td>3.3887193</td><td>0</td><td>0</td><td>0.0</td></tr>\n",
       "<tr><td>0.073176004</td><td>2821914404</td><td>221.75444</td><td>-528.05</td><td>-1</td><td>-609.81</td><td>46640000000.0</td><td>241.8921</td><td>49.96</td><td>2821914404</td><td>224.72865</td><td>20.0</td><td>1</td><td>0</td><td>1.0</td></tr>\n",
       "<tr><td>0.073176004</td><td>2821927449</td><td>234.3413</td><td>-17.26</td><td>-1</td><td>6.12</td><td>46640000000.0</td><td>232.4922</td><td>227.96</td><td>2821927449</td><td>236.1637</td><td>20.0</td><td>0</td><td>0</td><td>0.0</td></tr>\n",
       "<tr><td>0.073176004</td><td>2821927592</td><td>243.48218</td><td>-249.7</td><td>-1</td><td>-38.19</td><td>46640000000.0</td><td>229.93344</td><td>111.07</td><td>2821927592</td><td>242.03357</td><td>20.0</td><td>0</td><td>0</td><td>0.0</td></tr>\n",
       "<tr><td>0.073176004</td><td>2821927640</td><td>232.85413</td><td>-134.53</td><td>-1</td><td>75.39</td><td>46640000000.0</td><td>233.70729</td><td>170.05</td><td>2821927640</td><td>236.16087</td><td>12.990592</td><td>0</td><td>0</td><td>0.0</td></tr>\n",
       "<tr><td>0.073176004</td><td>2821927641</td><td>230.95886</td><td>-131.9</td><td>-1</td><td>-55.69</td><td>46640000000.0</td><td>230.62964</td><td>151.72</td><td>2821927641</td><td>246.07632</td><td>9.524405</td><td>0</td><td>0</td><td>0.0</td></tr>\n",
       "<tr><td>0.073176004</td><td>2821927646</td><td>229.64093</td><td>-418.45</td><td>-1</td><td>210.79</td><td>46640000000.0</td><td>243.6741</td><td>187.77</td><td>2821927646</td><td>246.64125</td><td>16.986073</td><td>0</td><td>0</td><td>0.0</td></tr>\n",
       "<tr><td>0.073176004</td><td>2821927704</td><td>223.67229</td><td>-308.9</td><td>-1</td><td>424.42</td><td>46640000000.0</td><td>226.82452</td><td>307.34</td><td>2821927704</td><td>241.71797</td><td>11.067151</td><td>0</td><td>0</td><td>0.0</td></tr>\n",
       "</table>"
      ],
      "text/plain": [
       "<Table length=997674>\n",
       " halo_rvir  halo_hostid   halo_y  ... halo_num_satellites  Ngals \n",
       "  float32      int64     float32  ...        int64        float64\n",
       "----------- ----------- --------- ... ------------------- -------\n",
       "   1.190447  2811042639  43.14082 ...                  19    20.0\n",
       "   1.146849  2811055606  49.54417 ...                  10    11.0\n",
       "   1.029343  2809250167  13.88261 ...                   9    10.0\n",
       "   0.952978  2809483946  36.67881 ...                   5     6.0\n",
       "   0.941893  2809272603  26.12877 ...                   9    10.0\n",
       " 0.92767197  2809261554   29.5494 ...                   6     7.0\n",
       "   0.905182  2809285813  24.66325 ...                   6     7.0\n",
       "   0.897055  2809273410  25.64953 ...                   6     7.0\n",
       " 0.88608897  2809284998  33.33908 ...                   4     5.0\n",
       "   0.885411  2810866534   6.28848 ...                   3     4.0\n",
       "        ...         ...       ... ...                 ...     ...\n",
       "0.073176004  2821894532 226.36073 ...                   0     0.0\n",
       "0.073176004  2821904174 223.85786 ...                   0     0.0\n",
       "0.073176004  2821914349 221.36002 ...                   0     0.0\n",
       "0.073176004  2821914404 221.75444 ...                   0     1.0\n",
       "0.073176004  2821927449  234.3413 ...                   0     0.0\n",
       "0.073176004  2821927592 243.48218 ...                   0     0.0\n",
       "0.073176004  2821927640 232.85413 ...                   0     0.0\n",
       "0.073176004  2821927641 230.95886 ...                   0     0.0\n",
       "0.073176004  2821927646 229.64093 ...                   0     0.0\n",
       "0.073176004  2821927704 223.67229 ...                   0     0.0"
      ]
     },
     "execution_count": 381,
     "metadata": {},
     "output_type": "execute_result"
    }
   ],
   "source": [
    "halo_table"
   ]
  },
  {
   "cell_type": "code",
   "execution_count": 382,
   "metadata": {},
   "outputs": [],
   "source": [
    "#hist,bins=np.histogram(halo_mass,bins=200)\n",
    "mhist,mbins = np.histogram(halo_table['halo_mvir'],np.logspace(10, 15, 201))"
   ]
  },
  {
   "cell_type": "code",
   "execution_count": 383,
   "metadata": {},
   "outputs": [],
   "source": [
    "def mass_mask(m_arr, lower, upper):\n",
    "    return np.logical_and(m_arr<upper, m_arr>=lower)"
   ]
  },
  {
   "cell_type": "code",
   "execution_count": 406,
   "metadata": {},
   "outputs": [
    {
     "ename": "KeyError",
     "evalue": "'Ngals'",
     "output_type": "error",
     "traceback": [
      "\u001b[0;31m---------------------------------------------------------------------------\u001b[0m",
      "\u001b[0;31mKeyError\u001b[0m                                  Traceback (most recent call last)",
      "\u001b[0;32m<ipython-input-406-d87e1d3e435f>\u001b[0m in \u001b[0;36m<module>\u001b[0;34m()\u001b[0m\n\u001b[1;32m      1\u001b[0m \u001b[0mmock_mean_ntot\u001b[0m \u001b[0;34m=\u001b[0m \u001b[0mnp\u001b[0m\u001b[0;34m.\u001b[0m\u001b[0mzeros\u001b[0m\u001b[0;34m(\u001b[0m\u001b[0;36m200\u001b[0m\u001b[0;34m)\u001b[0m\u001b[0;34m\u001b[0m\u001b[0m\n\u001b[1;32m      2\u001b[0m \u001b[0;32mfor\u001b[0m \u001b[0mi\u001b[0m \u001b[0;32min\u001b[0m \u001b[0mrange\u001b[0m\u001b[0;34m(\u001b[0m\u001b[0;36m200\u001b[0m\u001b[0;34m)\u001b[0m\u001b[0;34m:\u001b[0m\u001b[0;34m\u001b[0m\u001b[0m\n\u001b[0;32m----> 3\u001b[0;31m     \u001b[0mmock_mean_ntot\u001b[0m\u001b[0;34m[\u001b[0m\u001b[0mi\u001b[0m\u001b[0;34m]\u001b[0m \u001b[0;34m=\u001b[0m \u001b[0mnp\u001b[0m\u001b[0;34m.\u001b[0m\u001b[0msum\u001b[0m\u001b[0;34m(\u001b[0m\u001b[0mhalo_table\u001b[0m\u001b[0;34m[\u001b[0m\u001b[0;34m'Ngals'\u001b[0m\u001b[0;34m]\u001b[0m\u001b[0;34m[\u001b[0m\u001b[0mmass_mask\u001b[0m\u001b[0;34m(\u001b[0m\u001b[0mhalo_table\u001b[0m\u001b[0;34m[\u001b[0m\u001b[0;34m'halo_mvir'\u001b[0m\u001b[0;34m]\u001b[0m\u001b[0;34m,\u001b[0m \u001b[0mmbins\u001b[0m\u001b[0;34m[\u001b[0m\u001b[0mi\u001b[0m\u001b[0;34m]\u001b[0m\u001b[0;34m,\u001b[0m \u001b[0mmbins\u001b[0m\u001b[0;34m[\u001b[0m\u001b[0mi\u001b[0m\u001b[0;34m+\u001b[0m\u001b[0;36m1\u001b[0m\u001b[0;34m]\u001b[0m\u001b[0;34m)\u001b[0m\u001b[0;34m]\u001b[0m\u001b[0;34m)\u001b[0m\u001b[0;34m\u001b[0m\u001b[0m\n\u001b[0m\u001b[1;32m      4\u001b[0m \"\"\"\n\u001b[1;32m      5\u001b[0m \u001b[0mmock_mean_ntot\u001b[0m\u001b[0;34m[\u001b[0m\u001b[0;36m0\u001b[0m\u001b[0;34m]\u001b[0m\u001b[0;34m+=\u001b[0m\u001b[0mnp\u001b[0m\u001b[0;34m.\u001b[0m\u001b[0msum\u001b[0m\u001b[0;34m(\u001b[0m\u001b[0mhalo_table\u001b[0m\u001b[0;34m[\u001b[0m\u001b[0;34m'Ngals'\u001b[0m\u001b[0;34m]\u001b[0m\u001b[0;34m[\u001b[0m\u001b[0;36m0\u001b[0m\u001b[0;34m:\u001b[0m\u001b[0mmhist\u001b[0m\u001b[0;34m[\u001b[0m\u001b[0;36m0\u001b[0m\u001b[0;34m]\u001b[0m\u001b[0;34m]\u001b[0m\u001b[0;34m)\u001b[0m\u001b[0;34m\u001b[0m\u001b[0m\n",
      "\u001b[0;32m/anaconda3/lib/python3.6/site-packages/astropy/table/table.py\u001b[0m in \u001b[0;36m__getitem__\u001b[0;34m(self, item)\u001b[0m\n\u001b[1;32m   1223\u001b[0m     \u001b[0;32mdef\u001b[0m \u001b[0m__getitem__\u001b[0m\u001b[0;34m(\u001b[0m\u001b[0mself\u001b[0m\u001b[0;34m,\u001b[0m \u001b[0mitem\u001b[0m\u001b[0;34m)\u001b[0m\u001b[0;34m:\u001b[0m\u001b[0;34m\u001b[0m\u001b[0m\n\u001b[1;32m   1224\u001b[0m         \u001b[0;32mif\u001b[0m \u001b[0misinstance\u001b[0m\u001b[0;34m(\u001b[0m\u001b[0mitem\u001b[0m\u001b[0;34m,\u001b[0m \u001b[0mstr\u001b[0m\u001b[0;34m)\u001b[0m\u001b[0;34m:\u001b[0m\u001b[0;34m\u001b[0m\u001b[0m\n\u001b[0;32m-> 1225\u001b[0;31m             \u001b[0;32mreturn\u001b[0m \u001b[0mself\u001b[0m\u001b[0;34m.\u001b[0m\u001b[0mcolumns\u001b[0m\u001b[0;34m[\u001b[0m\u001b[0mitem\u001b[0m\u001b[0;34m]\u001b[0m\u001b[0;34m\u001b[0m\u001b[0m\n\u001b[0m\u001b[1;32m   1226\u001b[0m         \u001b[0;32melif\u001b[0m \u001b[0misinstance\u001b[0m\u001b[0;34m(\u001b[0m\u001b[0mitem\u001b[0m\u001b[0;34m,\u001b[0m \u001b[0;34m(\u001b[0m\u001b[0mint\u001b[0m\u001b[0;34m,\u001b[0m \u001b[0mnp\u001b[0m\u001b[0;34m.\u001b[0m\u001b[0minteger\u001b[0m\u001b[0;34m)\u001b[0m\u001b[0;34m)\u001b[0m\u001b[0;34m:\u001b[0m\u001b[0;34m\u001b[0m\u001b[0m\n\u001b[1;32m   1227\u001b[0m             \u001b[0;32mreturn\u001b[0m \u001b[0mself\u001b[0m\u001b[0;34m.\u001b[0m\u001b[0mRow\u001b[0m\u001b[0;34m(\u001b[0m\u001b[0mself\u001b[0m\u001b[0;34m,\u001b[0m \u001b[0mitem\u001b[0m\u001b[0;34m)\u001b[0m\u001b[0;34m\u001b[0m\u001b[0m\n",
      "\u001b[0;32m/anaconda3/lib/python3.6/site-packages/astropy/table/table.py\u001b[0m in \u001b[0;36m__getitem__\u001b[0;34m(self, item)\u001b[0m\n\u001b[1;32m    105\u001b[0m         \"\"\"\n\u001b[1;32m    106\u001b[0m         \u001b[0;32mif\u001b[0m \u001b[0misinstance\u001b[0m\u001b[0;34m(\u001b[0m\u001b[0mitem\u001b[0m\u001b[0;34m,\u001b[0m \u001b[0mstr\u001b[0m\u001b[0;34m)\u001b[0m\u001b[0;34m:\u001b[0m\u001b[0;34m\u001b[0m\u001b[0m\n\u001b[0;32m--> 107\u001b[0;31m             \u001b[0;32mreturn\u001b[0m \u001b[0mOrderedDict\u001b[0m\u001b[0;34m.\u001b[0m\u001b[0m__getitem__\u001b[0m\u001b[0;34m(\u001b[0m\u001b[0mself\u001b[0m\u001b[0;34m,\u001b[0m \u001b[0mitem\u001b[0m\u001b[0;34m)\u001b[0m\u001b[0;34m\u001b[0m\u001b[0m\n\u001b[0m\u001b[1;32m    108\u001b[0m         \u001b[0;32melif\u001b[0m \u001b[0misinstance\u001b[0m\u001b[0;34m(\u001b[0m\u001b[0mitem\u001b[0m\u001b[0;34m,\u001b[0m \u001b[0;34m(\u001b[0m\u001b[0mint\u001b[0m\u001b[0;34m,\u001b[0m \u001b[0mnp\u001b[0m\u001b[0;34m.\u001b[0m\u001b[0minteger\u001b[0m\u001b[0;34m)\u001b[0m\u001b[0;34m)\u001b[0m\u001b[0;34m:\u001b[0m\u001b[0;34m\u001b[0m\u001b[0m\n\u001b[1;32m    109\u001b[0m             \u001b[0;32mreturn\u001b[0m \u001b[0mself\u001b[0m\u001b[0;34m.\u001b[0m\u001b[0mvalues\u001b[0m\u001b[0;34m(\u001b[0m\u001b[0;34m)\u001b[0m\u001b[0;34m[\u001b[0m\u001b[0mitem\u001b[0m\u001b[0;34m]\u001b[0m\u001b[0;34m\u001b[0m\u001b[0m\n",
      "\u001b[0;31mKeyError\u001b[0m: 'Ngals'"
     ]
    }
   ],
   "source": [
    "mock_mean_ntot = np.zeros(200)\n",
    "for i in range(200):\n",
    "    mock_mean_ntot[i] = np.sum(halo_table['Ngals'][mass_mask(halo_table['halo_mvir'], mbins[i], mbins[i+1])])\n",
    "\"\"\"\n",
    "mock_mean_ntot[0]+=np.sum(halo_table['Ngals'][0:mhist[0]])\n",
    "for i in range(1,200):\n",
    "    mock_mean_ntot[i]+=np.sum(halo_table['Ngals'][mhist[i-1]:mhist[i]])\"\"\""
   ]
  },
  {
   "cell_type": "code",
   "execution_count": 407,
   "metadata": {},
   "outputs": [
    {
     "data": {
      "text/plain": [
       "array([    0,     0,     0,     0,     0,     0,     0,     0,     0,\n",
       "           0,     0,     0,     0,     0,     0,     0,     0,     0,\n",
       "           0,     0,     0,     0,     0,     0,     0,     0, 14245,\n",
       "       47621, 45424, 43312, 42328, 39619, 36951, 35197, 33797, 32736,\n",
       "       30082, 29626, 27631, 26383, 24910, 24113, 22496, 22132, 20260,\n",
       "       19848, 18714, 17700, 16900, 15998, 15507, 14505, 13876, 13245,\n",
       "       12578, 11921, 11387, 10715, 10413,  9646,  9317,  8847,  8466,\n",
       "        7895,  7584,  7293,  6910,  6501,  6363,  5887,  5611,  5215,\n",
       "        5068,  4913,  4630,  4238,  4066,  3881,  3788,  3531,  3326,\n",
       "        3084,  3038,  2797,  2692,  2730,  2526,  2435,  2304,  2242,\n",
       "        1992,  1977,  1768,  1713,  1682,  1562,  1501,  1454,  1364,\n",
       "        1271,  1255,  1191,  1106,  1024,   974,   949,   839,   799,\n",
       "         778,   781,   700,   675,   645,   632,   594,   554,   546,\n",
       "         447,   440,   429,   398,   409,   378,   366,   328,   320,\n",
       "         292,   265,   256,   270,   238,   199,   187,   183,   206,\n",
       "         175,   145,   168,   154,   150,   131,   124,   133,   103,\n",
       "          98,    97,    84,    80,    79,    85,    75,    53,    51,\n",
       "          58,    56,    44,    46,    49,    45,    35,    38,    33,\n",
       "          30,    33,    25,    26,    19,    26,    22,    17,    11,\n",
       "          12,    15,    10,     7,    18,    10,     5,    10,     6,\n",
       "           6,     5,     6,     6,    10,     2,     4,     3,     5,\n",
       "           0,     1,     1,     1,     0,     0,     0,     0,     0,\n",
       "           0,     0])"
      ]
     },
     "execution_count": 407,
     "metadata": {},
     "output_type": "execute_result"
    }
   ],
   "source": [
    "mhist"
   ]
  },
  {
   "cell_type": "code",
   "execution_count": 408,
   "metadata": {},
   "outputs": [
    {
     "data": {
      "text/plain": [
       "array([0., 0., 0., 0., 0., 0., 0., 0., 0., 0., 0., 0., 0., 0., 0., 0., 0.,\n",
       "       0., 0., 0., 0., 0., 0., 0., 0., 0., 0., 0., 0., 0., 0., 0., 0., 0.,\n",
       "       0., 0., 0., 0., 0., 0., 0., 0., 0., 0., 0., 0., 0., 0., 0., 0., 0.,\n",
       "       0., 0., 0., 0., 0., 0., 0., 0., 0., 0., 0., 0., 0., 0., 0., 0., 0.,\n",
       "       0., 0., 0., 0., 0., 0., 0., 0., 0., 0., 0., 0., 0., 0., 0., 0., 0.,\n",
       "       0., 0., 0., 0., 0., 0., 0., 0., 0., 0., 0., 0., 0., 0., 0., 0., 0.,\n",
       "       0., 0., 0., 0., 0., 0., 0., 0., 0., 0., 0., 0., 0., 0., 0., 0., 0.,\n",
       "       0., 0., 0., 0., 0., 0., 0., 0., 0., 0., 0., 0., 0., 0., 0., 0., 0.,\n",
       "       0., 0., 0., 0., 0., 0., 0., 0., 0., 0., 0., 0., 0., 0., 0., 0., 0.,\n",
       "       0., 0., 0., 0., 0., 0., 0., 0., 0., 0., 0., 0., 0., 0., 0., 0., 0.,\n",
       "       0., 0., 0., 0., 0., 0., 0., 0., 0., 0., 0., 0., 0., 0., 0., 0., 0.,\n",
       "       0., 0., 0., 0., 0., 0., 0., 0., 0., 0., 0., 0., 0.])"
      ]
     },
     "execution_count": 408,
     "metadata": {},
     "output_type": "execute_result"
    }
   ],
   "source": [
    "mock_mean_ntot"
   ]
  },
  {
   "cell_type": "code",
   "execution_count": 409,
   "metadata": {},
   "outputs": [
    {
     "data": {
      "text/plain": [
       "<matplotlib.collections.PathCollection at 0x1a29ea7908>"
      ]
     },
     "execution_count": 409,
     "metadata": {},
     "output_type": "execute_result"
    },
    {
     "data": {
      "image/png": "[encoded data removed]",
      "text/plain": [
       "<matplotlib.figure.Figure at 0x1a2c0a2fd0>"
      ]
     },
     "metadata": {},
     "output_type": "display_data"
    }
   ],
   "source": [
    "ntot=np.load('hod.npy')\n",
    "plt.loglog(halo_mass,mean_ncen+mean_nsat)\n",
    "#plt.loglog(halo_mass,mean_nsat)\n",
    "plt.scatter((mbins[1:]+mbins[:-1])/2,ntot/mhist,s=1,color='Black')\n",
    "#plt.ylim(0.001,10)\n",
    "#plt.xlim(10**11,10**14)"
   ]
  },
  {
   "cell_type": "code",
   "execution_count": 392,
   "metadata": {},
   "outputs": [
    {
     "data": {
      "text/plain": [
       "array([1.00000000e+10, 1.05925373e+10, 1.12201845e+10, 1.18850223e+10,\n",
       "       1.25892541e+10, 1.33352143e+10, 1.41253754e+10, 1.49623566e+10,\n",
       "       1.58489319e+10, 1.67880402e+10, 1.77827941e+10, 1.88364909e+10,\n",
       "       1.99526231e+10, 2.11348904e+10, 2.23872114e+10, 2.37137371e+10,\n",
       "       2.51188643e+10, 2.66072506e+10, 2.81838293e+10, 2.98538262e+10,\n",
       "       3.16227766e+10, 3.34965439e+10, 3.54813389e+10, 3.75837404e+10,\n",
       "       3.98107171e+10, 4.21696503e+10, 4.46683592e+10, 4.73151259e+10,\n",
       "       5.01187234e+10, 5.30884444e+10, 5.62341325e+10, 5.95662144e+10,\n",
       "       6.30957344e+10, 6.68343918e+10, 7.07945784e+10, 7.49894209e+10,\n",
       "       7.94328235e+10, 8.41395142e+10, 8.91250938e+10, 9.44060876e+10,\n",
       "       1.00000000e+11, 1.05925373e+11, 1.12201845e+11, 1.18850223e+11,\n",
       "       1.25892541e+11, 1.33352143e+11, 1.41253754e+11, 1.49623566e+11,\n",
       "       1.58489319e+11, 1.67880402e+11, 1.77827941e+11, 1.88364909e+11,\n",
       "       1.99526231e+11, 2.11348904e+11, 2.23872114e+11, 2.37137371e+11,\n",
       "       2.51188643e+11, 2.66072506e+11, 2.81838293e+11, 2.98538262e+11,\n",
       "       3.16227766e+11, 3.34965439e+11, 3.54813389e+11, 3.75837404e+11,\n",
       "       3.98107171e+11, 4.21696503e+11, 4.46683592e+11, 4.73151259e+11,\n",
       "       5.01187234e+11, 5.30884444e+11, 5.62341325e+11, 5.95662144e+11,\n",
       "       6.30957344e+11, 6.68343918e+11, 7.07945784e+11, 7.49894209e+11,\n",
       "       7.94328235e+11, 8.41395142e+11, 8.91250938e+11, 9.44060876e+11,\n",
       "       1.00000000e+12, 1.05925373e+12, 1.12201845e+12, 1.18850223e+12,\n",
       "       1.25892541e+12, 1.33352143e+12, 1.41253754e+12, 1.49623566e+12,\n",
       "       1.58489319e+12, 1.67880402e+12, 1.77827941e+12, 1.88364909e+12,\n",
       "       1.99526231e+12, 2.11348904e+12, 2.23872114e+12, 2.37137371e+12,\n",
       "       2.51188643e+12, 2.66072506e+12, 2.81838293e+12, 2.98538262e+12,\n",
       "       3.16227766e+12, 3.34965439e+12, 3.54813389e+12, 3.75837404e+12,\n",
       "       3.98107171e+12, 4.21696503e+12, 4.46683592e+12, 4.73151259e+12,\n",
       "       5.01187234e+12, 5.30884444e+12, 5.62341325e+12, 5.95662144e+12,\n",
       "       6.30957344e+12, 6.68343918e+12, 7.07945784e+12, 7.49894209e+12,\n",
       "       7.94328235e+12, 8.41395142e+12, 8.91250938e+12, 9.44060876e+12,\n",
       "       1.00000000e+13, 1.05925373e+13, 1.12201845e+13, 1.18850223e+13,\n",
       "       1.25892541e+13, 1.33352143e+13, 1.41253754e+13, 1.49623566e+13,\n",
       "       1.58489319e+13, 1.67880402e+13, 1.77827941e+13, 1.88364909e+13,\n",
       "       1.99526231e+13, 2.11348904e+13, 2.23872114e+13, 2.37137371e+13,\n",
       "       2.51188643e+13, 2.66072506e+13, 2.81838293e+13, 2.98538262e+13,\n",
       "       3.16227766e+13, 3.34965439e+13, 3.54813389e+13, 3.75837404e+13,\n",
       "       3.98107171e+13, 4.21696503e+13, 4.46683592e+13, 4.73151259e+13,\n",
       "       5.01187234e+13, 5.30884444e+13, 5.62341325e+13, 5.95662144e+13,\n",
       "       6.30957344e+13, 6.68343918e+13, 7.07945784e+13, 7.49894209e+13,\n",
       "       7.94328235e+13, 8.41395142e+13, 8.91250938e+13, 9.44060876e+13,\n",
       "       1.00000000e+14, 1.05925373e+14, 1.12201845e+14, 1.18850223e+14,\n",
       "       1.25892541e+14, 1.33352143e+14, 1.41253754e+14, 1.49623566e+14,\n",
       "       1.58489319e+14, 1.67880402e+14, 1.77827941e+14, 1.88364909e+14,\n",
       "       1.99526231e+14, 2.11348904e+14, 2.23872114e+14, 2.37137371e+14,\n",
       "       2.51188643e+14, 2.66072506e+14, 2.81838293e+14, 2.98538262e+14,\n",
       "       3.16227766e+14, 3.34965439e+14, 3.54813389e+14, 3.75837404e+14,\n",
       "       3.98107171e+14, 4.21696503e+14, 4.46683592e+14, 4.73151259e+14,\n",
       "       5.01187234e+14, 5.30884444e+14, 5.62341325e+14, 5.95662144e+14,\n",
       "       6.30957344e+14, 6.68343918e+14, 7.07945784e+14, 7.49894209e+14,\n",
       "       7.94328235e+14, 8.41395142e+14, 8.91250938e+14, 9.44060876e+14,\n",
       "       1.00000000e+15])"
      ]
     },
     "execution_count": 392,
     "metadata": {},
     "output_type": "execute_result"
    }
   ],
   "source": [
    "mbins"
   ]
  },
  {
   "cell_type": "code",
   "execution_count": 393,
   "metadata": {},
   "outputs": [],
   "source": [
    "theo_Ntot=np.zeros(20)\n",
    "theo_tot_mvir=np.zeros(20)\n",
    "meas_Ntot=np.zeros(20)\n",
    "for i in range(20):\n",
    "    model.populate_mock(halocat = halocat)\n",
    "    halo_table = model.mock.halo_table\n",
    "    gal_table = model.mock.galaxy_table\n",
    "    mean_ncen = model.mean_occupation_centrals(prim_haloprop = halo_table['halo_mvir'])\n",
    "    mean_nsat = model.mean_occupation_satellites(prim_haloprop = halo_table['halo_mvir'])\n",
    "    theo_Ntot[i] += np.sum(mean_ncen+mean_nsat)\n",
    "    theo_tot_mvir[i] += np.sum(halo_table['halo_mvir'])\n",
    "    meas_Ntot[i] += np.sum(len(gal_table))"
   ]
  },
  {
   "cell_type": "code",
   "execution_count": 394,
   "metadata": {},
   "outputs": [
    {
     "name": "stdout",
     "output_type": "stream",
     "text": [
      "102499.796875 102562.2\n"
     ]
    }
   ],
   "source": [
    "print(np.mean(mean_ntot),np.mean(tot_gals))"
   ]
  },
  {
   "cell_type": "code",
   "execution_count": 330,
   "metadata": {},
   "outputs": [
    {
     "data": {
      "text/plain": [
       "(array([2., 2., 1., 2., 2., 2., 2., 3., 2., 2.]),\n",
       " array([102166. , 102243.2, 102320.4, 102397.6, 102474.8, 102552. ,\n",
       "        102629.2, 102706.4, 102783.6, 102860.8, 102938. ]),\n",
       " <a list of 10 Patch objects>)"
      ]
     },
     "execution_count": 330,
     "metadata": {},
     "output_type": "execute_result"
    },
    {
     "data": {
      "image/png": "[encoded data removed]",
      "text/plain": [
       "<matplotlib.figure.Figure at 0x1a291fdb70>"
      ]
     },
     "metadata": {},
     "output_type": "display_data"
    }
   ],
   "source": [
    "plt.hist(tot_gals,10)"
   ]
  },
  {
   "cell_type": "code",
   "execution_count": null,
   "metadata": {},
   "outputs": [],
   "source": [
    "plt."
   ]
  }
 ],
 "metadata": {
  "kernelspec": {
   "display_name": "Python 3",
   "language": "python",
   "name": "python3"
  },
  "language_info": {
   "codemirror_mode": {
    "name": "ipython",
    "version": 3
   },
   "file_extension": ".py",
   "mimetype": "text/x-python",
   "name": "python",
   "nbconvert_exporter": "python",
   "pygments_lexer": "ipython3",
   "version": "3.6.4"
  }
 },
 "nbformat": 4,
 "nbformat_minor": 2
}
