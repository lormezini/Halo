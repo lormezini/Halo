{
 "cells": [
  {
   "cell_type": "code",
   "execution_count": 47,
   "metadata": {},
   "outputs": [],
   "source": [
    "from halotools.sim_manager import CachedHaloCatalog, FakeSim\n",
    "from halotools.empirical_models import PrebuiltHodModelFactory, Zheng07Cens, Zheng07Sats, TrivialPhaseSpace, NFWPhaseSpace, HodModelFactory\n",
    "from halotools.mock_observables import return_xyz_formatted_array\n",
    "import numpy as np\n",
    "%matplotlib inline\n",
    "import matplotlib.pyplot as plt\n",
    "import time\n",
    "from multiprocessing import Pool, cpu_count\n",
    "import emcee\n",
    "import corner\n",
    "from Corrfunc.theory.wp import wp\n",
    "import MCMC_data_file\n",
    "from numpy.linalg import inv\n",
    "import scipy.optimize as op\n",
    "from scipy.stats import chi2\n",
    "import scipy.stats as stats\n",
    "import random\n",
    "import MCMC_data_file, zehavi_data_file_20, guo_data_file, mock_data, mock_data_2\n",
    "import warnings\n",
    "warnings.filterwarnings(\"ignore\")\n",
    "from IPython.display import set_matplotlib_formats\n",
    "set_matplotlib_formats('retina')\n",
    "from scipy.special import gamma\n",
    "from scipy.stats import chisquare\n",
    "from noisyopt import minimizeCompass"
   ]
  },
  {
   "cell_type": "code",
   "execution_count": 2,
   "metadata": {},
   "outputs": [],
   "source": [
    "wp_ng_vals = zehavi_data_file_20.get_wp()\n",
    "bin_edges = zehavi_data_file_20.get_bins()\n",
    "cov_matrix = zehavi_data_file_20.get_cov()\n",
    "err = np.array([cov_matrix[i,i] for i in range(len(cov_matrix))])\n",
    "bin_cen = (bin_edges[1:]+bin_edges[:-1])/2."
   ]
  },
  {
   "cell_type": "code",
   "execution_count": 9,
   "metadata": {},
   "outputs": [
    {
     "data": {
      "image/png": "[encoded data removed]",
      "text/plain": [
       "<Figure size 432x288 with 1 Axes>"
      ]
     },
     "metadata": {
      "image/png": {
       "height": 249,
       "width": 373
      },
      "needs_background": "light"
     },
     "output_type": "display_data"
    }
   ],
   "source": [
    "#cens_occ_model = Zheng07Cens(prim_haloprop_key = 'halo_vmax')\n",
    "cens_occ_model = Zheng07Cens()\n",
    "cens_prof_model = TrivialPhaseSpace()\n",
    "\n",
    "#sats_occ_model =  Zheng07Sats(prim_haloprop_key = 'halo_vmax', modulate_with_cenocc=True)\n",
    "sats_occ_model =  Zheng07Sats(modulate_with_cenocc=True)\n",
    "sats_prof_model = NFWPhaseSpace()\n",
    "\n",
    "#halocat = CachedHaloCatalog(simname='bolshoi',redshift = 0.0)\n",
    "#halocat = CachedHaloCatalog(fname = '/Users/lmezini/.astropy/cache/halotools/halo_catalogs/bolplanck/rockstar/hlist_1.00231.list.halotools_v0p4.hdf5',update_cached_fname = True)\n",
    "#halocat = CachedHaloCatalog(fname = '/Users/lmezini/Downloads/hlist_1.00231.list.halotools_v0p1.hdf5',update_cached_fname = True)\n",
    "halocat = CachedHaloCatalog(fname='/Users/lmezini/.astropy/cache/halotools/halo_catalogs/SMDPL/rockstar/2019-07-03-18-38-02-9731.dat.my_cosmosim_halos.hdf5')\n",
    "halocat.redshift = 0.\n",
    "pi_max = 60.\n",
    "Lbox = 400.\n",
    "model_instance = HodModelFactory(centrals_occupation = cens_occ_model, centrals_profile = cens_prof_model, \n",
    "                                 satellites_occupation = sats_occ_model, satellites_profile = sats_prof_model)\n",
    "\n",
    "try:\n",
    "    model_instance.mock.populate()\n",
    "except:\n",
    "    model_instance.populate_mock(halocat)\n",
    "        \n",
    "alpha,logM0,logM1 = [1.16,13.28-1.7,13.28]\n",
    "model_instance.param_dict['alpha'] = alpha\n",
    "model_instance.param_dict['logM0'] = logM0\n",
    "model_instance.param_dict['logM1'] = logM1\n",
    "\n",
    "model_instance.param_dict['logMmin'] = 12.2\n",
    "model_instance.param_dict['sigma_logM'] = 0.02\n",
    "\n",
    "model_instance.mock.populate()\n",
    "    \n",
    "pos = return_xyz_formatted_array(model_instance.mock.galaxy_table['x'],\n",
    "            model_instance.mock.galaxy_table['y'],\n",
    "            model_instance.mock.galaxy_table['z'],\n",
    "            period = Lbox)\n",
    "x = pos[:,0]\n",
    "y = pos[:,1]\n",
    "z = pos[:,2]\n",
    "velz = model_instance.mock.galaxy_table['vz']\n",
    "\n",
    "pos_zdist = return_xyz_formatted_array(x,y,z,period=Lbox,\n",
    "                velocity=velz,velocity_distortion_dimension='z')\n",
    "pi_max = 60.\n",
    "nthreads = 4\n",
    "wp_calc = wp(Lbox,pi_max,nthreads,bin_edges,pos_zdist[:,0],\n",
    "                     pos_zdist[:,1],pos_zdist[:,2],verbose=False)\n",
    "plt.errorbar(bin_cen,wp_ng_vals[1:len(wp_ng_vals)],yerr=np.sqrt(err),fmt='o',markersize=2,capsize=4,label='data')\n",
    "plt.plot(bin_cen,wp_calc['wp'])\n",
    "plt.yscale('log')\n",
    "plt.xscale('log')"
   ]
  },
  {
   "cell_type": "code",
   "execution_count": 13,
   "metadata": {},
   "outputs": [
    {
     "name": "stdout",
     "output_type": "stream",
     "text": [
      "0.0040518125 0.00656\n"
     ]
    }
   ],
   "source": [
    "ng = model_instance.mock.number_density\n",
    "print(ng,wp_ng_vals[0])"
   ]
  },
  {
   "cell_type": "code",
   "execution_count": null,
   "metadata": {},
   "outputs": [],
   "source": [
    "def _get_ng(guess):\n",
    "    model_instance.param_dict['logMmin'] = guess[0]\n",
    "    model_instance.param_dict['sigma_logM'] = guess[1]\n",
    "    \n",
    "    model_instance.mock.populate()\n",
    "    \n",
    "    pos = return_xyz_formatted_array(model_instance.mock.galaxy_table['x'],\n",
    "            model_instance.mock.galaxy_table['y'],\n",
    "            model_instance.mock.galaxy_table['z'],\n",
    "            period = Lbox)\n",
    "    x = pos[:,0]\n",
    "    y = pos[:,1]\n",
    "    z = pos[:,2]\n",
    "    velz = model_instance.mock.galaxy_table['vz']\n",
    "\n",
    "    pos_zdist = return_xyz_formatted_array(x,y,z,period=Lbox,\n",
    "                velocity=velz,velocity_distortion_dimension='z')\n",
    "    pi_max = 60.\n",
    "    nthreads = 4\n",
    "    wp_calc = wp(Lbox,pi_max,nthreads,bin_edges,pos_zdist[:,0],\n",
    "                     pos_zdist[:,1],pos_zdist[:,2],verbose=False)\n",
    "    wp_diff = np.mean(wp_ng_vals[1:len(wp_ng_vals)]-wp_calc['wp'])\n",
    "    \n",
    "    ng = model_instance.mock.number_density\n",
    "    ng_diff = wp_ng_vals[0]-ng\n",
    "    return ng_diff + wp_diff"
   ]
  },
  {
   "cell_type": "code",
   "execution_count": null,
   "metadata": {},
   "outputs": [],
   "source": [
    "res = op.minimize(_get_ng,[11.96,0.38],options={'maxiter': 10,'disp':True})"
   ]
  },
  {
   "cell_type": "code",
   "execution_count": 30,
   "metadata": {},
   "outputs": [],
   "source": [
    "res = minimizeCompass(_get_ng,[11.96,0.38], deltatol=0.1, paired=False)"
   ]
  },
  {
   "cell_type": "markdown",
   "metadata": {},
   "source": [
    "Try having a grid of logMmin values and then do a one-param fit for sigma"
   ]
  },
  {
   "cell_type": "code",
   "execution_count": 126,
   "metadata": {},
   "outputs": [],
   "source": [
    "logMmin = np.logspace(11,14,100)"
   ]
  },
  {
   "cell_type": "code",
   "execution_count": 127,
   "metadata": {},
   "outputs": [],
   "source": [
    "#cens_occ_model = Zheng07Cens(prim_haloprop_key = 'halo_vmax')\n",
    "cens_occ_model = Zheng07Cens()\n",
    "cens_prof_model = TrivialPhaseSpace()\n",
    "\n",
    "#sats_occ_model =  Zheng07Sats(prim_haloprop_key = 'halo_vmax', modulate_with_cenocc=True)\n",
    "sats_occ_model =  Zheng07Sats(modulate_with_cenocc=True)\n",
    "sats_prof_model = NFWPhaseSpace()\n",
    "\n",
    "#halocat = CachedHaloCatalog(simname='bolshoi',redshift = 0.0)\n",
    "#halocat = CachedHaloCatalog(fname = '/Users/lmezini/.astropy/cache/halotools/halo_catalogs/bolplanck/rockstar/hlist_1.00231.list.halotools_v0p4.hdf5',update_cached_fname = True)\n",
    "#halocat = CachedHaloCatalog(fname = '/Users/lmezini/Downloads/hlist_1.00231.list.halotools_v0p1.hdf5',update_cached_fname = True)\n",
    "halocat = CachedHaloCatalog(fname='/Users/lmezini/.astropy/cache/halotools/halo_catalogs/SMDPL/rockstar/2019-07-03-18-38-02-9731.dat.my_cosmosim_halos.hdf5')\n",
    "halocat.redshift = 0.\n",
    "pi_max = 60.\n",
    "Lbox = 400.\n",
    "model_instance = HodModelFactory(centrals_occupation = cens_occ_model, centrals_profile = cens_prof_model, \n",
    "                                 satellites_occupation = sats_occ_model, satellites_profile = sats_prof_model)\n",
    "\n",
    "try:\n",
    "    model_instance.mock.populate()\n",
    "except:\n",
    "    model_instance.populate_mock(halocat)\n",
    "        \n",
    "alpha,logM0,logM1 = [1.16,13.28-1.7,13.28]\n",
    "model_instance.param_dict['alpha'] = alpha\n",
    "model_instance.param_dict['logM0'] = logM0\n",
    "model_instance.param_dict['logM1'] = logM1"
   ]
  },
  {
   "cell_type": "code",
   "execution_count": 135,
   "metadata": {},
   "outputs": [],
   "source": [
    "def _find_sigma(guess):\n",
    "    model_instance.param_dict['sigma_logM'] = guess[0]\n",
    "    model_instance.mock.populate()\n",
    "    ng = model_instance.mock.number_density\n",
    "    print(guess[0],ng)\n",
    "    ng_diff = wp_ng_vals[0]-ng\n",
    "    \n",
    "    return ng_diff"
   ]
  },
  {
   "cell_type": "code",
   "execution_count": 147,
   "metadata": {},
   "outputs": [
    {
     "name": "stdout",
     "output_type": "stream",
     "text": [
      "11.0\n",
      "1.3 0.022742078125\n",
      "0.3 0.02889109375\n",
      "0.01 0.032667890625\n",
      "1.01 0.0238493125\n",
      "0.51 0.026868703125\n",
      "0.26 0.02936196875\n",
      "0.135 0.03099890625\n",
      "0.0725 0.0319123125\n",
      "0.04125 0.032371484375\n",
      "0.02 0.03262734375\n",
      "-0.026107890625\n",
      "11.030303030303031\n",
      "0.01 0.031910453125\n",
      "0.3 0.0282086875\n",
      "1.01 0.023427859375\n",
      "0.51 0.02629775\n",
      "0.26 0.028639953125\n",
      "0.135 0.030189015625\n",
      "0.0725 0.0310775625\n",
      "0.04125 0.031534234375\n",
      "0.02 0.031835078125\n",
      "-0.025350453125000002\n",
      "11.06060606060606\n",
      "1.3 0.022034890625\n",
      "0.3 0.02744384375\n",
      "0.01 0.030108734375\n",
      "1.01 0.023008328125\n",
      "0.51 0.02570446875\n",
      "0.26 0.027830203125\n",
      "0.135 0.029209046875\n",
      "0.0725 0.029870359375\n",
      "0.04125 0.030104828125\n",
      "0.02 0.030120984375\n",
      "0.03 0.03012540625\n",
      "0.04 0.03010978125\n",
      "0.019999999999999997 0.03012021875\n",
      "-0.02356540625\n",
      "11.090909090909092\n",
      "0.01 0.02842278125\n",
      "0.3 0.026620890625\n",
      "1.01 0.022604859375\n",
      "0.51 0.025052765625\n",
      "0.26 0.026959921875\n",
      "0.135 0.02806146875\n",
      "0.0725 0.028450359375\n",
      "0.041249999999999995 0.02845221875\n",
      "0.05125 0.028467609375\n",
      "0.06125 0.028456\n",
      "-0.021907609375\n",
      "11.121212121212121\n",
      "1.3 0.021337015625\n",
      "0.3 0.02576615625\n",
      "0.01 0.026805640625\n",
      "1.01 0.02218246875\n",
      "0.51 0.024396703125\n",
      "0.26 0.026050703125\n",
      "0.135 0.026808359375\n",
      "0.010000000000000009 0.0268198125\n",
      "0.07250000000000001 0.026920125\n",
      "0.10375000000000001 0.026912734375\n",
      "0.04125000000000001 0.02685384375\n",
      "0.06250000000000001 0.026904265625\n",
      "0.0825 0.026924875\n",
      "0.0925 0.026926125\n",
      "0.1025 0.026909765625\n",
      "-0.020366125\n",
      "11.151515151515152\n",
      "0.01 0.025312078125\n",
      "0.3 0.024842\n",
      "1.01 0.021741796875\n",
      "0.51 0.02370978125\n",
      "0.26 0.02503603125\n",
      "0.135 0.02550696875\n",
      "0.010000000000000009 0.025307359375\n",
      "0.07250000000000001 0.025428203125\n",
      "0.1975 0.02535178125\n",
      "0.16625 0.025455546875\n",
      "0.10375000000000001 0.02550809375\n",
      "0.11375 0.025504609375\n",
      "0.09375000000000001 0.02548203125\n",
      "-0.01894809375\n",
      "11.181818181818182\n",
      "1.3 0.020633484375\n",
      "0.3 0.02389434375\n",
      "0.01 0.02388590625\n",
      "0.8 0.0219378125\n",
      "0.04999999999999999 0.023941703125\n",
      "0.175 0.024205984375\n",
      "0.11249999999999999 0.024131875\n",
      "0.2375 0.024104859375\n",
      "0.20625 0.0241815625\n",
      "0.14375 0.024203234375\n",
      "0.16499999999999998 0.024210265625\n",
      "0.15499999999999997 0.02421678125\n",
      "0.14499999999999996 0.0241995\n",
      "-0.01765678125\n",
      "11.212121212121213\n",
      "0.01 0.022552984375\n",
      "0.3 0.022940515625\n",
      "1.3 0.02024\n",
      "0.8 0.021406625\n",
      "0.55 0.022173546875\n",
      "0.04999999999999999 0.02260675\n",
      "0.425 0.022597546875\n",
      "0.175 0.022994609375\n",
      "0.2375 0.02301065625\n",
      "0.26875 0.022984140625\n",
      "0.20625 0.023015140625\n",
      "0.19624999999999998 0.023024875\n",
      "0.18624999999999997 0.023031515625\n",
      "0.17624999999999996 0.023008140625\n",
      "-0.016471515625\n",
      "11.242424242424242\n",
      "1.3 0.019902\n",
      "0.3 0.02195878125\n",
      "0.01 0.0213033125\n",
      "0.8 0.02087265625\n",
      "0.04999999999999999 0.021350453125\n",
      "0.55 0.02152153125\n",
      "0.425 0.021786421875\n",
      "0.175 0.021783796875\n",
      "0.3625 0.021887578125\n",
      "0.2375 0.0219440625\n",
      "0.26875 0.0219609375\n",
      "0.25875 0.021962796875\n",
      "0.24874999999999997 0.021931953125\n",
      "-0.015402796875\n",
      "11.272727272727273\n",
      "1.3 0.019533859375\n",
      "0.3 0.020980546875\n",
      "0.01 0.020115265625\n",
      "0.8 0.0203308125\n",
      "0.55 0.02077684375\n",
      "0.04999999999999999 0.020156765625\n",
      "0.175 0.020635703125\n",
      "0.425 0.02094928125\n",
      "0.3625 0.02099359375\n",
      "0.33125 0.020989421875\n",
      "0.39375 0.020985703125\n",
      "0.3725 0.0210110625\n",
      "0.3825 0.02100946875\n",
      "-0.0144510625\n",
      "11.303030303030303\n",
      "0.01 0.018992578125\n",
      "0.3 0.02000753125\n",
      "1.3 0.019157375\n",
      "0.8 0.019778265625\n",
      "0.55 0.020095015625\n",
      "0.30000000000000004 0.019986921875\n",
      "0.42500000000000004 0.020147296875\n",
      "0.36250000000000004 0.020113890625\n",
      "0.48750000000000004 0.020138\n",
      "0.39375000000000004 0.02013875\n",
      "0.45625000000000004 0.0201448125\n",
      "0.41500000000000004 0.0201300625\n",
      "0.43500000000000005 0.020129703125\n",
      "-0.013587296875000002\n",
      "11.333333333333334\n",
      "0.01 0.0179335625\n",
      "0.3 0.01902771875\n",
      "1.3 0.018776921875\n",
      "0.8 0.019253046875\n",
      "0.30000000000000004 0.0190235\n",
      "0.55 0.01937565625\n",
      "0.42500000000000004 0.01933015625\n",
      "0.675 0.019342203125\n",
      "0.6125 0.019373453125\n",
      "0.48750000000000004 0.01937190625\n",
      "0.58125 0.01938190625\n",
      "0.57125 0.019376125\n",
      "0.59125 0.01939234375\n",
      "0.6012500000000001 0.0193844375\n",
      "-0.01283234375\n",
      "11.363636363636363\n",
      "1.3 0.018413765625\n",
      "0.3 0.01808503125\n",
      "0.30000000000000004 0.01810109375\n",
      "2.0 0.017983859375\n",
      "1.8 0.018097734375\n",
      "0.8 0.018704546875\n",
      "1.05 0.018583015625\n",
      "0.55 0.018690515625\n",
      "0.675 0.018724625\n",
      "0.6125 0.018710234375\n",
      "0.7375 0.018712421875\n",
      "0.70625 0.018727609375\n",
      "0.71625 0.018724515625\n",
      "0.69625 0.0187268125\n",
      "-0.012167609375\n",
      "11.393939393939394\n",
      "1.3 0.018015953125\n",
      "0.3 0.017172984375\n",
      "0.30000000000000004 0.017180203125\n",
      "2.0 0.017701984375\n",
      "1.8 0.0178255625\n",
      "0.8 0.01814246875\n",
      "1.05 0.01811603125\n",
      "0.55 0.017962359375\n",
      "0.675 0.018112390625\n",
      "0.925 0.01814159375\n",
      "0.8625 0.01814584375\n",
      "0.83125 0.01816684375\n",
      "0.84125 0.01815896875\n",
      "0.82125 0.018142640625\n",
      "-0.011606843750000002\n",
      "11.424242424242424\n",
      "1.3 0.01764796875\n",
      "0.3 0.01629675\n",
      "0.30000000000000004 0.016299609375\n",
      "2.0 0.01745921875\n",
      "0.8 0.0176096875\n",
      "1.8 0.01752065625\n",
      "1.05 0.017680734375\n",
      "0.925 0.0176646875\n",
      "1.175 0.017680578125\n",
      "0.9875 0.01767234375\n",
      "1.1125 0.017667015625\n",
      "1.01875 0.017673640625\n",
      "1.08125 0.0176879375\n",
      "1.09125 0.01767040625\n",
      "1.07125 0.017662015625\n",
      "-0.0111279375\n",
      "11.454545454545455\n",
      "0.01 0.014325890625\n",
      "0.3 0.0154570625\n",
      "1.3 0.01730584375\n",
      "0.30000000000000004 0.0154583125\n",
      "2.0 0.017242859375\n",
      "1.8 0.017243671875\n",
      "0.8 0.0170585625\n",
      "1.05 0.017253953125\n",
      "1.55 0.0172745625\n",
      "1.425 0.017294640625\n",
      "1.175 0.017269953125\n",
      "1.3625 0.017280109375\n",
      "1.2375 0.01726896875\n",
      "1.33125 0.017267609375\n",
      "1.26875 0.017273125\n",
      "1.31 0.017285515625\n",
      "1.29 0.017263734375\n",
      "-0.010745843750000001\n",
      "11.484848484848484\n",
      "0.01 0.013541359375\n",
      "0.3 0.014634421875\n",
      "1.3 0.016899\n",
      "0.30000000000000004 0.014622515625\n",
      "2.0 0.016960484375\n",
      "1.0 0.016740625\n",
      "1.5 0.016926875\n",
      "1.75 0.016957390625\n",
      "1.875 0.0169344375\n",
      "1.9375 0.016947640625\n",
      "1.96875 0.016958125\n",
      "1.99 0.016946640625\n",
      "-0.010400484375000001\n",
      "11.515151515151516\n",
      "1.3 0.016525015625\n",
      "0.3 0.0138579375\n",
      "0.30000000000000004 0.013874359375\n",
      "2.0 0.01668796875\n",
      "1.0 0.0162966875\n",
      "1.5 0.01659990625\n",
      "1.75 0.016682296875\n",
      "1.875 0.016675203125\n",
      "1.9375 0.016689890625\n",
      "1.96875 0.01667184375\n",
      "1.90625 0.01668075\n",
      "1.9475 0.016698125\n",
      "1.9575 0.016686171875\n",
      "-0.010138125000000001\n",
      "11.545454545454545\n",
      "0.01 0.012136234375\n",
      "0.3 0.01314665625\n",
      "1.3 0.016156609375\n",
      "2.0 0.016426796875\n",
      "1.0 0.0158404375\n",
      "1.5 0.016296640625\n",
      "1.75 0.0163895\n",
      "1.875 0.016387296875\n",
      "1.9375 0.01644059375\n",
      "1.96875 0.01639746875\n",
      "1.90625 0.01640625\n",
      "1.9275 0.016420015625\n",
      "1.9475 0.01644746875\n",
      "1.9575 0.016426734375\n",
      "-0.00988746875\n",
      "11.575757575757576\n",
      "0.01 0.011482625\n",
      "0.3 0.012438\n",
      "1.3 0.015810203125\n",
      "0.30000000000000004 0.012443265625\n",
      "2.0 0.0161549375\n",
      "1.0 0.015378734375\n",
      "1.5 0.015918359375\n",
      "1.75 0.01608290625\n",
      "1.875 0.016132109375\n",
      "1.9375 0.016161703125\n",
      "1.96875 0.016180296875\n",
      "1.95875 0.016169921875\n",
      "1.97875 0.01616965625\n",
      "-0.009620296875\n",
      "11.606060606060606\n",
      "1.3 0.0154209375\n",
      "0.3 0.011784\n",
      "0.30000000000000004 0.011788734375\n",
      "2.0 0.015938828125\n",
      "1.0 0.01491525\n",
      "1.5 0.01562853125\n",
      "1.75 0.015792953125\n",
      "1.875 0.015856484375\n",
      "1.9375 0.01587965625\n",
      "1.96875 0.015903703125\n",
      "1.99 0.015916828125\n",
      "-0.009378828124999999\n",
      "11.636363636363637\n",
      "0.01 0.01030465625\n",
      "0.3 0.01115775\n",
      "1.3 0.015038828125\n",
      "0.30000000000000004 0.011153078125\n",
      "2.0 0.01566196875\n",
      "1.0 0.01447153125\n",
      "1.5 0.01530275\n",
      "1.75 0.015498421875\n",
      "1.875 0.015551078125\n",
      "1.9375 0.015615765625\n",
      "1.96875 0.015629984375\n",
      "1.99 0.0156424375\n",
      "-0.009101968750000002\n",
      "11.666666666666666\n",
      "0.01 0.009770671875\n",
      "0.3 0.010567109375\n",
      "1.3 0.014668421875\n",
      "2.0 0.015398125\n",
      "1.0 0.014052390625\n",
      "1.5 0.014952375\n",
      "1.75 0.01520309375\n",
      "1.875 0.015308046875\n",
      "1.9375 0.015361171875\n",
      "1.96875 0.01536725\n",
      "1.99 0.01538253125\n",
      "-0.008838125\n",
      "11.696969696969697\n",
      "0.01 0.00925590625\n",
      "0.3 0.01001390625\n",
      "1.3 0.014304078125\n",
      "2.0 0.015145578125\n",
      "1.0 0.0135883125\n",
      "1.5 0.014612765625\n",
      "1.75 0.014935140625\n",
      "1.875 0.015025171875\n",
      "1.9375 0.015097421875\n",
      "1.96875 0.0150949375\n",
      "1.99 0.0151286875\n",
      "-0.008585578125\n",
      "11.727272727272727\n",
      "0.01 0.00878675\n",
      "0.3 0.00948784375\n",
      "1.3 0.01397265625\n",
      "0.30000000000000004 0.00949884375\n",
      "2.0 0.014903265625\n",
      "1.0 0.013161078125\n",
      "1.5 0.014286828125\n",
      "1.75 0.0146315\n",
      "1.875 0.01478015625\n",
      "1.9375 0.014810453125\n",
      "1.96875 0.01486553125\n",
      "1.99 0.01486234375\n",
      "-0.008343265625\n",
      "11.757575757575758\n",
      "0.01 0.008340359375\n",
      "0.3 0.008998796875\n",
      "1.3 0.013582046875\n",
      "0.30000000000000004 0.009010359375\n",
      "2.0 0.0146281875\n",
      "1.0 0.012708046875\n",
      "1.5 0.0139633125\n",
      "1.75 0.0143494375\n",
      "1.875 0.0144883125\n",
      "1.9375 0.014568765625\n",
      "1.96875 0.014606734375\n",
      "1.99 0.01460390625\n",
      "-0.0080681875\n",
      "11.787878787878787\n",
      "0.01 0.00791084375\n",
      "0.3 0.008525640625\n",
      "1.3 0.01322190625\n",
      "0.30000000000000004 0.008536484375\n",
      "2.0 0.014360140625\n",
      "1.0 0.012304796875\n"
     ]
    },
    {
     "name": "stdout",
     "output_type": "stream",
     "text": [
      "1.5 0.013660859375\n",
      "1.75 0.014071875\n",
      "1.875 0.014231125\n",
      "1.9375 0.0142865625\n",
      "1.96875 0.014340484375\n",
      "1.99 0.01435753125\n",
      "-0.007800140625\n",
      "11.818181818181818\n",
      "0.01 0.007504671875\n",
      "0.3 0.0081064375\n",
      "1.3 0.012864265625\n",
      "2.0 0.014134171875\n",
      "1.0 0.011891703125\n",
      "1.5 0.01334171875\n",
      "1.75 0.013779109375\n",
      "1.875 0.01396828125\n",
      "1.9375 0.014038265625\n",
      "1.96875 0.0140836875\n",
      "1.99 0.014106375\n",
      "-0.007574171875000001\n",
      "11.848484848484848\n",
      "0.01 0.007134015625\n",
      "0.3 0.007696\n",
      "1.3 0.0125169375\n",
      "0.30000000000000004 0.007696\n",
      "2.0 0.013884328125\n",
      "1.0 0.011485203125\n",
      "1.5 0.013001296875\n",
      "1.75 0.01351484375\n",
      "1.875 0.013687125\n",
      "1.9375 0.013776671875\n",
      "1.96875 0.0138248125\n",
      "1.99 0.01386125\n",
      "-0.007324328125\n",
      "11.878787878787879\n",
      "1.3 0.012173578125\n",
      "0.3 0.007301375\n",
      "0.30000000000000004 0.00728534375\n",
      "2.0 0.0135881875\n",
      "1.0 0.0110918125\n",
      "1.5 0.012708125\n",
      "1.75 0.01321359375\n",
      "1.875 0.013408859375\n",
      "1.9375 0.013527921875\n",
      "1.96875 0.013573109375\n",
      "1.99 0.0136125625\n",
      "1.98 0.013597203125\n",
      "-0.0070525625\n",
      "11.90909090909091\n",
      "0.01 0.0064368125\n",
      "0.3 0.006947875\n",
      "1.3 0.011836296875\n",
      "2.0 0.013358203125\n",
      "1.0 0.010702421875\n",
      "1.5 0.012399515625\n",
      "1.75 0.01296015625\n",
      "1.875 0.0131550625\n",
      "1.9375 0.0132715\n",
      "1.96875 0.013296859375\n",
      "1.99 0.01334740625\n",
      "-0.006798203125000001\n",
      "11.93939393939394\n",
      "0.01 0.006129125\n",
      "0.3 0.006591921875\n",
      "1.3 0.011490484375\n",
      "2.0 0.013119859375\n",
      "1.0 0.010295953125\n",
      "1.5 0.012085328125\n",
      "1.75 0.0126636875\n",
      "1.875 0.012896375\n",
      "1.9375 0.013031328125\n",
      "1.96875 0.013061390625\n",
      "1.99 0.0130911875\n",
      "-0.006559859374999999\n",
      "11.969696969696969\n",
      "0.01 0.0058295625\n",
      "0.3 0.006270765625\n",
      "1.3 0.011172625\n",
      "0.30000000000000004 0.006265265625\n",
      "2.0 0.0128531875\n",
      "1.0 0.00993503125\n",
      "1.5 0.01176990625\n",
      "1.75 0.01239575\n",
      "1.875 0.012634234375\n",
      "1.9375 0.0127545\n",
      "1.96875 0.01280846875\n",
      "1.99 0.012864609375\n",
      "1.98 0.012844546875\n",
      "-0.006304609375000001\n",
      "12.0\n",
      "0.01 0.00555390625\n",
      "0.3 0.005972234375\n",
      "1.3 0.010848140625\n",
      "0.30000000000000004 0.0059765\n",
      "2.0 0.01261521875\n",
      "1.0 0.0095606875\n",
      "1.5 0.0114890625\n",
      "1.75 0.01213634375\n",
      "1.875 0.012393265625\n",
      "1.9375 0.01249628125\n",
      "1.96875 0.012557921875\n",
      "1.99 0.012604734375\n",
      "-0.006055218750000001\n",
      "12.030303030303031\n",
      "0.01 0.00528171875\n",
      "0.3 0.005677265625\n",
      "1.3 0.01049734375\n",
      "0.30000000000000004 0.0056698125\n",
      "2.0 0.012373890625\n",
      "1.0 0.00922096875\n",
      "1.5 0.01117415625\n",
      "1.75 0.011833453125\n",
      "1.875 0.012128296875\n",
      "1.9375 0.012273921875\n",
      "1.96875 0.0123245625\n",
      "1.99 0.012357421875\n",
      "-0.005813890625\n",
      "12.06060606060606\n",
      "0.01 0.005037109375\n",
      "0.3 0.005400046875\n",
      "1.3 0.010195578125\n",
      "0.30000000000000004 0.005393515625\n",
      "2.0 0.01209746875\n",
      "1.0 0.008859984375\n",
      "1.5 0.010902796875\n",
      "1.75 0.011575390625\n",
      "1.875 0.011868109375\n",
      "1.9375 0.011997546875\n",
      "1.96875 0.012063734375\n",
      "1.99 0.01212415625\n",
      "1.98 0.01210765625\n",
      "-0.0055641562500000005\n",
      "12.09090909090909\n",
      "1.3 0.009879625\n",
      "0.3 0.0051443125\n",
      "0.30000000000000004 0.005144828125\n",
      "2.0 0.011888265625\n",
      "1.0 0.008536671875\n",
      "1.5 0.01060615625\n",
      "1.75 0.0113021875\n",
      "1.875 0.011630640625\n",
      "1.9375 0.011749671875\n",
      "1.96875 0.01183453125\n",
      "1.99 0.011871625\n",
      "-0.005328265625\n",
      "12.121212121212121\n",
      "0.01 0.004576671875\n",
      "0.3 0.004906078125\n",
      "1.3 0.009568171875\n",
      "2.0 0.011657328125\n",
      "1.0 0.008189171875\n",
      "1.5 0.010304984375\n",
      "1.75 0.011054921875\n",
      "1.875 0.011380515625\n",
      "1.9375 0.0115310625\n",
      "1.96875 0.011569984375\n",
      "1.99 0.011634484375\n",
      "-0.005097328125\n",
      "12.151515151515152\n",
      "0.01 0.00438190625\n",
      "0.3 0.0046679375\n",
      "1.3 0.00926571875\n",
      "2.0 0.011426046875\n",
      "1.0 0.0078994375\n",
      "1.5 0.0100299375\n",
      "1.75 0.010801296875\n",
      "1.875 0.01110475\n",
      "1.9375 0.01126825\n",
      "1.96875 0.0113601875\n",
      "1.99 0.011397234375\n",
      "-0.004866046875\n",
      "12.181818181818182\n",
      "1.3 0.00896615625\n",
      "0.3 0.004465671875\n",
      "0.30000000000000004 0.004461515625\n",
      "2.0 0.011172609375\n",
      "1.0 0.00756875\n",
      "1.5 0.009749765625\n",
      "1.75 0.01055425\n",
      "1.875 0.010865171875\n",
      "1.9375 0.01104409375\n",
      "1.96875 0.011124359375\n",
      "1.99 0.011137828125\n",
      "-0.004612609375\n",
      "12.212121212121213\n",
      "1.3 0.008698890625\n",
      "0.3 0.004247171875\n",
      "0.30000000000000004 0.00425384375\n",
      "2.0 0.010972859375\n",
      "1.0 0.007281265625\n",
      "1.5 0.00948515625\n",
      "1.75 0.010272171875\n",
      "1.875 0.010617578125\n",
      "1.9375 0.010797625\n",
      "1.96875 0.01087128125\n",
      "1.99 0.010924375\n",
      "-0.004412859375\n",
      "12.242424242424242\n",
      "0.01 0.00382234375\n",
      "0.3 0.00406925\n",
      "1.3 0.00841009375\n",
      "2.0 0.010716890625\n",
      "1.0 0.006969984375\n",
      "1.5 0.009207015625\n",
      "1.75 0.0100518125\n",
      "1.875 0.010401796875\n",
      "1.9375 0.010547015625\n",
      "1.96875 0.0106315625\n",
      "1.99 0.0106731875\n",
      "-0.0041568906249999996\n",
      "12.272727272727273\n",
      "0.01 0.0036504375\n",
      "0.3 0.003883484375\n",
      "1.3 0.008147390625\n",
      "2.0 0.01049934375\n",
      "1.0 0.0067133125\n",
      "1.5 0.008943734375\n",
      "1.75 0.00979775\n",
      "1.875 0.01013759375\n",
      "1.9375 0.010322765625\n",
      "1.96875 0.010415125\n",
      "1.99 0.010455171875\n",
      "-0.003939343750000001\n",
      "12.303030303030303\n",
      "1.3 0.0078549375\n",
      "0.3 0.003715375\n",
      "0.30000000000000004 0.003716921875\n",
      "2.0 0.0102589375\n",
      "1.0 0.00644346875\n",
      "1.5 0.008676546875\n",
      "1.75 0.009545578125\n",
      "1.875 0.00992196875\n",
      "1.9375 0.0100791875\n",
      "1.96875 0.01017503125\n",
      "1.99 0.01024603125\n",
      "-0.003698937500000001\n",
      "12.333333333333334\n",
      "1.3 0.0075963125\n",
      "0.3 0.003562\n",
      "0.30000000000000004 0.0035463125\n",
      "2.0 0.01003721875\n",
      "1.0 0.00616465625\n",
      "1.5 0.0084216875\n",
      "1.75 0.00930175\n",
      "1.875 0.009677703125\n",
      "1.9375 0.00986971875\n",
      "1.96875 0.00995396875\n",
      "1.99 0.01002309375\n",
      "-0.0034772187500000003\n",
      "12.363636363636363\n",
      "0.01 0.00320921875\n",
      "0.3 0.003408328125\n",
      "1.3 0.00733915625\n",
      "2.0 0.009829109375\n",
      "1.0 0.005906171875\n",
      "1.5 0.0081823125\n",
      "1.75 0.0090539375\n",
      "1.875 0.009460921875\n",
      "1.9375 0.00962875\n",
      "1.96875 0.0097326875\n",
      "1.99 0.009777625\n",
      "-0.0032691093750000007\n",
      "12.393939393939394\n",
      "1.3 0.00707453125\n",
      "0.3 0.003259859375\n",
      "0.30000000000000004 0.00327184375\n",
      "2.0 0.009580203125\n",
      "1.0 0.005652390625\n",
      "1.5 0.00794871875\n",
      "1.75 0.008832375\n",
      "1.875 0.009237578125\n",
      "1.9375 0.0094054375\n",
      "1.96875 0.00951221875\n",
      "1.99 0.009560671875\n",
      "-0.0030202031250000008\n",
      "12.424242424242424\n",
      "1.3 0.006848640625\n",
      "0.3 0.00311884375\n",
      "0.30000000000000004 0.00312621875\n",
      "2.0 0.00936384375\n",
      "1.0 0.0054280625\n",
      "1.5 0.007688921875\n",
      "1.75 0.0086108125\n",
      "1.875 0.00898525\n",
      "1.9375 0.00919965625\n",
      "1.96875 0.00927396875\n",
      "1.99 0.00935271875\n",
      "-0.00280384375\n",
      "12.454545454545455\n",
      "1.3 0.006596765625\n",
      "0.3 0.002998796875\n",
      "0.30000000000000004 0.00298628125\n",
      "2.0 0.00917709375\n",
      "1.0 0.005209375\n",
      "1.5 0.00746996875\n",
      "1.75 0.008389578125\n",
      "1.875 0.00878746875\n",
      "1.9375 0.00900603125\n",
      "1.96875 0.00906909375\n",
      "1.99 0.009119921875\n",
      "-0.0026170937500000005\n",
      "12.484848484848484\n",
      "0.01 0.002728015625\n",
      "0.3 0.002880828125\n",
      "1.3 0.006351109375\n",
      "2.0 0.00896021875\n",
      "1.0 0.004978328125\n",
      "1.5 0.007219484375\n",
      "1.75 0.008138703125\n",
      "1.875 0.008559671875\n",
      "1.9375 0.00877196875\n",
      "1.96875 0.0088496875\n",
      "1.99 0.00892075\n",
      "-0.0024002187500000004\n",
      "12.515151515151516\n",
      "0.01 0.00262575\n",
      "0.3 0.002769453125\n",
      "1.3 0.006149625\n",
      "2.0 0.008745421875\n",
      "1.0 0.00477409375\n",
      "1.5 0.00699615625\n",
      "1.75 0.00791659375\n",
      "1.875 0.00836996875\n",
      "1.9375 0.008558953125\n",
      "1.96875 0.008655734375\n",
      "1.99 0.0087034375\n",
      "-0.0021854218749999994\n",
      "12.545454545454545\n",
      "0.01 0.00252259375\n",
      "0.3 0.002648171875\n",
      "1.3 0.005915484375\n",
      "0.30000000000000004 0.002652296875\n",
      "2.0 0.00851265625\n",
      "1.0 0.00458053125\n",
      "1.5 0.00677246875\n",
      "1.75 0.007715109375\n",
      "1.875 0.00815103125\n",
      "1.9375 0.00833225\n",
      "1.96875 0.00844615625\n",
      "1.99 0.00850940625\n",
      "-0.0019526562500000004\n",
      "12.575757575757576\n",
      "1.3 0.005709015625\n",
      "0.3 0.002551203125\n",
      "0.30000000000000004 0.0025618125\n",
      "2.0 0.00834146875\n",
      "1.0 0.00438046875\n",
      "1.5 0.006559375\n",
      "1.75 0.007513125\n",
      "1.875 0.007948765625\n",
      "1.9375 0.00813615625\n",
      "1.96875 0.008230734375\n",
      "1.99 0.008317375\n",
      "-0.001781468750000001\n",
      "12.606060606060606\n",
      "0.01 0.002335875\n",
      "0.3 0.00246425\n",
      "1.3 0.005493390625\n",
      "2.0 0.008148328125\n",
      "1.0 0.004205515625\n",
      "1.5 0.006341796875\n",
      "1.75 0.00730571875\n",
      "1.875 0.007725265625\n",
      "1.9375 0.007941359375\n",
      "1.96875 0.00806140625\n",
      "1.99 0.008093640625\n",
      "-0.001588328125\n",
      "12.636363636363637\n",
      "1.3 0.0052869375\n",
      "0.3 0.002357171875\n",
      "0.30000000000000004 0.002357265625\n",
      "2.0 0.00793721875\n",
      "1.0 0.00402634375\n",
      "1.5 0.006134\n",
      "1.75 0.007097125\n",
      "1.875 0.007550046875\n",
      "1.9375 0.007737109375\n",
      "1.96875 0.0078374375\n",
      "1.99 0.007915828125\n",
      "-0.0013772187500000008\n",
      "12.666666666666666\n",
      "0.01 0.002176421875\n",
      "0.3 0.002265625\n",
      "1.3 0.00510578125\n",
      "0.30000000000000004 0.002279015625\n",
      "2.0 0.00775309375\n",
      "1.0 0.00385728125\n",
      "1.5 0.005942375\n",
      "1.75 0.00691125\n",
      "1.875 0.0073380625\n",
      "1.9375 0.007552328125\n",
      "1.96875 0.00765365625\n",
      "1.99 0.007705671875\n",
      "-0.0011930937499999997\n",
      "12.696969696969697\n",
      "0.01 0.00208875\n",
      "0.3 0.002194140625\n",
      "1.3 0.00489603125\n",
      "0.30000000000000004 0.002200203125\n",
      "2.0 0.007552671875\n",
      "1.0 0.00369853125\n",
      "1.5 0.005738296875\n",
      "1.75 0.006695171875\n",
      "1.875 0.007127453125\n",
      "1.9375 0.0073554375\n",
      "1.96875 0.007446390625\n",
      "1.99 0.007534484375\n",
      "-0.000992671875\n",
      "12.727272727272727\n",
      "0.01 0.002023765625\n",
      "0.3 0.002114140625\n",
      "1.3 0.004724203125\n",
      "2.0 0.007387515625\n",
      "1.0 0.0035233125\n",
      "1.5 0.00555053125\n",
      "1.75 0.006504734375\n"
     ]
    },
    {
     "name": "stdout",
     "output_type": "stream",
     "text": [
      "1.875 0.0069410625\n",
      "1.9375 0.007154046875\n",
      "1.96875 0.00724990625\n",
      "1.99 0.007344265625\n",
      "-0.0008275156250000006\n",
      "12.757575757575758\n",
      "0.01 0.00195271875\n",
      "0.3 0.0020269375\n",
      "1.3 0.00455578125\n",
      "2.0 0.00717090625\n",
      "1.0 0.003384046875\n",
      "1.5 0.0053523125\n",
      "1.75 0.00630625\n",
      "1.875 0.00675484375\n",
      "1.9375 0.00696415625\n",
      "1.96875 0.0070695625\n",
      "1.99 0.007144609375\n",
      "-0.0006109062500000003\n",
      "12.787878787878787\n",
      "0.01 0.00188196875\n",
      "0.3 0.001974359375\n",
      "1.3 0.004381234375\n",
      "0.30000000000000004 0.001967515625\n",
      "2.0 0.00698890625\n",
      "1.0 0.003233953125\n",
      "1.5 0.005174328125\n",
      "1.75 0.006136\n",
      "1.875 0.006566578125\n",
      "1.9375 0.006794265625\n",
      "1.96875 0.006890375\n",
      "1.99 0.006952578125\n",
      "-0.00042890625000000047\n",
      "12.818181818181818\n",
      "0.01 0.001818546875\n",
      "0.3 0.001899296875\n",
      "1.3 0.004207015625\n",
      "2.0 0.006806828125\n",
      "1.0 0.003111328125\n",
      "1.5 0.004992078125\n",
      "1.75 0.00595690625\n",
      "1.875 0.006391015625\n",
      "1.9375 0.0066198125\n",
      "1.96875 0.006695734375\n",
      "1.99 0.006783796875\n",
      "-0.0002468281250000001\n",
      "12.848484848484848\n",
      "0.01 0.001767\n",
      "0.3 0.001831453125\n",
      "1.3 0.004053390625\n",
      "2.0 0.0066429375\n",
      "1.0 0.002971921875\n",
      "1.5 0.00482521875\n",
      "1.75 0.00576875\n",
      "1.875 0.00621925\n",
      "1.9375 0.006434015625\n",
      "1.96875 0.00651575\n",
      "1.99 0.00661934375\n",
      "-8.293750000000055e-05\n",
      "12.878787878787879\n",
      "1.3 0.003897546875\n",
      "0.3 0.001773375\n",
      "0.30000000000000004 0.00176884375\n",
      "2.0 0.006449875\n",
      "1.0 0.0028468125\n",
      "1.5 0.004654640625\n",
      "1.75 0.005597140625\n",
      "1.875 0.00604715625\n",
      "1.9375 0.0062538125\n",
      "1.96875 0.006358515625\n",
      "1.99 0.0064350625\n",
      "0.00011012499999999998\n",
      "12.90909090909091\n",
      "0.01 0.001659015625\n",
      "0.3 0.001708578125\n",
      "1.3 0.003745640625\n",
      "2.0 0.006291984375\n",
      "1.0 0.002721859375\n",
      "1.5 0.004492625\n",
      "1.75 0.005438671875\n",
      "1.875 0.005873734375\n",
      "1.9375 0.00609221875\n",
      "1.96875 0.006194765625\n",
      "1.99 0.00625790625\n",
      "0.0002680156249999996\n",
      "12.93939393939394\n",
      "1.3 0.003601296875\n",
      "0.3 0.001653390625\n",
      "0.30000000000000004 0.001656359375\n",
      "2.0 0.006141296875\n",
      "1.0 0.002616703125\n",
      "1.5 0.0043288125\n",
      "1.75 0.005271125\n",
      "1.875 0.005701875\n",
      "1.9375 0.005919984375\n",
      "1.96875 0.0060208125\n",
      "1.99 0.006101953125\n",
      "0.00041870312500000024\n",
      "12.969696969696969\n",
      "0.01 0.00154465625\n",
      "0.3 0.001590734375\n",
      "1.3 0.003470328125\n",
      "0.30000000000000004 0.0015974375\n",
      "2.0 0.00595759375\n",
      "1.0 0.0025221875\n",
      "1.5 0.00418175\n",
      "1.75 0.005107125\n",
      "1.875 0.005534078125\n",
      "1.9375 0.005767984375\n",
      "1.96875 0.00586625\n",
      "1.99 0.005928515625\n",
      "0.0006024062499999996\n",
      "13.0\n",
      "0.01 0.001494890625\n",
      "0.3 0.001552375\n",
      "1.3 0.003316671875\n",
      "2.0 0.005786453125\n",
      "1.0 0.00240403125\n",
      "1.5 0.0040228125\n",
      "1.75 0.004938234375\n",
      "1.875 0.005364515625\n",
      "1.9375 0.005585453125\n",
      "1.96875 0.00569525\n",
      "1.99 0.00576521875\n",
      "0.0007735468749999995\n",
      "13.030303030303031\n",
      "1.3 0.003194203125\n",
      "0.3 0.001496484375\n",
      "0.30000000000000004 0.001496484375\n",
      "2.0 0.0056373125\n",
      "1.0 0.002312671875\n",
      "1.5 0.00388815625\n",
      "1.75 0.004798734375\n",
      "1.875 0.00522190625\n",
      "1.9375 0.005443984375\n",
      "1.96875 0.005535015625\n",
      "1.99 0.00559540625\n",
      "0.0009226874999999999\n",
      "13.06060606060606\n",
      "1.3 0.003078109375\n",
      "0.3 0.001448671875\n",
      "0.30000000000000004 0.001449203125\n",
      "2.0 0.00548609375\n",
      "1.0 0.002213125\n",
      "1.5 0.00374309375\n",
      "1.75 0.00463196875\n",
      "1.875 0.005061234375\n",
      "1.9375 0.0052846875\n",
      "1.96875 0.00538446875\n",
      "1.99 0.00544225\n",
      "0.0010739062500000002\n",
      "13.09090909090909\n",
      "0.01 0.00136325\n",
      "0.3 0.001402046875\n",
      "1.3 0.002951078125\n",
      "2.0 0.00534659375\n",
      "1.0 0.00213075\n",
      "1.5 0.00362278125\n",
      "1.75 0.00447840625\n",
      "1.875 0.004915625\n",
      "1.9375 0.005127171875\n",
      "1.96875 0.005232578125\n",
      "1.99 0.00529590625\n",
      "0.00121340625\n",
      "13.121212121212121\n",
      "1.3 0.002830578125\n",
      "0.3 0.001352640625\n",
      "0.30000000000000004 0.0013616875\n",
      "2.0 0.00518753125\n",
      "1.0 0.00203990625\n",
      "1.5 0.00348403125\n",
      "1.75 0.004357234375\n",
      "1.875 0.004753\n",
      "1.9375 0.004968453125\n",
      "1.96875 0.00508303125\n",
      "1.99 0.005152765625\n",
      "0.0013724687499999996\n",
      "13.151515151515152\n",
      "0.01 0.001281328125\n",
      "0.3 0.001315359375\n",
      "1.3 0.0027255625\n",
      "2.0 0.00504103125\n",
      "1.0 0.00195746875\n",
      "1.5 0.003344046875\n",
      "1.75 0.0042031875\n",
      "1.875 0.004617640625\n",
      "1.9375 0.004838171875\n",
      "1.96875 0.004942953125\n",
      "1.99 0.00501321875\n",
      "0.0015189687499999995\n",
      "13.181818181818182\n",
      "0.01 0.0012455625\n",
      "0.3 0.001279796875\n",
      "1.3 0.00261009375\n",
      "0.30000000000000004 0.001274359375\n",
      "2.0 0.004891671875\n",
      "1.0 0.0018804375\n",
      "1.5 0.003227328125\n",
      "1.75 0.004069671875\n",
      "1.875 0.004483859375\n",
      "1.9375 0.004689953125\n",
      "1.96875 0.00478421875\n",
      "1.99 0.00486346875\n",
      "0.001668328125\n",
      "13.212121212121213\n",
      "1.3 0.002513421875\n",
      "0.3 0.001231\n",
      "0.30000000000000004 0.00123384375\n",
      "2.0 0.004769109375\n",
      "1.0 0.001798703125\n",
      "1.5 0.003107296875\n",
      "1.75 0.003929328125\n",
      "1.875 0.004347921875\n",
      "1.9375 0.00454359375\n",
      "1.96875 0.0046531875\n",
      "1.99 0.004717515625\n",
      "0.0017908906249999995\n",
      "13.242424242424242\n",
      "1.3 0.002410609375\n",
      "0.3 0.00119659375\n",
      "0.30000000000000004 0.001194328125\n",
      "2.0 0.004621140625\n",
      "1.0 0.00173690625\n",
      "1.5 0.0029950625\n",
      "1.75 0.003807375\n",
      "1.875 0.004214015625\n",
      "1.9375 0.004410953125\n",
      "1.96875 0.00451578125\n",
      "1.99 0.004582046875\n",
      "0.001938859375\n",
      "13.272727272727273\n",
      "0.01 0.001134890625\n",
      "0.3 0.00115934375\n",
      "1.3 0.002299\n",
      "2.0 0.0044796875\n",
      "1.0 0.001666234375\n",
      "1.5 0.002881859375\n",
      "1.75 0.00367253125\n",
      "1.875 0.004083203125\n",
      "1.9375 0.00427928125\n",
      "1.96875 0.004392734375\n",
      "1.99 0.004440359375\n",
      "0.0020803124999999997\n",
      "13.303030303030303\n",
      "0.01 0.001100171875\n",
      "0.3 0.001126171875\n",
      "1.3 0.002216828125\n",
      "2.0 0.004370171875\n",
      "1.0 0.00159396875\n",
      "1.5 0.00277109375\n",
      "1.75 0.003557703125\n",
      "1.875 0.003949265625\n",
      "1.9375 0.00416034375\n",
      "1.96875 0.004265328125\n",
      "1.99 0.004327609375\n",
      "0.0021898281249999995\n",
      "13.333333333333334\n",
      "1.3 0.00213225\n",
      "0.3 0.001091234375\n",
      "0.30000000000000004 0.00108684375\n",
      "2.0 0.004223953125\n",
      "1.0 0.001537296875\n",
      "1.5 0.00266253125\n",
      "1.75 0.003421828125\n",
      "1.875 0.00382009375\n",
      "1.9375 0.00403040625\n",
      "1.96875 0.004126140625\n",
      "1.99 0.004192609375\n",
      "0.002336046875\n",
      "13.363636363636363\n",
      "0.01 0.00103\n",
      "0.3 0.0010564375\n",
      "1.3 0.002044859375\n",
      "0.30000000000000004 0.00105603125\n",
      "2.0 0.00409734375\n",
      "1.0 0.0014764375\n",
      "1.5 0.00256284375\n",
      "1.75 0.00331496875\n",
      "1.875 0.00371575\n",
      "1.9375 0.00390190625\n",
      "1.96875 0.0040005625\n",
      "1.99 0.00407328125\n",
      "0.0024626562499999996\n",
      "13.393939393939394\n",
      "1.3 0.00196334375\n",
      "0.3 0.00101409375\n",
      "0.30000000000000004 0.001020671875\n",
      "2.0 0.003977890625\n",
      "1.0 0.0014225625\n",
      "1.5 0.002466625\n",
      "1.75 0.003202390625\n",
      "1.875 0.0035890625\n",
      "1.9375 0.003781453125\n",
      "1.96875 0.00388065625\n",
      "1.99 0.003938453125\n",
      "0.0025821093749999998\n",
      "13.424242424242424\n",
      "0.01 0.0009763125\n",
      "0.3 0.0009856875\n",
      "1.3 0.001886359375\n",
      "0.30000000000000004 0.000986890625\n",
      "2.0 0.003857484375\n",
      "1.0 0.001364609375\n",
      "1.5 0.002383546875\n",
      "1.75 0.003085328125\n",
      "1.875 0.003478140625\n",
      "1.9375 0.00367046875\n",
      "1.96875 0.003754734375\n",
      "1.99 0.003817109375\n",
      "0.002702515625\n",
      "13.454545454545455\n",
      "1.3 0.00180853125\n",
      "0.3 0.00094965625\n",
      "0.30000000000000004 0.00095303125\n",
      "2.0 0.00373996875\n",
      "1.0 0.001312234375\n",
      "1.5 0.00229725\n",
      "1.75 0.002985015625\n",
      "1.875 0.003371578125\n",
      "1.9375 0.00355596875\n",
      "1.96875 0.003641609375\n",
      "1.99 0.003708265625\n",
      "0.00282003125\n",
      "13.484848484848484\n",
      "1.3 0.0017439375\n",
      "0.3 0.000921515625\n",
      "0.30000000000000004 0.000921390625\n",
      "2.0 0.003631421875\n",
      "1.0 0.0012633125\n",
      "1.5 0.00219525\n",
      "1.75 0.002884921875\n",
      "1.875 0.003238640625\n",
      "1.9375 0.00343515625\n",
      "1.96875 0.0035291875\n",
      "1.99 0.003590125\n",
      "0.0029285781249999998\n",
      "13.515151515151516\n",
      "0.01 0.000880140625\n",
      "0.3 0.000891984375\n",
      "1.3 0.00166959375\n",
      "0.30000000000000004 0.00090103125\n",
      "2.0 0.003516234375\n",
      "1.0 0.00121128125\n",
      "1.5 0.00211753125\n",
      "1.75 0.002771625\n",
      "1.875 0.003154453125\n",
      "1.9375 0.00332159375\n",
      "1.96875 0.00342790625\n",
      "1.99 0.00347915625\n",
      "0.003043765625\n",
      "13.545454545454545\n",
      "1.3 0.001597703125\n",
      "0.3 0.000865984375\n",
      "0.30000000000000004 0.000865234375\n",
      "2.0 0.003410921875\n",
      "1.0 0.001165890625\n",
      "1.5 0.002031984375\n",
      "1.75 0.00269025\n",
      "1.875 0.003048734375\n",
      "1.9375 0.003227890625\n",
      "1.96875 0.003319703125\n",
      "1.99 0.00337359375\n",
      "0.003149078125\n",
      "13.575757575757576\n",
      "1.3 0.00153359375\n",
      "0.3 0.000839171875\n",
      "0.30000000000000004 0.0008413125\n",
      "2.0 0.003293\n",
      "1.0 0.001120921875\n",
      "1.5 0.001955125\n",
      "1.75 0.002590625\n",
      "1.875 0.002942875\n",
      "1.9375 0.003118171875\n",
      "1.96875 0.0032035625\n",
      "1.99 0.00325421875\n",
      "0.003267\n",
      "13.606060606060606\n",
      "0.01 0.000800265625\n",
      "0.3 0.00081228125\n",
      "1.3 0.001472859375\n",
      "0.30000000000000004 0.00081425\n",
      "2.0 0.003184484375\n",
      "1.0 0.0010818125\n",
      "1.5 0.001877890625\n",
      "1.75 0.002489828125\n",
      "1.875 0.002838546875\n",
      "1.9375 0.003016109375\n",
      "1.96875 0.00310421875\n",
      "1.99 0.00315528125\n",
      "0.003375515625\n",
      "13.636363636363637\n",
      "1.3 0.001422375\n",
      "0.3 0.00078884375\n",
      "0.30000000000000004 0.000785546875\n",
      "2.0 0.003093125\n",
      "1.0 0.001037375\n",
      "1.5 0.001805875\n",
      "1.75 0.002409984375\n",
      "1.875 0.002727140625\n",
      "1.9375 0.002911546875\n",
      "1.96875 0.002995359375\n",
      "1.99 0.0030639375\n",
      "0.003466875\n",
      "13.666666666666668\n",
      "0.01 0.000745515625\n",
      "0.3 0.000754453125\n",
      "1.3 0.001353984375\n",
      "2.0 0.0029909375\n",
      "1.0 0.000996078125\n",
      "1.5 0.00172709375\n",
      "1.75 0.00231865625\n",
      "1.875 0.0026479375\n",
      "1.9375 0.002809421875\n",
      "1.96875 0.002896296875\n"
     ]
    },
    {
     "name": "stdout",
     "output_type": "stream",
     "text": [
      "1.99 0.00296978125\n",
      "0.0035690624999999998\n",
      "13.696969696969697\n",
      "0.01 0.00072015625\n",
      "0.3 0.000728078125\n",
      "1.3 0.001311484375\n",
      "2.0 0.002897078125\n",
      "1.0 0.000957296875\n",
      "1.5 0.001669453125\n",
      "1.75 0.002235875\n",
      "1.875 0.002555765625\n",
      "1.9375 0.002726953125\n",
      "1.96875 0.002812796875\n",
      "1.99 0.002875875\n",
      "0.003662921875\n",
      "13.727272727272727\n",
      "0.01 0.000696015625\n",
      "0.3 0.0007040625\n",
      "1.3 0.00125140625\n",
      "0.30000000000000004 0.000699046875\n",
      "2.0 0.002804796875\n",
      "1.0 0.000918\n",
      "1.5 0.001599078125\n",
      "1.75 0.002153375\n",
      "1.875 0.002470265625\n",
      "1.9375 0.00264578125\n",
      "1.96875 0.002723296875\n",
      "1.99 0.002772734375\n",
      "0.003755203125\n",
      "13.757575757575758\n",
      "1.3 0.001197203125\n",
      "0.3 0.0006719375\n",
      "0.30000000000000004 0.0006773125\n",
      "2.0 0.002701625\n",
      "1.0 0.000887515625\n",
      "1.5 0.001536703125\n",
      "1.75 0.002079453125\n",
      "1.875 0.00238328125\n",
      "1.9375 0.002546328125\n",
      "1.96875 0.002637265625\n",
      "1.99 0.0026885\n",
      "0.003858375\n",
      "13.787878787878789\n",
      "1.3 0.00114903125\n",
      "0.3 0.00065025\n",
      "0.30000000000000004 0.000649234375\n",
      "2.0 0.00263575\n",
      "1.0 0.000854640625\n",
      "1.5 0.00147584375\n",
      "1.75 0.00199890625\n",
      "1.875 0.002304046875\n",
      "1.9375 0.002456296875\n",
      "1.96875 0.002534015625\n",
      "1.99 0.002610265625\n",
      "0.00392425\n",
      "13.818181818181818\n",
      "1.3 0.001104546875\n",
      "0.3 0.000623671875\n",
      "0.30000000000000004 0.00062365625\n",
      "2.0 0.00253865625\n",
      "1.0 0.000822015625\n",
      "1.5 0.001418609375\n",
      "1.75 0.00192415625\n",
      "1.875 0.002230484375\n",
      "1.9375 0.002374140625\n",
      "1.96875 0.002459671875\n",
      "1.99 0.00251525\n",
      "0.00402134375\n",
      "13.848484848484848\n",
      "1.3 0.00106696875\n",
      "0.3 0.000600828125\n",
      "0.30000000000000004 0.000602265625\n",
      "2.0 0.002462296875\n",
      "1.0 0.0007913125\n",
      "1.5 0.00135715625\n",
      "1.75 0.001865796875\n",
      "1.875 0.00215103125\n",
      "1.9375 0.002307234375\n",
      "1.96875 0.002381390625\n",
      "1.99 0.002421703125\n",
      "0.004097703124999999\n",
      "13.878787878787879\n",
      "1.3 0.00102403125\n",
      "0.3 0.0005806875\n",
      "0.30000000000000004 0.00058303125\n",
      "2.0 0.00237146875\n",
      "1.0 0.00076084375\n",
      "1.5 0.001307296875\n",
      "1.75 0.00178940625\n",
      "1.875 0.0020705625\n",
      "1.9375 0.002224796875\n",
      "1.96875 0.002305390625\n",
      "1.99 0.002342984375\n",
      "0.00418853125\n",
      "13.90909090909091\n",
      "0.01 0.00054396875\n",
      "0.3 0.00056240625\n",
      "1.3 0.00097178125\n",
      "2.0 0.002298890625\n",
      "1.0 0.0007278125\n",
      "1.5 0.001250625\n",
      "1.75 0.00171975\n",
      "1.875 0.001991859375\n",
      "1.9375 0.002141453125\n",
      "1.96875 0.00222725\n",
      "1.99 0.0022743125\n",
      "0.004261109375\n",
      "13.93939393939394\n",
      "0.01 0.000515578125\n",
      "0.3 0.00052575\n",
      "1.3 0.0009429375\n",
      "2.0 0.00221171875\n",
      "1.0 0.0007073125\n",
      "1.5 0.00120790625\n",
      "1.75 0.0016655\n",
      "1.875 0.00192015625\n",
      "1.9375 0.002068046875\n",
      "1.96875 0.00213659375\n",
      "1.99 0.00219309375\n",
      "0.00434828125\n",
      "13.969696969696969\n",
      "0.01 0.000496703125\n",
      "0.3 0.0005114375\n",
      "1.3 0.000901734375\n",
      "2.0 0.002150265625\n",
      "1.0 0.0006775\n",
      "1.5 0.0011599375\n",
      "1.75 0.001601984375\n",
      "1.875 0.00184784375\n",
      "1.9375 0.00200240625\n",
      "1.96875 0.002064625\n",
      "1.99 0.00212859375\n",
      "0.004409734375\n",
      "14.0\n",
      "1.3 0.00086184375\n",
      "0.3 0.000485140625\n",
      "0.30000000000000004 0.000487390625\n",
      "2.0 0.00206303125\n",
      "1.0 0.000647765625\n",
      "1.5 0.00111546875\n",
      "1.75 0.00153978125\n",
      "1.875 0.001788328125\n",
      "1.9375 0.0019225625\n",
      "1.96875 0.001993828125\n",
      "1.99 0.002043984375\n",
      "0.00449696875\n"
     ]
    }
   ],
   "source": [
    "sig_fits = []\n",
    "func_val = []\n",
    "ng\n",
    "for m in logMmin:\n",
    "    print(np.log10(m))\n",
    "    model_instance.param_dict['logMmin'] = np.log10(m)\n",
    "    res = minimizeCompass(_find_sigma,[0.3], bounds = [[0.01,2.]],deltatol=0.01, niter = 10, paired=False,disp=False,errorcontrol=False)\n",
    "    sig_fits.append(res.x[0])\n",
    "    func_val.append(res.fun)\n",
    "    print(res.fun)"
   ]
  },
  {
   "cell_type": "code",
   "execution_count": 330,
   "metadata": {},
   "outputs": [
    {
     "data": {
      "image/png": "[encoded data removed]",
      "text/plain": [
       "<Figure size 432x288 with 1 Axes>"
      ]
     },
     "metadata": {
      "image/png": {
       "height": 249,
       "width": 378
      },
      "needs_background": "light"
     },
     "output_type": "display_data"
    }
   ],
   "source": [
    "f = np.load('logMmin_sigma.npy',allow_pickle=True)\n",
    "cond1 = f[1]<2.\n",
    "cond2 = f[1][cond1]>0.01\n",
    "plt.scatter(f[0][cond1][cond2],f[1][cond1][cond2],s=1)\n",
    "#plt.hist(f[0][cond1][cond2],histtype='step',bins=20)\n",
    "#plt.hist(f[1][cond1][cond2],histtype='step')\n",
    "m, b = np.polyfit(np.log10(f[0])[cond1][cond2], f[1][cond1][cond2], 1)\n",
    "plt.plot(f[0][cond1][cond2],m*np.log10(f[0])[cond1][cond2]+b,label=str(m)[0:4]+'x+'+str(b)[0:4])\n",
    "plt.legend()\n",
    "plt.xscale('log')\n",
    "plt.show()"
   ]
  },
  {
   "cell_type": "code",
   "execution_count": 331,
   "metadata": {},
   "outputs": [
    {
     "data": {
      "text/plain": [
       "0.3999999999999986"
      ]
     },
     "execution_count": 331,
     "metadata": {},
     "output_type": "execute_result"
    }
   ],
   "source": [
    "1.7*12.-20"
   ]
  },
  {
   "cell_type": "code",
   "execution_count": 341,
   "metadata": {},
   "outputs": [
    {
     "name": "stdout",
     "output_type": "stream",
     "text": [
      "0.009925609375\n",
      "11.03\n",
      "0.0101045\n",
      "11.059999999999999\n",
      "0.01031625\n",
      "11.089999999999998\n",
      "0.0105125\n",
      "11.119999999999997\n",
      "0.010755765625\n",
      "11.149999999999997\n",
      "0.0109964375\n",
      "11.179999999999996\n",
      "0.011285875\n",
      "11.209999999999996\n",
      "0.011605625\n",
      "11.239999999999995\n",
      "0.011966078125\n",
      "11.269999999999994\n",
      "0.01235834375\n",
      "11.299999999999994\n",
      "0.01280796875\n",
      "11.329999999999993\n",
      "0.01330834375\n",
      "11.359999999999992\n",
      "0.013857953125\n",
      "11.389999999999992\n",
      "0.01449290625\n",
      "11.419999999999991\n",
      "0.01520328125\n",
      "11.44999999999999\n",
      "0.016017890625\n",
      "11.47999999999999\n",
      "0.0169125625\n",
      "11.50999999999999\n",
      "0.0178765\n",
      "11.539999999999988\n",
      "0.018896078125\n",
      "11.569999999999988\n",
      "0.0199115\n",
      "11.599999999999987\n",
      "0.020892453125\n",
      "11.629999999999987\n",
      "0.021752671875\n",
      "11.659999999999986\n",
      "0.022500765625\n",
      "11.689999999999985\n",
      "0.023155828125\n",
      "11.719999999999985\n",
      "0.0237274375\n",
      "11.749999999999984\n",
      "0.024218390625\n",
      "11.779999999999983\n",
      "0.00802375\n",
      "11.809999999999983\n",
      "0.007642546875\n",
      "11.839999999999982\n",
      "0.00734175\n",
      "11.869999999999981\n",
      "0.00706315625\n",
      "11.89999999999998\n",
      "0.006826265625\n"
     ]
    },
    {
     "name": "stderr",
     "output_type": "stream",
     "text": [
      "In gridlink_float> Running with [nmesh_x, nmesh_y, nmesh_z]  = 38,38,6.  Time taken =   0.052 sec\n",
      "0%.........10%.........20%.........30%.........40%.........50%.........60%.........70%.........80%.........90%.........100% done. Time taken =  3.430 secs\n"
     ]
    },
    {
     "name": "stdout",
     "output_type": "stream",
     "text": [
      "11.92999999999998\n",
      "0.00663209375\n"
     ]
    },
    {
     "name": "stderr",
     "output_type": "stream",
     "text": [
      "In gridlink_float> Running with [nmesh_x, nmesh_y, nmesh_z]  = 38,38,6.  Time taken =   0.054 sec\n",
      "0%.........10%.........20%.........30%.........40%.........50%.........60%.........70%.........80%.........90%.........100% done. Time taken =  3.324 secs\n"
     ]
    },
    {
     "name": "stdout",
     "output_type": "stream",
     "text": [
      "11.95999999999998\n",
      "0.0064774375\n"
     ]
    },
    {
     "name": "stderr",
     "output_type": "stream",
     "text": [
      "In gridlink_float> Running with [nmesh_x, nmesh_y, nmesh_z]  = 38,38,6.  Time taken =   0.050 sec\n",
      "0%.........10%.........20%.........30%.........40%.........50%.........60%.........70%.........80%.........90%.........100% done. Time taken =  3.114 secs\n"
     ]
    },
    {
     "name": "stdout",
     "output_type": "stream",
     "text": [
      "11.989999999999979\n",
      "0.006340921875\n"
     ]
    },
    {
     "name": "stderr",
     "output_type": "stream",
     "text": [
      "In gridlink_float> Running with [nmesh_x, nmesh_y, nmesh_z]  = 38,38,6.  Time taken =   0.050 sec\n",
      "0%.........10%.........20%.........30%.........40%.........50%.........60%.........70%.........80%.........90%.........100% done. Time taken =  3.048 secs\n"
     ]
    },
    {
     "name": "stdout",
     "output_type": "stream",
     "text": [
      "12.019999999999978\n",
      "0.006238328125\n"
     ]
    },
    {
     "name": "stderr",
     "output_type": "stream",
     "text": [
      "In gridlink_float> Running with [nmesh_x, nmesh_y, nmesh_z]  = 38,38,6.  Time taken =   0.050 sec\n",
      "0%.........10%.........20%.........30%.........40%.........50%.........60%.........70%.........80%.........90%.........100% done. Time taken =  2.969 secs\n"
     ]
    },
    {
     "name": "stdout",
     "output_type": "stream",
     "text": [
      "12.049999999999978\n",
      "0.00616478125\n"
     ]
    },
    {
     "name": "stderr",
     "output_type": "stream",
     "text": [
      "In gridlink_float> Running with [nmesh_x, nmesh_y, nmesh_z]  = 38,38,6.  Time taken =   0.048 sec\n",
      "0%.........10%.........20%.........30%.........40%.........50%.........60%.........70%.........80%.........90%.........100% done. Time taken =  2.887 secs\n"
     ]
    },
    {
     "name": "stdout",
     "output_type": "stream",
     "text": [
      "12.079999999999977\n",
      "0.0060925625\n"
     ]
    },
    {
     "name": "stderr",
     "output_type": "stream",
     "text": [
      "In gridlink_float> Running with [nmesh_x, nmesh_y, nmesh_z]  = 38,38,6.  Time taken =   0.047 sec\n",
      "0%.........10%.........20%.........30%.........40%.........50%.........60%.........70%.........80%.........90%.........100% done. Time taken =  2.795 secs\n"
     ]
    },
    {
     "name": "stdout",
     "output_type": "stream",
     "text": [
      "12.109999999999976\n",
      "0.00606271875\n"
     ]
    },
    {
     "name": "stderr",
     "output_type": "stream",
     "text": [
      "In gridlink_float> Running with [nmesh_x, nmesh_y, nmesh_z]  = 38,38,6.  Time taken =   0.046 sec\n",
      "0%.........10%.........20%.........30%.........40%.........50%.........60%.........70%.........80%.........90%.........100% done. Time taken =  2.774 secs\n"
     ]
    },
    {
     "name": "stdout",
     "output_type": "stream",
     "text": [
      "12.139999999999976\n",
      "0.006033609375\n"
     ]
    },
    {
     "name": "stderr",
     "output_type": "stream",
     "text": [
      "In gridlink_float> Running with [nmesh_x, nmesh_y, nmesh_z]  = 38,38,6.  Time taken =   0.045 sec\n",
      "0%.........10%.........20%.........30%.........40%.........50%.........60%.........70%.........80%.........90%.........100% done. Time taken =  2.770 secs\n"
     ]
    },
    {
     "name": "stdout",
     "output_type": "stream",
     "text": [
      "12.169999999999975\n",
      "0.006009515625\n"
     ]
    },
    {
     "name": "stderr",
     "output_type": "stream",
     "text": [
      "In gridlink_float> Running with [nmesh_x, nmesh_y, nmesh_z]  = 38,38,6.  Time taken =   0.046 sec\n",
      "0%.........10%.........20%.........30%.........40%.........50%.........60%.........70%.........80%.........90%.........100% done. Time taken =  2.737 secs\n"
     ]
    },
    {
     "name": "stdout",
     "output_type": "stream",
     "text": [
      "12.199999999999974\n",
      "0.00600215625\n"
     ]
    },
    {
     "name": "stderr",
     "output_type": "stream",
     "text": [
      "In gridlink_float> Running with [nmesh_x, nmesh_y, nmesh_z]  = 38,38,6.  Time taken =   0.045 sec\n",
      "0%.........10%.........20%.........30%.........40%.........50%.........60%.........70%.........80%.........90%.........100% done. Time taken =  2.736 secs\n"
     ]
    },
    {
     "name": "stdout",
     "output_type": "stream",
     "text": [
      "12.229999999999974\n",
      "0.0059989375\n"
     ]
    },
    {
     "name": "stderr",
     "output_type": "stream",
     "text": [
      "In gridlink_float> Running with [nmesh_x, nmesh_y, nmesh_z]  = 38,38,6.  Time taken =   0.047 sec\n",
      "0%.........10%.........20%.........30%.........40%.........50%.........60%.........70%.........80%.........90%.........100% done. Time taken =  2.828 secs\n"
     ]
    },
    {
     "name": "stdout",
     "output_type": "stream",
     "text": [
      "12.259999999999973\n",
      "0.005995078125\n"
     ]
    },
    {
     "name": "stderr",
     "output_type": "stream",
     "text": [
      "In gridlink_float> Running with [nmesh_x, nmesh_y, nmesh_z]  = 38,38,6.  Time taken =   0.046 sec\n",
      "0%.........10%.........20%.........30%.........40%.........50%.........60%.........70%.........80%.........90%.........100% done. Time taken =  2.751 secs\n"
     ]
    },
    {
     "name": "stdout",
     "output_type": "stream",
     "text": [
      "12.289999999999973\n",
      "0.005993140625\n"
     ]
    },
    {
     "name": "stderr",
     "output_type": "stream",
     "text": [
      "In gridlink_float> Running with [nmesh_x, nmesh_y, nmesh_z]  = 38,38,6.  Time taken =   0.044 sec\n",
      "0%.........10%.........20%.........30%.........40%.........50%.........60%.........70%.........80%.........90%.........100% done. Time taken =  2.783 secs\n"
     ]
    },
    {
     "name": "stdout",
     "output_type": "stream",
     "text": [
      "12.319999999999972\n",
      "0.006007578125\n"
     ]
    },
    {
     "name": "stderr",
     "output_type": "stream",
     "text": [
      "In gridlink_float> Running with [nmesh_x, nmesh_y, nmesh_z]  = 38,38,6.  Time taken =   0.046 sec\n",
      "0%.........10%.........20%.........30%.........40%.........50%.........60%.........70%.........80%.........90%.........100% done. Time taken =  2.756 secs\n"
     ]
    },
    {
     "name": "stdout",
     "output_type": "stream",
     "text": [
      "12.349999999999971\n",
      "0.005987328125\n"
     ]
    },
    {
     "name": "stderr",
     "output_type": "stream",
     "text": [
      "In gridlink_float> Running with [nmesh_x, nmesh_y, nmesh_z]  = 38,38,6.  Time taken =   0.046 sec\n",
      "0%.........10%.........20%.........30%.........40%.........50%.........60%.........70%.........80%.........90%.........100% done. Time taken =  2.827 secs\n"
     ]
    },
    {
     "name": "stdout",
     "output_type": "stream",
     "text": [
      "12.37999999999997\n",
      "0.00600178125\n"
     ]
    },
    {
     "name": "stderr",
     "output_type": "stream",
     "text": [
      "In gridlink_float> Running with [nmesh_x, nmesh_y, nmesh_z]  = 38,38,6.  Time taken =   0.050 sec\n",
      "0%.........10%.........20%.........30%.........40%.........50%.........60%.........70%.........80%.........90%.........100% done. Time taken =  2.823 secs\n"
     ]
    },
    {
     "name": "stdout",
     "output_type": "stream",
     "text": [
      "12.40999999999997\n",
      "0.00602115625\n"
     ]
    },
    {
     "name": "stderr",
     "output_type": "stream",
     "text": [
      "In gridlink_float> Running with [nmesh_x, nmesh_y, nmesh_z]  = 38,38,6.  Time taken =   0.044 sec\n",
      "0%.........10%.........20%.........30%.........40%.........50%.........60%.........70%.........80%.........90%.........100% done. Time taken =  2.795 secs\n"
     ]
    },
    {
     "name": "stdout",
     "output_type": "stream",
     "text": [
      "12.43999999999997\n",
      "0.00601025\n"
     ]
    },
    {
     "name": "stderr",
     "output_type": "stream",
     "text": [
      "In gridlink_float> Running with [nmesh_x, nmesh_y, nmesh_z]  = 38,38,6.  Time taken =   0.047 sec\n",
      "0%.........10%.........20%.........30%.........40%.........50%.........60%.........70%.........80%.........90%.........100% done. Time taken =  2.765 secs\n"
     ]
    },
    {
     "name": "stdout",
     "output_type": "stream",
     "text": [
      "12.469999999999969\n",
      "0.00602053125\n"
     ]
    },
    {
     "name": "stderr",
     "output_type": "stream",
     "text": [
      "In gridlink_float> Running with [nmesh_x, nmesh_y, nmesh_z]  = 38,38,6.  Time taken =   0.046 sec\n",
      "0%.........10%.........20%.........30%.........40%.........50%.........60%.........70%.........80%.........90%.........100% done. Time taken =  2.767 secs\n"
     ]
    },
    {
     "name": "stdout",
     "output_type": "stream",
     "text": [
      "12.499999999999968\n",
      "0.00603303125\n"
     ]
    },
    {
     "name": "stderr",
     "output_type": "stream",
     "text": [
      "In gridlink_float> Running with [nmesh_x, nmesh_y, nmesh_z]  = 38,38,6.  Time taken =   0.052 sec\n",
      "0%.........10%.........20%.........30%.........40%.........50%.........60%.........70%.........80%.........90%.........100% done. Time taken =  2.787 secs\n"
     ]
    },
    {
     "name": "stdout",
     "output_type": "stream",
     "text": [
      "12.529999999999967\n",
      "0.006033984375\n"
     ]
    },
    {
     "name": "stderr",
     "output_type": "stream",
     "text": [
      "In gridlink_float> Running with [nmesh_x, nmesh_y, nmesh_z]  = 38,38,6.  Time taken =   0.047 sec\n",
      "0%.........10%.........20%.........30%.........40%.........50%.........60%.........70%.........80%.........90%.........100% done. Time taken =  2.783 secs\n"
     ]
    },
    {
     "name": "stdout",
     "output_type": "stream",
     "text": [
      "12.559999999999967\n",
      "0.006025453125\n"
     ]
    },
    {
     "name": "stderr",
     "output_type": "stream",
     "text": [
      "In gridlink_float> Running with [nmesh_x, nmesh_y, nmesh_z]  = 38,38,6.  Time taken =   0.051 sec\n",
      "0%.........10%.........20%.........30%.........40%.........50%.........60%.........70%.........80%.........90%.........100% done. Time taken =  2.796 secs\n"
     ]
    },
    {
     "name": "stdout",
     "output_type": "stream",
     "text": [
      "12.589999999999966\n",
      "0.006040375\n"
     ]
    },
    {
     "name": "stderr",
     "output_type": "stream",
     "text": [
      "In gridlink_float> Running with [nmesh_x, nmesh_y, nmesh_z]  = 38,38,6.  Time taken =   0.045 sec\n",
      "0%.........10%.........20%.........30%.........40%.........50%.........60%.........70%.........80%.........90%.........100% done. Time taken =  2.800 secs\n"
     ]
    },
    {
     "name": "stdout",
     "output_type": "stream",
     "text": [
      "12.619999999999965\n",
      "0.006055265625\n"
     ]
    },
    {
     "name": "stderr",
     "output_type": "stream",
     "text": [
      "In gridlink_float> Running with [nmesh_x, nmesh_y, nmesh_z]  = 38,38,6.  Time taken =   0.062 sec\n",
      "0%.........10%.........20%.........30%.........40%.........50%.........60%.........70%.........80%.........90%.........100% done. Time taken =  2.837 secs\n"
     ]
    },
    {
     "name": "stdout",
     "output_type": "stream",
     "text": [
      "12.649999999999965\n",
      "0.006064140625\n"
     ]
    },
    {
     "name": "stderr",
     "output_type": "stream",
     "text": [
      "In gridlink_float> Running with [nmesh_x, nmesh_y, nmesh_z]  = 38,38,6.  Time taken =   0.048 sec\n",
      "0%.........10%.........20%.........30%.........40%.........50%.........60%.........70%.........80%.........90%.........100% done. Time taken =  2.834 secs\n"
     ]
    },
    {
     "name": "stdout",
     "output_type": "stream",
     "text": [
      "12.679999999999964\n",
      "0.0060728125\n"
     ]
    },
    {
     "name": "stderr",
     "output_type": "stream",
     "text": [
      "In gridlink_float> Running with [nmesh_x, nmesh_y, nmesh_z]  = 38,38,6.  Time taken =   0.047 sec\n",
      "0%.........10%.........20%.........30%.........40%.........50%.........60%.........70%.........80%.........90%.........100% done. Time taken =  2.840 secs\n"
     ]
    },
    {
     "name": "stdout",
     "output_type": "stream",
     "text": [
      "12.709999999999964\n",
      "0.006076578125\n"
     ]
    },
    {
     "name": "stderr",
     "output_type": "stream",
     "text": [
      "In gridlink_float> Running with [nmesh_x, nmesh_y, nmesh_z]  = 38,38,6.  Time taken =   0.046 sec\n",
      "0%.........10%.........20%.........30%.........40%.........50%.........60%.........70%.........80%.........90%.........100% done. Time taken =  2.849 secs\n"
     ]
    },
    {
     "name": "stdout",
     "output_type": "stream",
     "text": [
      "12.739999999999963\n",
      "0.00607271875\n"
     ]
    },
    {
     "name": "stderr",
     "output_type": "stream",
     "text": [
      "In gridlink_float> Running with [nmesh_x, nmesh_y, nmesh_z]  = 38,38,6.  Time taken =   0.046 sec\n",
      "0%.........10%.........20%.........30%.........40%.........50%.........60%.........70%.........80%.........90%.........100% done. Time taken =  2.826 secs\n"
     ]
    },
    {
     "name": "stdout",
     "output_type": "stream",
     "text": [
      "12.769999999999962\n",
      "0.006090390625\n"
     ]
    },
    {
     "name": "stderr",
     "output_type": "stream",
     "text": [
      "In gridlink_float> Running with [nmesh_x, nmesh_y, nmesh_z]  = 38,38,6.  Time taken =   0.047 sec\n",
      "0%.........10%.........20%.........30%.........40%.........50%.........60%.........70%.........80%.........90%.........100% done. Time taken =  2.850 secs\n"
     ]
    },
    {
     "name": "stdout",
     "output_type": "stream",
     "text": [
      "12.799999999999962\n",
      "0.006090953125\n"
     ]
    },
    {
     "name": "stderr",
     "output_type": "stream",
     "text": [
      "In gridlink_float> Running with [nmesh_x, nmesh_y, nmesh_z]  = 38,38,6.  Time taken =   0.046 sec\n",
      "0%.........10%.........20%.........30%.........40%.........50%.........60%.........70%.........80%.........90%.........100% done. Time taken =  2.907 secs\n"
     ]
    },
    {
     "name": "stdout",
     "output_type": "stream",
     "text": [
      "12.829999999999961\n",
      "0.006091421875\n"
     ]
    },
    {
     "name": "stderr",
     "output_type": "stream",
     "text": [
      "In gridlink_float> Running with [nmesh_x, nmesh_y, nmesh_z]  = 38,38,6.  Time taken =   0.044 sec\n",
      "0%.........10%.........20%.........30%.........40%.........50%.........60%.........70%.........80%.........90%.........100% done. Time taken =  2.914 secs\n"
     ]
    },
    {
     "name": "stdout",
     "output_type": "stream",
     "text": [
      "12.85999999999996\n",
      "0.006103609375\n"
     ]
    },
    {
     "name": "stderr",
     "output_type": "stream",
     "text": [
      "In gridlink_float> Running with [nmesh_x, nmesh_y, nmesh_z]  = 38,38,6.  Time taken =   0.041 sec\n",
      "0%.........10%.........20%.........30%.........40%.........50%.........60%.........70%.........80%.........90%.........100% done. Time taken =  3.088 secs\n"
     ]
    },
    {
     "name": "stdout",
     "output_type": "stream",
     "text": [
      "12.88999999999996\n",
      "0.00610775\n"
     ]
    },
    {
     "name": "stderr",
     "output_type": "stream",
     "text": [
      "In gridlink_float> Running with [nmesh_x, nmesh_y, nmesh_z]  = 38,38,6.  Time taken =   0.046 sec\n",
      "0%.........10%.........20%.........30%.........40%.........50%.........60%.........70%.........80%.........90%.........100% done. Time taken =  3.061 secs\n"
     ]
    },
    {
     "name": "stdout",
     "output_type": "stream",
     "text": [
      "12.919999999999959\n",
      "0.006127546875\n"
     ]
    },
    {
     "name": "stderr",
     "output_type": "stream",
     "text": [
      "In gridlink_float> Running with [nmesh_x, nmesh_y, nmesh_z]  = 38,38,6.  Time taken =   0.053 sec\n",
      "0%.........10%.........20%.........30%.........40%.........50%.........60%.........70%.........80%.........90%.........100% done. Time taken =  2.940 secs\n"
     ]
    },
    {
     "name": "stdout",
     "output_type": "stream",
     "text": [
      "12.949999999999958\n",
      "0.006110765625\n"
     ]
    },
    {
     "name": "stderr",
     "output_type": "stream",
     "text": [
      "In gridlink_float> Running with [nmesh_x, nmesh_y, nmesh_z]  = 38,38,6.  Time taken =   0.046 sec\n",
      "0%.........10%.........20%.........30%.........40%.........50%.........60%.........70%.........80%.........90%.........100% done. Time taken =  2.851 secs\n"
     ]
    },
    {
     "name": "stdout",
     "output_type": "stream",
     "text": [
      "12.979999999999958\n",
      "0.006116203125\n"
     ]
    },
    {
     "name": "stderr",
     "output_type": "stream",
     "text": [
      "In gridlink_float> Running with [nmesh_x, nmesh_y, nmesh_z]  = 38,38,6.  Time taken =   0.039 sec\n",
      "0%.........10%.........20%.........30%.........40%.........50%.........60%.........70%.........80%.........90%.........100% done. Time taken =  2.844 secs\n"
     ]
    },
    {
     "name": "stdout",
     "output_type": "stream",
     "text": [
      "13.009999999999957\n",
      "0.006132953125\n"
     ]
    },
    {
     "name": "stderr",
     "output_type": "stream",
     "text": [
      "In gridlink_float> Running with [nmesh_x, nmesh_y, nmesh_z]  = 38,38,6.  Time taken =   0.045 sec\n",
      "0%.........10%.........20%.........30%.........40%.........50%.........60%.........70%.........80%.........90%.........100% done. Time taken =  2.832 secs\n"
     ]
    },
    {
     "name": "stdout",
     "output_type": "stream",
     "text": [
      "13.039999999999957\n",
      "0.006132296875\n"
     ]
    },
    {
     "name": "stderr",
     "output_type": "stream",
     "text": [
      "In gridlink_float> Running with [nmesh_x, nmesh_y, nmesh_z]  = 38,38,6.  Time taken =   0.040 sec\n",
      "0%.........10%.........20%.........30%.........40%.........50%.........60%.........70%.........80%.........90%.........100% done. Time taken =  2.855 secs\n"
     ]
    },
    {
     "name": "stdout",
     "output_type": "stream",
     "text": [
      "13.069999999999956\n",
      "0.00612928125\n"
     ]
    },
    {
     "name": "stderr",
     "output_type": "stream",
     "text": [
      "In gridlink_float> Running with [nmesh_x, nmesh_y, nmesh_z]  = 38,38,6.  Time taken =   0.040 sec\n",
      "0%.........10%.........20%.........30%.........40%.........50%.........60%.........70%.........80%.........90%.........100% done. Time taken =  2.831 secs\n"
     ]
    },
    {
     "name": "stdout",
     "output_type": "stream",
     "text": [
      "13.099999999999955\n",
      "0.006141828125\n"
     ]
    },
    {
     "name": "stderr",
     "output_type": "stream",
     "text": [
      "In gridlink_float> Running with [nmesh_x, nmesh_y, nmesh_z]  = 38,38,6.  Time taken =   0.045 sec\n",
      "0%.........10%.........20%.........30%.........40%.........50%.........60%.........70%.........80%.........90%.........100% done. Time taken =  2.887 secs\n"
     ]
    },
    {
     "name": "stdout",
     "output_type": "stream",
     "text": [
      "13.129999999999955\n",
      "0.00615909375\n"
     ]
    },
    {
     "name": "stderr",
     "output_type": "stream",
     "text": [
      "In gridlink_float> Running with [nmesh_x, nmesh_y, nmesh_z]  = 38,38,6.  Time taken =   0.040 sec\n",
      "0%.........10%.........20%.........30%.........40%.........50%.........60%.........70%.........80%.........90%.........100% done. Time taken =  2.876 secs\n"
     ]
    },
    {
     "name": "stdout",
     "output_type": "stream",
     "text": [
      "13.159999999999954\n",
      "0.006147078125\n"
     ]
    },
    {
     "name": "stderr",
     "output_type": "stream",
     "text": [
      "In gridlink_float> Running with [nmesh_x, nmesh_y, nmesh_z]  = 38,38,6.  Time taken =   0.040 sec\n",
      "0%.........10%.........20%.........30%.........40%.........50%.........60%.........70%.........80%.........90%.........100% done. Time taken =  2.873 secs\n"
     ]
    },
    {
     "name": "stdout",
     "output_type": "stream",
     "text": [
      "13.189999999999953\n",
      "0.006156484375\n"
     ]
    },
    {
     "name": "stderr",
     "output_type": "stream",
     "text": [
      "In gridlink_float> Running with [nmesh_x, nmesh_y, nmesh_z]  = 38,38,6.  Time taken =   0.041 sec\n",
      "0%.........10%.........20%.........30%.........40%.........50%.........60%.........70%.........80%.........90%.........100% done. Time taken =  2.890 secs\n"
     ]
    },
    {
     "name": "stdout",
     "output_type": "stream",
     "text": [
      "13.219999999999953\n",
      "0.006163078125\n"
     ]
    },
    {
     "name": "stderr",
     "output_type": "stream",
     "text": [
      "In gridlink_float> Running with [nmesh_x, nmesh_y, nmesh_z]  = 38,38,6.  Time taken =   0.044 sec\n",
      "0%.........10%.........20%.........30%.........40%.........50%.........60%.........70%.........80%.........90%.........100% done. Time taken =  2.887 secs\n"
     ]
    },
    {
     "name": "stdout",
     "output_type": "stream",
     "text": [
      "13.249999999999952\n",
      "0.006173890625\n"
     ]
    },
    {
     "name": "stderr",
     "output_type": "stream",
     "text": [
      "In gridlink_float> Running with [nmesh_x, nmesh_y, nmesh_z]  = 38,38,6.  Time taken =   0.042 sec\n",
      "0%.........10%.........20%.........30%.........40%.........50%.........60%.........70%.........80%.........90%.........100% done. Time taken =  2.933 secs\n"
     ]
    },
    {
     "name": "stdout",
     "output_type": "stream",
     "text": [
      "13.279999999999951\n",
      "0.006170109375\n"
     ]
    },
    {
     "name": "stderr",
     "output_type": "stream",
     "text": [
      "In gridlink_float> Running with [nmesh_x, nmesh_y, nmesh_z]  = 38,38,6.  Time taken =   0.037 sec\n",
      "0%.........10%.........20%.........30%.........40%.........50%.........60%.........70%.........80%.........90%.........100% done. Time taken =  2.979 secs\n"
     ]
    },
    {
     "name": "stdout",
     "output_type": "stream",
     "text": [
      "13.30999999999995\n",
      "0.00615525\n"
     ]
    },
    {
     "name": "stderr",
     "output_type": "stream",
     "text": [
      "In gridlink_float> Running with [nmesh_x, nmesh_y, nmesh_z]  = 38,38,6.  Time taken =   0.040 sec\n",
      "0%.........10%.........20%.........30%.........40%.........50%.........60%.........70%.........80%.........90%.........100% done. Time taken =  2.918 secs\n"
     ]
    },
    {
     "name": "stdout",
     "output_type": "stream",
     "text": [
      "13.33999999999995\n",
      "0.006180609375\n"
     ]
    },
    {
     "name": "stderr",
     "output_type": "stream",
     "text": [
      "In gridlink_float> Running with [nmesh_x, nmesh_y, nmesh_z]  = 38,38,6.  Time taken =   0.043 sec\n",
      "0%.........10%.........20%.........30%.........40%.........50%.........60%.........70%.........80%.........90%.........100% done. Time taken =  2.932 secs\n"
     ]
    },
    {
     "name": "stdout",
     "output_type": "stream",
     "text": [
      "13.36999999999995\n",
      "0.006166796875\n"
     ]
    },
    {
     "name": "stderr",
     "output_type": "stream",
     "text": [
      "In gridlink_float> Running with [nmesh_x, nmesh_y, nmesh_z]  = 38,38,6.  Time taken =   0.043 sec\n",
      "0%.........10%.........20%.........30%.........40%.........50%.........60%.........70%.........80%.........90%.........100% done. Time taken =  2.972 secs\n"
     ]
    },
    {
     "name": "stdout",
     "output_type": "stream",
     "text": [
      "13.399999999999949\n",
      "0.00618309375\n"
     ]
    },
    {
     "name": "stderr",
     "output_type": "stream",
     "text": [
      "In gridlink_float> Running with [nmesh_x, nmesh_y, nmesh_z]  = 38,38,6.  Time taken =   0.046 sec\n",
      "0%.........10%.........20%.........30%.........40%.........50%.........60%.........70%.........80%.........90%.........100% done. Time taken =  2.985 secs\n"
     ]
    },
    {
     "name": "stdout",
     "output_type": "stream",
     "text": [
      "13.429999999999948\n",
      "0.006189984375\n"
     ]
    },
    {
     "name": "stderr",
     "output_type": "stream",
     "text": [
      "In gridlink_float> Running with [nmesh_x, nmesh_y, nmesh_z]  = 38,38,6.  Time taken =   0.041 sec\n",
      "0%.........10%.........20%.........30%.........40%.........50%.........60%.........70%.........80%.........90%.........100% done. Time taken =  2.997 secs\n"
     ]
    },
    {
     "name": "stdout",
     "output_type": "stream",
     "text": [
      "13.459999999999948\n",
      "0.006211359375\n"
     ]
    },
    {
     "name": "stderr",
     "output_type": "stream",
     "text": [
      "In gridlink_float> Running with [nmesh_x, nmesh_y, nmesh_z]  = 38,38,6.  Time taken =   0.046 sec\n",
      "0%.........10%.........20%.........30%.........40%.........50%.........60%.........70%.........80%.........90%.........100% done. Time taken =  2.972 secs\n"
     ]
    },
    {
     "name": "stdout",
     "output_type": "stream",
     "text": [
      "13.489999999999947\n",
      "0.006186609375\n"
     ]
    },
    {
     "name": "stderr",
     "output_type": "stream",
     "text": [
      "In gridlink_float> Running with [nmesh_x, nmesh_y, nmesh_z]  = 38,38,6.  Time taken =   0.042 sec\n",
      "0%.........10%.........20%.........30%.........40%.........50%.........60%.........70%.........80%.........90%.........100% done. Time taken =  2.941 secs\n"
     ]
    },
    {
     "name": "stdout",
     "output_type": "stream",
     "text": [
      "13.519999999999946\n",
      "0.006189828125\n"
     ]
    },
    {
     "name": "stderr",
     "output_type": "stream",
     "text": [
      "In gridlink_float> Running with [nmesh_x, nmesh_y, nmesh_z]  = 38,38,6.  Time taken =   0.039 sec\n",
      "0%.........10%.........20%.........30%.........40%.........50%.........60%.........70%.........80%.........90%.........100% done. Time taken =  2.939 secs\n"
     ]
    },
    {
     "name": "stdout",
     "output_type": "stream",
     "text": [
      "13.549999999999946\n",
      "0.0062015625\n"
     ]
    },
    {
     "name": "stderr",
     "output_type": "stream",
     "text": [
      "In gridlink_float> Running with [nmesh_x, nmesh_y, nmesh_z]  = 38,38,6.  Time taken =   0.044 sec\n",
      "0%.........10%.........20%.........30%.........40%.........50%.........60%.........70%.........80%.........90%.........100% done. Time taken =  2.949 secs\n"
     ]
    },
    {
     "name": "stdout",
     "output_type": "stream",
     "text": [
      "13.579999999999945\n",
      "0.0062156875\n"
     ]
    },
    {
     "name": "stderr",
     "output_type": "stream",
     "text": [
      "In gridlink_float> Running with [nmesh_x, nmesh_y, nmesh_z]  = 38,38,6.  Time taken =   0.041 sec\n",
      "0%.........10%.........20%.........30%.........40%.........50%.........60%.........70%.........80%.........90%.........100% done. Time taken =  2.974 secs\n"
     ]
    },
    {
     "name": "stdout",
     "output_type": "stream",
     "text": [
      "13.609999999999944\n",
      "0.00620940625\n"
     ]
    },
    {
     "name": "stderr",
     "output_type": "stream",
     "text": [
      "In gridlink_float> Running with [nmesh_x, nmesh_y, nmesh_z]  = 38,38,6.  Time taken =   0.046 sec\n",
      "0%.........10%.........20%.........30%.........40%.........50%.........60%.........70%.........80%.........90%.........100% done. Time taken =  3.055 secs\n"
     ]
    },
    {
     "name": "stdout",
     "output_type": "stream",
     "text": [
      "13.639999999999944\n",
      "0.006221921875\n"
     ]
    },
    {
     "name": "stderr",
     "output_type": "stream",
     "text": [
      "In gridlink_float> Running with [nmesh_x, nmesh_y, nmesh_z]  = 38,38,6.  Time taken =   0.049 sec\n",
      "0%.........10%.........20%.........30%.........40%.........50%.........60%.........70%.........80%.........90%.........100% done. Time taken =  3.060 secs\n"
     ]
    },
    {
     "name": "stdout",
     "output_type": "stream",
     "text": [
      "13.669999999999943\n",
      "0.00621196875\n"
     ]
    },
    {
     "name": "stderr",
     "output_type": "stream",
     "text": [
      "In gridlink_float> Running with [nmesh_x, nmesh_y, nmesh_z]  = 38,38,6.  Time taken =   0.049 sec\n",
      "0%.........10%.........20%.........30%.........40%.........50%.........60%.........70%.........80%.........90%.........100% done. Time taken =  3.027 secs\n"
     ]
    },
    {
     "name": "stdout",
     "output_type": "stream",
     "text": [
      "13.699999999999942\n",
      "0.006208421875\n"
     ]
    },
    {
     "name": "stderr",
     "output_type": "stream",
     "text": [
      "In gridlink_float> Running with [nmesh_x, nmesh_y, nmesh_z]  = 38,38,6.  Time taken =   0.045 sec\n",
      "0%.........10%.........20%.........30%.........40%.........50%.........60%.........70%.........80%.........90%.........100% done. Time taken =  2.987 secs\n"
     ]
    },
    {
     "name": "stdout",
     "output_type": "stream",
     "text": [
      "13.729999999999942\n",
      "0.006210984375\n"
     ]
    },
    {
     "name": "stderr",
     "output_type": "stream",
     "text": [
      "In gridlink_float> Running with [nmesh_x, nmesh_y, nmesh_z]  = 38,38,6.  Time taken =   0.048 sec\n",
      "0%.........10%.........20%.........30%.........40%.........50%.........60%.........70%.........80%.........90%.........100% done. Time taken =  2.991 secs\n"
     ]
    },
    {
     "name": "stdout",
     "output_type": "stream",
     "text": [
      "13.759999999999941\n",
      "0.00622425\n"
     ]
    },
    {
     "name": "stderr",
     "output_type": "stream",
     "text": [
      "In gridlink_float> Running with [nmesh_x, nmesh_y, nmesh_z]  = 38,38,6.  Time taken =   0.047 sec\n",
      "0%.........10%.........20%.........30%.........40%.........50%.........60%.........70%.........80%.........90%.........100% done. Time taken =  3.040 secs\n"
     ]
    },
    {
     "name": "stdout",
     "output_type": "stream",
     "text": [
      "13.78999999999994\n",
      "0.006221921875\n"
     ]
    },
    {
     "name": "stderr",
     "output_type": "stream",
     "text": [
      "In gridlink_float> Running with [nmesh_x, nmesh_y, nmesh_z]  = 38,38,6.  Time taken =   0.041 sec\n",
      "0%.........10%.........20%.........30%.........40%.........50%.........60%.........70%.........80%.........90%.........100% done. Time taken =  3.035 secs\n"
     ]
    },
    {
     "name": "stdout",
     "output_type": "stream",
     "text": [
      "13.81999999999994\n",
      "0.006238078125\n"
     ]
    },
    {
     "name": "stderr",
     "output_type": "stream",
     "text": [
      "In gridlink_float> Running with [nmesh_x, nmesh_y, nmesh_z]  = 38,38,6.  Time taken =   0.043 sec\n",
      "0%.........10%.........20%.........30%.........40%.........50%.........60%.........70%.........80%.........90%.........100% done. Time taken =  2.995 secs\n"
     ]
    },
    {
     "name": "stdout",
     "output_type": "stream",
     "text": [
      "13.84999999999994\n",
      "0.00622471875\n"
     ]
    },
    {
     "name": "stderr",
     "output_type": "stream",
     "text": [
      "In gridlink_float> Running with [nmesh_x, nmesh_y, nmesh_z]  = 38,38,6.  Time taken =   0.040 sec\n",
      "0%.........10%.........20%.........30%.........40%.........50%.........60%.........70%.........80%.........90%.........100% done. Time taken =  2.995 secs\n"
     ]
    },
    {
     "name": "stdout",
     "output_type": "stream",
     "text": [
      "13.879999999999939\n",
      "0.0062208125\n"
     ]
    },
    {
     "name": "stderr",
     "output_type": "stream",
     "text": [
      "In gridlink_float> Running with [nmesh_x, nmesh_y, nmesh_z]  = 38,38,6.  Time taken =   0.042 sec\n",
      "0%.........10%.........20%.........30%.........40%.........50%.........60%.........70%.........80%.........90%.........100% done. Time taken =  2.969 secs\n"
     ]
    },
    {
     "name": "stdout",
     "output_type": "stream",
     "text": [
      "13.909999999999938\n",
      "0.00623075\n"
     ]
    },
    {
     "name": "stderr",
     "output_type": "stream",
     "text": [
      "In gridlink_float> Running with [nmesh_x, nmesh_y, nmesh_z]  = 38,38,6.  Time taken =   0.040 sec\n",
      "0%.........10%.........20%.........30%.........40%.........50%.........60%.........70%.........80%.........90%.........100% done. Time taken =  2.996 secs\n"
     ]
    },
    {
     "name": "stdout",
     "output_type": "stream",
     "text": [
      "13.939999999999937\n",
      "0.006239125\n"
     ]
    },
    {
     "name": "stderr",
     "output_type": "stream",
     "text": [
      "In gridlink_float> Running with [nmesh_x, nmesh_y, nmesh_z]  = 38,38,6.  Time taken =   0.039 sec\n",
      "0%.........10%.........20%.........30%.........40%.........50%.........60%.........70%.........80%.........90%.........100% done. Time taken =  2.974 secs\n"
     ]
    },
    {
     "name": "stdout",
     "output_type": "stream",
     "text": [
      "13.969999999999937\n",
      "0.0062271875\n"
     ]
    },
    {
     "name": "stderr",
     "output_type": "stream",
     "text": [
      "In gridlink_float> Running with [nmesh_x, nmesh_y, nmesh_z]  = 38,38,6.  Time taken =   0.039 sec\n",
      "0%.........10%.........20%.........30%.........40%.........50%.........60%.........70%.........80%.........90%.........100% done. Time taken =  2.970 secs\n"
     ]
    },
    {
     "name": "stdout",
     "output_type": "stream",
     "text": [
      "13.999999999999936\n"
     ]
    },
    {
     "data": {
      "image/png": "[encoded data removed]",
      "text/plain": [
       "<Figure size 432x288 with 1 Axes>"
      ]
     },
     "metadata": {
      "image/png": {
       "height": 249,
       "width": 373
      },
      "needs_background": "light"
     },
     "output_type": "display_data"
    }
   ],
   "source": [
    "plt.errorbar(bin_cen,wp_ng_vals[1:len(wp_ng_vals)],yerr=np.sqrt(err),fmt='o',markersize=2,capsize=4,label='data')\n",
    "best_fits = []\n",
    "Mmin = 11.\n",
    "for i in range(100):\n",
    "    sigma = 1.7*Mmin-20. \n",
    "    model_instance.param_dict['logMmin'] = Mmin\n",
    "    model_instance.param_dict['sigma_logM'] = sigma\n",
    "\n",
    "    try:\n",
    "        model_instance.mock.populate()\n",
    "    except:\n",
    "        model_instance.populate_mock(halocat)\n",
    "        \n",
    "    halo_table = model_instance.mock.halo_table\n",
    "    pos = return_xyz_formatted_array(model_instance.mock.galaxy_table['x'], model_instance.mock.galaxy_table['y'],\n",
    "                                 model_instance.mock.galaxy_table['z'],period = Lbox)\n",
    "    x = pos[:,0]\n",
    "    y = pos[:,1]\n",
    "    z = pos[:,2]\n",
    "    velz = model_instance.mock.galaxy_table['vz']\n",
    "    pos_zdist = return_xyz_formatted_array(x,y,z, period = Lbox, velocity=velz, velocity_distortion_dimension='z')\n",
    "    print(model_instance.mock.number_density)\n",
    "    if model_instance.mock.number_density < 0.007:\n",
    "        best_fits.append([Mmin,sigma])\n",
    "        wp_calc = wp(Lbox,pi_max,1,bin_edges,pos_zdist[:,0],pos_zdist[:,1],pos_zdist[:,2],\n",
    "                    verbose=True)#,xbin_refine_factor=1, ybin_refine_factor=2, zbin_refine_factor=1)\n",
    "        plt.plot(bin_cen,wp_calc['wp'],markersize=2,label=str(Mmin)[0:3]+''+str(sigma)[0:3],c='r',alpha=0.3)\n",
    "    \n",
    "    plt.xscale('log')\n",
    "    plt.yscale('log')\n",
    "    Mmin+=0.03\n",
    "    print(Mmin)"
   ]
  },
  {
   "cell_type": "code",
   "execution_count": null,
   "metadata": {},
   "outputs": [],
   "source": []
  }
 ],
 "metadata": {
  "kernelspec": {
   "display_name": "Python 3",
   "language": "python",
   "name": "python3"
  },
  "language_info": {
   "codemirror_mode": {
    "name": "ipython",
    "version": 3
   },
   "file_extension": ".py",
   "mimetype": "text/x-python",
   "name": "python",
   "nbconvert_exporter": "python",
   "pygments_lexer": "ipython3",
   "version": "3.7.4"
  }
 },
 "nbformat": 4,
 "nbformat_minor": 4
}
