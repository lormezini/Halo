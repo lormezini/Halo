{
 "cells": [
  {
   "cell_type": "code",
   "execution_count": 1,
   "metadata": {},
   "outputs": [
    {
     "name": "stderr",
     "output_type": "stream",
     "text": [
      "/anaconda3/lib/python3.6/site-packages/h5py/__init__.py:36: FutureWarning: Conversion of the second argument of issubdtype from `float` to `np.floating` is deprecated. In future, it will be treated as `np.float64 == np.dtype(float).type`.\n",
      "  from ._conv import register_converters as _register_converters\n"
     ]
    }
   ],
   "source": [
    "from halotools.sim_manager import CachedHaloCatalog, FakeSim\n",
    "from halotools.empirical_models import PrebuiltHodModelFactory, Zheng07Cens, Zheng07Sats, TrivialPhaseSpace, NFWPhaseSpace, HodModelFactory\n",
    "from halotools.mock_observables import return_xyz_formatted_array\n",
    "import numpy as np\n",
    "%matplotlib inline\n",
    "import matplotlib.pyplot as plt\n",
    "import time\n",
    "from multiprocessing import Pool, cpu_count\n",
    "import emcee\n",
    "import corner\n",
    "from Corrfunc.theory.wp import wp\n",
    "import MCMC_data_file\n",
    "from numpy.linalg import inv\n",
    "import scipy.optimize as op"
   ]
  },
  {
   "cell_type": "code",
   "execution_count": 97,
   "metadata": {},
   "outputs": [],
   "source": [
    "wp_ng_vals = MCMC_data_file.get_wp()\n",
    "bin_edges = MCMC_data_file.get_bins()\n",
    "bin_cen = (bin_edges[1:]+bin_edges[:-1])/2.\n",
    "wp_vals = wp_ng_vals[1:len(wp_ng_vals)]\n",
    "ng = wp_ng_vals[0]\n",
    "cov_matrix = MCMC_data_file.get_cov()\n",
    "invcov = inv(cov_matrix[1:len(cov_matrix),1:len(cov_matrix)])\n",
    "ng_cov = cov_matrix[0,0]"
   ]
  },
  {
   "cell_type": "code",
   "execution_count": 2,
   "metadata": {},
   "outputs": [],
   "source": [
    "cens_occ_model = Zheng07Cens()\n",
    "cens_prof_model = TrivialPhaseSpace()\n",
    "\n",
    "sats_occ_model =  Zheng07Sats()\n",
    "sats_prof_model = NFWPhaseSpace()"
   ]
  },
  {
   "cell_type": "code",
   "execution_count": 78,
   "metadata": {},
   "outputs": [],
   "source": [
    "def resid(avec, bin_cen, wp_vals):\n",
    "    \"\"\" the residual function -- this is what will be minimized by the\n",
    "        scipy.optimize.leastsq() routine.  avec is the parameters we\n",
    "        are optimizing -- they are packed in here, so we unpack to\n",
    "        begin.  (x, y) are the data points \n",
    "\n",
    "        scipy.optimize.leastsq() minimizes:\n",
    "\n",
    "           x = arg min(sum(func(y)**2,axis=0))\n",
    "                    y\n",
    "\n",
    "        so this should just be the distance from a point to the curve,\n",
    "        and it will square it and sum over the points\n",
    "        \"\"\"\n",
    "\n",
    "    logMmin, sigma_logM, alpha, logM0, logM1 = avec\n",
    "\n",
    "    # note: if we wanted to deal with error bars, we would weight each\n",
    "    # residual accordingly\n",
    "    \n",
    "    pi_max = 60.\n",
    "    Lbox = 250.\n",
    "    \n",
    "    cens_occ_model.param_dict['logMmin'] = logMmin\n",
    "    cens_occ_model.param_dict['sigma_logM'] = sigma_logM\n",
    "    sats_occ_model.param_dict['alpha'] = alpha\n",
    "    sats_occ_model.param_dict['logM0'] = logM0\n",
    "    sats_occ_model.param_dict['logM1'] = logM1\n",
    "\n",
    "    model_instance = HodModelFactory(centrals_occupation = cens_occ_model, centrals_profile = cens_prof_model, \n",
    "                                 satellites_occupation = sats_occ_model, satellites_profile = sats_prof_model)\n",
    "\n",
    "    halocat = CachedHaloCatalog(simname='bolplanck',redshift = 0.0) \n",
    "    model_instance.populate_mock(halocat) \n",
    "    mvir_table = model_instance.mock.halo_table\n",
    "\n",
    "    pos = return_xyz_formatted_array(model_instance.mock.galaxy_table['x'], model_instance.mock.galaxy_table['y'],\n",
    "                                 model_instance.mock.galaxy_table['z'],period = Lbox)\n",
    "    x = pos[:,0]\n",
    "    y = pos[:,1]\n",
    "    z = pos[:,2]\n",
    "    velz = model_instance.mock.galaxy_table['vz']\n",
    "    pos_zdist = return_xyz_formatted_array(x,y,z, period = Lbox, velocity=velz, velocity_distortion_dimension='z')\n",
    "    \n",
    "\n",
    "    wp_calc = wp(Lbox,pi_max,1,bin_edges,pos_zdist[:,0],pos_zdist[:,1],pos_zdist[:,2],\n",
    "                    verbose=True,xbin_refine_factor=2, ybin_refine_factor=2, zbin_refine_factor=1)\n",
    "    \n",
    "    wp_diff = wp_vals-wp_calc['wp']\n",
    "    ng_diff = ng -  model_instance.mock.number_density\n",
    "    \n",
    "    x2= -0.5 * np.dot(wp_diff, np.dot(invcov, wp_diff)) + -0.5 * (ng_diff**2) * ng_cov\n",
    "    return x2"
   ]
  },
  {
   "cell_type": "code",
   "execution_count": 56,
   "metadata": {},
   "outputs": [],
   "source": [
    "#Guess\n",
    "logMmin = 11.96\n",
    "sigma_logM = 0.38\n",
    "alpha = 1.16\n",
    "logM0 = 12.23\n",
    "logM1 = 13.28"
   ]
  },
  {
   "cell_type": "code",
   "execution_count": 63,
   "metadata": {},
   "outputs": [
    {
     "name": "stderr",
     "output_type": "stream",
     "text": [
      "In gridlink_index_particles_float> Running with [nmesh_x, nmesh_y, nmesh_z]  = 15,15,4.  Time taken =   0.006 sec\n",
      "0%.........10%.........20%.........30%.........40%.........50%.........60%.........70%.........80%.........90%.........100% done. Time taken =  2.265 secs\n",
      "In gridlink_index_particles_float> Running with [nmesh_x, nmesh_y, nmesh_z]  = 15,15,4.  Time taken =   0.008 sec\n",
      "0%.........10%.........20%.........30%.........40%.........50%.........60%.........70%.........80%.........90%.........100% done. Time taken =  2.191 secs\n",
      "In gridlink_index_particles_float> Running with [nmesh_x, nmesh_y, nmesh_z]  = 15,15,4.  Time taken =   0.005 sec\n",
      "0%.........10%.........20%.........30%.........40%.........50%.........60%.........70%.........80%.........90%.........100% done. Time taken =  2.185 secs\n",
      "In gridlink_index_particles_float> Running with [nmesh_x, nmesh_y, nmesh_z]  = 15,15,4.  Time taken =   0.005 sec\n",
      "0%.........10%.........20%.........30%.........40%.........50%.........60%.........70%.........80%.........90%.........100% done. Time taken =  2.177 secs\n",
      "In gridlink_index_particles_float> Running with [nmesh_x, nmesh_y, nmesh_z]  = 15,15,4.  Time taken =   0.006 sec\n",
      "0%.........10%.........20%.........30%.........40%.........50%.........60%.........70%.........80%.........90%.........100% done. Time taken =  2.200 secs\n",
      "In gridlink_index_particles_float> Running with [nmesh_x, nmesh_y, nmesh_z]  = 15,15,4.  Time taken =   0.005 sec\n",
      "0%.........10%.........20%.........30%.........40%.........50%.........60%.........70%.........80%.........90%.........100% done. Time taken =  2.307 secs\n",
      "In gridlink_index_particles_float> Running with [nmesh_x, nmesh_y, nmesh_z]  = 15,15,4.  Time taken =   0.005 sec\n",
      "0%.........10%.........20%.........30%.........40%.........50%.........60%.........70%.........80%.........90%.........100% done. Time taken =  2.236 secs\n",
      "In gridlink_index_particles_float> Running with [nmesh_x, nmesh_y, nmesh_z]  = 15,15,4.  Time taken =   0.005 sec\n",
      "0%.........10%.........20%.........30%.........40%.........50%.........60%.........70%.........80%.........90%.........100% done. Time taken =  2.187 secs\n",
      "In gridlink_index_particles_float> Running with [nmesh_x, nmesh_y, nmesh_z]  = 15,15,4.  Time taken =   0.007 sec\n",
      "0%.........10%.........20%.........30%.........40%.........50%.........60%.........70%.........80%.........90%.........100% done. Time taken =  2.180 secs\n",
      "In gridlink_index_particles_float> Running with [nmesh_x, nmesh_y, nmesh_z]  = 15,15,4.  Time taken =   0.008 sec\n",
      "0%.........10%.........20%.........30%.........40%.........50%.........60%.........70%.........80%.........90%.........100% done. Time taken =  2.177 secs\n",
      "In gridlink_index_particles_float> Running with [nmesh_x, nmesh_y, nmesh_z]  = 15,15,4.  Time taken =   0.006 sec\n",
      "0%.........10%.........20%.........30%.........40%.........50%.........60%.........70%.........80%.........90%.........100% done. Time taken =  2.215 secs\n",
      "In gridlink_index_particles_float> Running with [nmesh_x, nmesh_y, nmesh_z]  = 15,15,4.  Time taken =   0.006 sec\n",
      "0%.........10%.........20%.........30%.........40%.........50%.........60%.........70%.........80%.........90%.........100% done. Time taken =  2.197 secs\n"
     ]
    }
   ],
   "source": [
    "afit = op.least_squares(resid, [logMmin, sigma_logM, alpha, logM0, logM1],args=(bin_cen, wp_vals),\n",
    "                        ftol=1e-02, xtol=1e-02, gtol=1e-02,)"
   ]
  },
  {
   "cell_type": "code",
   "execution_count": 64,
   "metadata": {},
   "outputs": [
    {
     "name": "stdout",
     "output_type": "stream",
     "text": [
      "[11.95999965  0.38000001  1.16000005 12.22999995 13.28000016]\n"
     ]
    }
   ],
   "source": [
    "print(afit.x)"
   ]
  }
 ],
 "metadata": {
  "kernelspec": {
   "display_name": "Python 3",
   "language": "python",
   "name": "python3"
  },
  "language_info": {
   "codemirror_mode": {
    "name": "ipython",
    "version": 3
   },
   "file_extension": ".py",
   "mimetype": "text/x-python",
   "name": "python",
   "nbconvert_exporter": "python",
   "pygments_lexer": "ipython3",
   "version": "3.6.4"
  }
 },
 "nbformat": 4,
 "nbformat_minor": 2
}
