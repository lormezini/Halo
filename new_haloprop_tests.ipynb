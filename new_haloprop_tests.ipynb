{
 "cells": [
  {
   "cell_type": "code",
   "execution_count": 1,
   "metadata": {},
   "outputs": [
    {
     "name": "stderr",
     "output_type": "stream",
     "text": [
      "WARNING: AstropyDeprecationWarning: astropy.extern.six will be removed in 4.0, use the six module directly if it is still needed [astropy.extern.six]\n"
     ]
    }
   ],
   "source": [
    "from halotools.sim_manager import CachedHaloCatalog, FakeSim\n",
    "from halotools.empirical_models import PrebuiltHodModelFactory, Zheng07Cens, Zheng07Sats, TrivialPhaseSpace, NFWPhaseSpace, HodModelFactory\n",
    "from halotools.mock_observables import return_xyz_formatted_array,wp\n",
    "from halotools import utils\n",
    "import numpy as np\n",
    "%matplotlib inline\n",
    "import matplotlib.pyplot as plt\n",
    "import time\n",
    "from multiprocessing import Pool, cpu_count\n",
    "import emcee\n",
    "#import corner\n",
    "from Corrfunc.theory.wp import wp\n",
    "import MCMC_data_file\n",
    "from numpy.linalg import inv\n",
    "import scipy.optimize as op\n",
    "from scipy.stats import chi2\n",
    "import scipy.stats as stats\n",
    "import random\n",
    "import warnings\n",
    "warnings.filterwarnings(\"ignore\")\n",
    "from IPython.display import set_matplotlib_formats\n",
    "set_matplotlib_formats('retina')\n",
    "from scipy.special import gamma\n",
    "from scipy.stats import chisquare"
   ]
  },
  {
   "cell_type": "code",
   "execution_count": 2,
   "metadata": {},
   "outputs": [],
   "source": [
    "threshold = 21\n",
    "dname = \"zehavi_data_file_21\"\n",
    "param = \"mvir\""
   ]
  },
  {
   "cell_type": "code",
   "execution_count": 3,
   "metadata": {},
   "outputs": [],
   "source": [
    "if '21' in dname:\n",
    "    import zehavi_data_file_21\n",
    "    wp_ng_vals = zehavi_data_file_21.get_wp()[0:12]\n",
    "    bin_edges = zehavi_data_file_21.get_bins()[0:12]\n",
    "    cov_matrix = zehavi_data_file_21.get_cov()[0:11,0:11]\n",
    "    err = np.array([cov_matrix[i,i] for i in range(len(cov_matrix))])\n",
    "    bin_cen = (bin_edges[1:]+bin_edges[:-1])/2.\n",
    "if '19' in dname:\n",
    "    print('19')\n",
    "    import zehavi_data_file_19\n",
    "    wp_ng_vals = zehavi_data_file_19.get_wp()[0:12]\n",
    "    bin_edges = zehavi_data_file_19.get_bins()[0:12]\n",
    "    cov_matrix = zehavi_data_file_19.get_cov()[0:11,0:11]\n",
    "    err = np.array([cov_matrix[i,i] for i in range(len(cov_matrix))])    \n",
    "    bin_cen = (bin_edges[1:]+bin_edges[:-1])/2.\n",
    "if '20' in dname:\n",
    "    print('20')\n",
    "    import zehavi_data_file_20\n",
    "    wp_ng_vals = zehavi_data_file_20.get_wp()[0:12]\n",
    "    bin_edges = zehavi_data_file_20.get_bins()[0:12]\n",
    "    cov_matrix = zehavi_data_file_20.get_cov()[0:11,0:11]\n",
    "    err = np.array([cov_matrix[i,i] for i in range(len(cov_matrix))])    \n",
    "    bin_cen = (bin_edges[1:]+bin_edges[:-1])/2."
   ]
  },
  {
   "cell_type": "code",
   "execution_count": 4,
   "metadata": {},
   "outputs": [],
   "source": [
    "def calc_chi2(obs,exp,var):\n",
    "    chi2s = []\n",
    "    diff = obs-exp\n",
    "    chi2 = np.sum(diff**2/var)\n",
    "    chi2s.append(round(chi2,7))\n",
    "        \n",
    "    return chi2s"
   ]
  },
  {
   "cell_type": "code",
   "execution_count": 13,
   "metadata": {},
   "outputs": [
    {
     "name": "stdout",
     "output_type": "stream",
     "text": [
      "()\n",
      "(1, 74000, 35, 6)\n",
      "(1, 74000, 35)\n",
      "Min chi2: 2.01\n",
      "Min chi2 params: [0.55811521 8.17166921 0.20001981 1.41139431 8.37309625 8.93763237]\n",
      "chi2 per dof: 0.33491937249351067\n",
      "median,max,std:  10.402583284392959 45.15790047612072 3.8983110077818446\n"
     ]
    }
   ],
   "source": [
    "fname = 'combo_param_allparam_fit_a1_m21.h5'\n",
    "files = [fname]\n",
    "\n",
    "#files = [fname4,fname5]\n",
    "s = []\n",
    "log_prob_s = []\n",
    "wps = []\n",
    "\n",
    "for f in files: \n",
    "    reader = emcee.backends.HDFBackend(f, read_only=True)\n",
    "    s.append(reader.get_chain(discard=1000, flat=False, thin=1))\n",
    "    log_prob_s.append(reader.get_log_prob(discard=1000, flat=False, thin=1))\n",
    "    wps.append(reader.get_blobs(discard=1000))\n",
    "    \n",
    "print(np.shape(wp))\n",
    "print(np.shape(s))\n",
    "print(np.shape(log_prob_s))\n",
    "\n",
    "if len(files)>1:\n",
    "    print('greater')\n",
    "    samples = s[0]\n",
    "    log_prob_samples = log_prob_s[0]\n",
    "    wp_samples = wps[0]\n",
    "    for i in range(len(files)):\n",
    "        if i+1 < len(s):\n",
    "            samples = np.concatenate((samples,s[i+1]))\n",
    "            log_prob_samples = np.concatenate((log_prob_samples,log_prob_s[i+1]))\n",
    "            wp_samples = np.concatenate((wp_samples,wp[i+1]))\n",
    "else:\n",
    "    samples = s[0]\n",
    "    log_prob_samples = log_prob_s[0]\n",
    "    wp_samples = wps[0]\n",
    "    \n",
    "print(\"Min chi2:\",round(-2*log_prob_samples.max(),3))\n",
    "print(\"Min chi2 params:\",list(np.array(samples[np.where(log_prob_samples==log_prob_samples.max())]))[0])\n",
    "min_chi2_loc = np.where((-2*log_prob_samples.max())==-2*log_prob_samples)\n",
    "#print(wp_samples[min_chi2_loc][-1])\n",
    "\n",
    "#calculate chi2 per degree of freedom\n",
    "deg_of_frdm = 6\n",
    "chi_per_deg = -2.0*log_prob_samples/deg_of_frdm\n",
    "print(\"chi2 per dof:\", chi_per_deg.min())\n",
    "print('median,max,std: ',np.median(-2.0*log_prob_samples),np.max(-2.0*log_prob_samples),np.std(-2.0*log_prob_samples))\n",
    "row,col = np.where(chi_per_deg<5.)\n",
    "#randomly select 20 sets of parameters with chi2 per dof less than 6.5\n",
    "choices = np.random.choice(samples[row,col].shape[0],100,replace=False)\n",
    "param_string_sampling = samples[row,col][choices]\n",
    "#print(\"Sets of parameters with chi2 per dof < 6.5\")\n",
    "param_sampling = []\n",
    "for i in param_string_sampling:\n",
    "    param_sampling.append(list(np.array(i)))\n",
    "    #param_sampling.append(list(np.array(param_string_sampling)))\n",
    "#print(-2.0*log_prob_samples[row,col][choices])\n",
    "a,logMmin,sigma_logM,alpha,logM0,logM1 = list(np.array(samples[np.where(log_prob_samples==log_prob_samples.max())]))[0]"
   ]
  },
  {
   "cell_type": "code",
   "execution_count": 14,
   "metadata": {},
   "outputs": [
    {
     "name": "stderr",
     "output_type": "stream",
     "text": [
      "In gridlink_float> Running with [nmesh_x, nmesh_y, nmesh_z]  = 38,38,6.  Time taken =   0.021 sec\n",
      "0%.........10%.........20%.........30%.........40%.........50%.........60%.........70%.........80%.........90%.........100% done. Time taken =  0.374 secs\n"
     ]
    },
    {
     "name": "stdout",
     "output_type": "stream",
     "text": [
      "chi2:  [6.3677561]\n",
      "ng:  0.001161921875\n",
      "ng data:  0.00116\n"
     ]
    },
    {
     "data": {
      "image/png": "[encoded data removed]",
      "text/plain": [
       "<Figure size 432x288 with 1 Axes>"
      ]
     },
     "metadata": {
      "image/png": {
       "height": 278,
       "width": 390
      },
      "needs_background": "light"
     },
     "output_type": "display_data"
    }
   ],
   "source": [
    "halocat = CachedHaloCatalog(fname='/Users/lmezini/.astropy/cache/halotools/halo_catalogs/SMDPL/rockstar/2019-07-03-18-38-02-9731.dat.my_cosmosim_halos.hdf5')\n",
    "calc_ng = []\n",
    "wp_res = []\n",
    "for i in range(1):#param_sampling:\n",
    "    halocat.halo_table.add_column((halocat.halo_table['halo_mvir']**a)*(halocat.halo_table['halo_vmax']**(1-a)),name='combo')\n",
    "    \"\"\"\n",
    "    new_colname = 'combo'\n",
    "    new_coltype = 'f4'\n",
    "    grouping_key = 'halo_hostid'\n",
    "    def lin_combo_mass_c(mass, c):\n",
    "        return (mass**a)*(c**(1-a))\n",
    "    aggregation_function = lin_combo_mass_c\n",
    "    colnames_needed_by_function = ['halo_mvir','halo_vmax']\n",
    "    sorting_keys = ['halo_hostid', 'halo_upid']\n",
    "    add_new_table_column(halocat.halo_table, new_colname, new_coltype, grouping_key, \n",
    "                     aggregation_function, colnames_needed_by_function, \n",
    "                     sorting_keys=sorting_keys)\n",
    "    \"\"\"\n",
    "    cens_occ_model = Zheng07Cens(prim_haloprop_key = 'combo',threshold=threshold)\n",
    "    cens_prof_model = TrivialPhaseSpace()\n",
    "\n",
    "    sats_occ_model =  Zheng07Sats(prim_haloprop_key = 'combo', modulate_with_cenocc=True,threshold=threshold)\n",
    "    sats_prof_model = NFWPhaseSpace()\n",
    "    \n",
    "    halocat.redshift = 0.\n",
    "    pi_max = 60.\n",
    "    Lbox = 400.\n",
    "\n",
    "    model_instance = HodModelFactory(centrals_occupation = cens_occ_model, centrals_profile = cens_prof_model, \n",
    "                                 satellites_occupation = sats_occ_model, satellites_profile = sats_prof_model)\n",
    "    model_instance.param_dict['logMmin'] = logMmin\n",
    "    model_instance.param_dict['sigma_logM'] = sigma_logM\n",
    "    model_instance.param_dict['alpha'] = alpha\n",
    "    model_instance.param_dict['logM0'] = logM0\n",
    "    model_instance.param_dict['logM1'] = logM1\n",
    "\n",
    "    try:\n",
    "        model_instance.mock.populate()\n",
    "    except:\n",
    "        model_instance.populate_mock(halocat)\n",
    "        \n",
    "    halo_table = model_instance.mock.halo_table\n",
    "    pos = return_xyz_formatted_array(model_instance.mock.galaxy_table['x'], model_instance.mock.galaxy_table['y'],\n",
    "                                 model_instance.mock.galaxy_table['z'],period = Lbox)\n",
    "    x = pos[:,0]\n",
    "    y = pos[:,1]\n",
    "    z = pos[:,2]\n",
    "    velz = model_instance.mock.galaxy_table['vz']\n",
    "    pos_zdist = return_xyz_formatted_array(x,y,z, period = Lbox, velocity=velz, velocity_distortion_dimension='z')\n",
    "    mod = wp(Lbox,pi_max,1,bin_edges,pos_zdist[:,0],pos_zdist[:,1],pos_zdist[:,2],verbose=True)\n",
    "    print(\"chi2: \",calc_chi2(mod['wp'],wp_ng_vals[1:len(wp_ng_vals)],err))\n",
    "    calc_ng.append(model_instance.mock.number_density)\n",
    "    wp_res.append(mod['wp'])\n",
    "    print(\"ng: \",model_instance.mock.number_density)\n",
    "    print(\"ng data: \", wp_ng_vals[0] )\n",
    "    del(halocat.halo_table['combo'])\n",
    "    plt.errorbar(bin_cen,wp_ng_vals[1:len(wp_ng_vals)],yerr=np.sqrt(err),fmt='o',markersize=2,capsize=4,label='data')\n",
    "    plt.plot(bin_cen,mod['wp'],markersize=2,label=\"a: \"+ str(a))\n",
    "\n",
    "    #plt.plot(bin_cen,oldfunc,label='Old Corrfunc')\n",
    "    plt.title(\"M<-21\")\n",
    "    plt.legend()\n",
    "    plt.ylabel('wp')\n",
    "    plt.xlabel('rp')\n",
    "    plt.tick_params(right=True)\n",
    "    plt.xscale('log')\n",
    "    plt.yscale('log')\n",
    "    plt.grid()\n",
    "    plt.show()"
   ]
  },
  {
   "cell_type": "code",
   "execution_count": 15,
   "metadata": {},
   "outputs": [],
   "source": [
    "row = np.where(wp_ng_vals[0]-np.array(calc_ng) == np.min(wp_ng_vals[0]-np.array(calc_ng)))"
   ]
  },
  {
   "cell_type": "code",
   "execution_count": null,
   "metadata": {},
   "outputs": [],
   "source": [
    "plt.errorbar(bin_cen,wp_ng_vals[1:len(wp_ng_vals)],yerr=np.sqrt(err),fmt='o',markersize=2,capsize=4,label='data')\n",
    "plt.plot(bin_cen,mod['wp'])\n",
    "plt.yscale('log')\n",
    "plt.xscale('log')\n",
    "print(np.array(calc_ng)[row][0])\n",
    "print(wp_ng_vals[0])\n",
    "print(np.array(param_sampling)[row])\n",
    "plt.ylabel('wp')\n",
    "plt.xlabel('rp')"
   ]
  },
  {
   "cell_type": "code",
   "execution_count": null,
   "metadata": {},
   "outputs": [],
   "source": [
    "mod['wp']"
   ]
  },
  {
   "cell_type": "code",
   "execution_count": null,
   "metadata": {},
   "outputs": [],
   "source": []
  }
 ],
 "metadata": {
  "kernelspec": {
   "display_name": "Python 3",
   "language": "python",
   "name": "python3"
  },
  "language_info": {
   "codemirror_mode": {
    "name": "ipython",
    "version": 3
   },
   "file_extension": ".py",
   "mimetype": "text/x-python",
   "name": "python",
   "nbconvert_exporter": "python",
   "pygments_lexer": "ipython3",
   "version": "3.7.4"
  }
 },
 "nbformat": 4,
 "nbformat_minor": 4
}
