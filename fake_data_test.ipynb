{
 "cells": [
  {
   "cell_type": "code",
   "execution_count": 1,
   "metadata": {},
   "outputs": [
    {
     "name": "stderr",
     "output_type": "stream",
     "text": [
      "WARNING: AstropyDeprecationWarning: astropy.extern.six will be removed in 4.0, use the six module directly if it is still needed [astropy.extern.six]\n"
     ]
    },
    {
     "name": "stdout",
     "output_type": "stream",
     "text": [
      "[[86.99261699 53.45336892 46.93744279 37.8893941  27.35362518 21.69680628\n",
      "  18.39167575 16.2765254  13.87536997  9.04604892  4.46487467]\n",
      " [53.45336892 58.21612348 44.63200058 35.40650391 26.16378967 20.52685156\n",
      "  16.8214984  14.77056839 12.37819917  7.83923691  3.58279241]\n",
      " [46.93744279 44.63200058 44.05165966 34.23270991 25.40801856 20.26539119\n",
      "  16.9491809  14.6742513  12.32563816  8.3604352   4.24962424]\n",
      " [37.8893941  35.40650391 34.23270991 29.83863862 22.41851226 18.02767739\n",
      "  15.3645224  13.58972709 11.46523272  7.81483643  3.80759347]\n",
      " [27.35362518 26.16378967 25.40801856 22.41851226 18.5999595  15.2025725\n",
      "  13.05222405 11.79537629  9.91797152  6.68378376  3.24243285]\n",
      " [21.69680628 20.52685156 20.26539119 18.02767739 15.2025725  13.22438254\n",
      "  11.45153746 10.48767084  8.86966973  5.91752112  2.86560024]\n",
      " [18.39167575 16.8214984  16.9491809  15.3645224  13.05222405 11.45153746\n",
      "  10.62158948  9.77533848  8.22245823  5.4028943   2.54766161]\n",
      " [16.2765254  14.77056839 14.6742513  13.58972709 11.79537629 10.48767084\n",
      "   9.77533848  9.49424321  8.10906493  5.35733339  2.531078  ]\n",
      " [13.87536997 12.37819917 12.32563816 11.46523272  9.91797152  8.86966973\n",
      "   8.22245823  8.10906493  7.41407652  5.16611742  2.5714394 ]\n",
      " [ 9.04604892  7.83923691  8.3604352   7.81483643  6.68378376  5.91752112\n",
      "   5.4028943   5.35733339  5.16611742  4.25512497  2.42313237]\n",
      " [ 4.46487467  3.58279241  4.24962424  3.80759347  3.24243285  2.86560024\n",
      "   2.54766161  2.531078    2.5714394   2.42313237  1.73352349]]\n",
      "[[ 5.5057668e+07  3.7565857e+05 -7.3495988e+04  7.2110301e+04\n",
      "  -1.9307444e+04  2.4625440e+04 -1.4067466e+04  5.3754850e+03\n",
      "   2.8312076e+03  2.7342525e+03  1.0749580e+02  5.3923250e+02]\n",
      " [ 3.7565857e+05  7.8101945e+05 -1.2221919e+04  4.6641681e+03\n",
      "  -4.0711821e+03  3.9328891e+03 -2.5359310e+03  1.4987422e+03\n",
      "   1.8344215e+02  2.4994485e+02 -8.0215389e+01 -1.3822447e+02]\n",
      " [-7.3495988e+04 -1.2221919e+04  1.2942743e+05 -1.4310291e+03\n",
      "   1.1724698e+03 -1.0918597e+03  2.8497078e+02  8.2286454e+01\n",
      "   1.1832815e+02  8.8967151e+01  1.4941794e+02 -4.9928311e+00]\n",
      " [ 7.2110301e+04  4.6641681e+03 -1.4310291e+03  5.5786293e+04\n",
      "   2.8666299e+03  6.2007889e+02  6.4197837e+02  3.6496709e+02\n",
      "   6.9135453e+01  4.6676763e+01  5.4083616e+01 -9.7338963e+00]\n",
      " [-1.9307444e+04 -4.0711821e+03  1.1724698e+03  2.8666299e+03\n",
      "   1.1031549e+04  5.1775134e+02  2.7693834e+02  2.1131141e+02\n",
      "   1.9472673e+01  7.4409376e+01  3.3341316e+01  2.3831774e+01]\n",
      " [ 2.4625440e+04  3.9328891e+03 -1.0918597e+03  6.2007889e+02\n",
      "   5.1775134e+02  3.6942430e+03  3.1089551e+02  8.8916570e+01\n",
      "   6.1298404e+01  4.0931256e+01  2.6077497e+01 -5.7857440e+00]\n",
      " [-1.4067466e+04 -2.5359310e+03  2.8497078e+02  6.4197837e+02\n",
      "   2.7693834e+02  3.1089551e+02  9.3942800e+02  7.8285843e+01\n",
      "   2.6958717e+01  2.5420080e+01  1.2037001e+01  8.3624369e+00]\n",
      " [ 5.3754850e+03  1.4987422e+03  8.2286454e+01  3.6496709e+02\n",
      "   2.1131141e+02  8.8916570e+01  7.8285843e+01  1.5438644e+02\n",
      "   1.0197181e+01  7.4257642e+00  3.6391000e+00  2.0939254e+00]\n",
      " [ 2.8312076e+03  1.8344215e+02  1.1832815e+02  6.9135453e+01\n",
      "   1.9472673e+01  6.1298404e+01  2.6958717e+01  1.0197181e+01\n",
      "   4.7824360e+01  8.1974668e+00  5.1515061e+00  4.2139249e+00]\n",
      " [ 2.7342525e+03  2.4994485e+02  8.8967151e+01  4.6676763e+01\n",
      "   7.4409376e+01  4.0931256e+01  2.5420080e+01  7.4257642e+00\n",
      "   8.1974668e+00  2.1015550e+01  6.3486631e+00  3.6557744e+00]\n",
      " [ 1.0749580e+02 -8.0215389e+01  1.4941794e+02  5.4083616e+01\n",
      "   3.3341316e+01  2.6077497e+01  1.2037001e+01  3.6391000e+00\n",
      "   5.1515061e+00  6.3486631e+00  8.9800505e+00  2.9210926e+00]\n",
      " [ 5.3923250e+02 -1.3822447e+02 -4.9928311e+00 -9.7338963e+00\n",
      "   2.3831774e+01 -5.7857440e+00  8.3624369e+00  2.0939254e+00\n",
      "   4.2139249e+00  3.6557744e+00  2.9210926e+00  4.3916456e+00]]\n"
     ]
    }
   ],
   "source": [
    "from halotools.sim_manager import CachedHaloCatalog, FakeSim\n",
    "from halotools.empirical_models import PrebuiltHodModelFactory, Zheng07Cens, Zheng07Sats, TrivialPhaseSpace, NFWPhaseSpace, HodModelFactory\n",
    "from halotools.mock_observables import return_xyz_formatted_array\n",
    "import numpy as np\n",
    "%matplotlib inline\n",
    "import matplotlib.pyplot as plt\n",
    "from astropy.constants import G\n",
    "from Corrfunc.theory.wp import wp, find_fastest_wp_bin_refs\n",
    "from astropy import constants as const\n",
    "from astropy.io import ascii\n",
    "import MCMC_data_file, zehavi_data_file_20, guo_data_file\n",
    "from scipy.special import erf\n",
    "from numpy.linalg import inv"
   ]
  },
  {
   "cell_type": "code",
   "execution_count": 2,
   "metadata": {},
   "outputs": [
    {
     "name": "stdout",
     "output_type": "stream",
     "text": [
      "[0.00656, 366.1, 264.3, 184.0, 128.6, 84.7, 59.4, 42.9, 30.9, 21.9, 14.6, 8.24]\n",
      "12\n",
      "11\n"
     ]
    }
   ],
   "source": [
    "wp_ng_vals = zehavi_data_file_20.get_wp()\n",
    "print(wp_ng_vals)\n",
    "bin_edges = zehavi_data_file_20.get_bins()\n",
    "cov_matrix = zehavi_data_file_20.get_cov()\n",
    "print(len(wp_ng_vals))\n",
    "print(len(inv(cov_matrix)))"
   ]
  },
  {
   "cell_type": "code",
   "execution_count": 3,
   "metadata": {},
   "outputs": [],
   "source": [
    "pi_max = 60.\n",
    "Lbox = 250."
   ]
  },
  {
   "cell_type": "code",
   "execution_count": 4,
   "metadata": {},
   "outputs": [],
   "source": [
    "err = np.array([cov_matrix[i,i] for i in range(len(cov_matrix))])\n",
    "bin_cen = (bin_edges[1:]+bin_edges[:-1])/2."
   ]
  },
  {
   "cell_type": "code",
   "execution_count": 5,
   "metadata": {},
   "outputs": [
    {
     "ename": "NameError",
     "evalue": "name 'cens_occ_model' is not defined",
     "output_type": "error",
     "traceback": [
      "\u001b[0;31m---------------------------------------------------------------------------\u001b[0m",
      "\u001b[0;31mNameError\u001b[0m                                 Traceback (most recent call last)",
      "\u001b[0;32m<ipython-input-5-343911f23a58>\u001b[0m in \u001b[0;36m<module>\u001b[0;34m()\u001b[0m\n\u001b[0;32m----> 1\u001b[0;31m \u001b[0mmean_ncen\u001b[0m \u001b[0;34m=\u001b[0m \u001b[0mcens_occ_model\u001b[0m\u001b[0;34m.\u001b[0m\u001b[0mmean_occupation\u001b[0m\u001b[0;34m(\u001b[0m\u001b[0mprim_haloprop\u001b[0m \u001b[0;34m=\u001b[0m \u001b[0mtable\u001b[0m\u001b[0;34m[\u001b[0m\u001b[0;34m'halo_vmax'\u001b[0m\u001b[0;34m]\u001b[0m\u001b[0;34m)\u001b[0m\u001b[0;34m\u001b[0m\u001b[0m\n\u001b[0m\u001b[1;32m      2\u001b[0m \u001b[0mmean_nsat\u001b[0m \u001b[0;34m=\u001b[0m \u001b[0msats_occ_model\u001b[0m\u001b[0;34m.\u001b[0m\u001b[0mmean_occupation\u001b[0m\u001b[0;34m(\u001b[0m\u001b[0mprim_haloprop\u001b[0m \u001b[0;34m=\u001b[0m \u001b[0mtable\u001b[0m\u001b[0;34m[\u001b[0m\u001b[0;34m'halo_vmax'\u001b[0m\u001b[0;34m]\u001b[0m\u001b[0;34m)\u001b[0m\u001b[0;34m\u001b[0m\u001b[0m\n",
      "\u001b[0;31mNameError\u001b[0m: name 'cens_occ_model' is not defined"
     ]
    }
   ],
   "source": [
    "mean_ncen = cens_occ_model.mean_occupation(prim_haloprop = table['halo_vmax'])\n",
    "mean_nsat = sats_occ_model.mean_occupation(prim_haloprop = table['halo_vmax'])"
   ]
  },
  {
   "cell_type": "code",
   "execution_count": 15,
   "metadata": {},
   "outputs": [
    {
     "ename": "NameError",
     "evalue": "name 'table' is not defined",
     "output_type": "error",
     "traceback": [
      "\u001b[0;31m---------------------------------------------------------------------------\u001b[0m",
      "\u001b[0;31mNameError\u001b[0m                                 Traceback (most recent call last)",
      "\u001b[0;32m<ipython-input-15-284e58a74cbf>\u001b[0m in \u001b[0;36m<module>\u001b[0;34m()\u001b[0m\n\u001b[0;32m----> 1\u001b[0;31m \u001b[0mplt\u001b[0m\u001b[0;34m.\u001b[0m\u001b[0msemilogy\u001b[0m\u001b[0;34m(\u001b[0m\u001b[0;34m(\u001b[0m\u001b[0;36m10\u001b[0m\u001b[0;34m**\u001b[0m\u001b[0;36m5.3\u001b[0m\u001b[0;34m)\u001b[0m\u001b[0;34m*\u001b[0m\u001b[0mtable\u001b[0m\u001b[0;34m[\u001b[0m\u001b[0;34m'halo_vmax'\u001b[0m\u001b[0;34m]\u001b[0m\u001b[0;34m**\u001b[0m\u001b[0;34m(\u001b[0m\u001b[0;36m3.\u001b[0m\u001b[0;34m)\u001b[0m\u001b[0;34m,\u001b[0m\u001b[0;34m(\u001b[0m\u001b[0mmean_ncen\u001b[0m\u001b[0;34m)\u001b[0m\u001b[0;34m,\u001b[0m \u001b[0mls\u001b[0m\u001b[0;34m=\u001b[0m\u001b[0;34m''\u001b[0m\u001b[0;34m,\u001b[0m \u001b[0mmarker\u001b[0m\u001b[0;34m=\u001b[0m\u001b[0;34m'.'\u001b[0m\u001b[0;34m,\u001b[0m\u001b[0mlabel\u001b[0m\u001b[0;34m=\u001b[0m\u001b[0;34m\"Cen (Vmax)\"\u001b[0m\u001b[0;34m)\u001b[0m\u001b[0;34m\u001b[0m\u001b[0m\n\u001b[0m\u001b[1;32m      2\u001b[0m \u001b[0mplt\u001b[0m\u001b[0;34m.\u001b[0m\u001b[0msemilogy\u001b[0m\u001b[0;34m(\u001b[0m\u001b[0;34m(\u001b[0m\u001b[0;36m10\u001b[0m\u001b[0;34m**\u001b[0m\u001b[0;36m5.3\u001b[0m\u001b[0;34m)\u001b[0m\u001b[0;34m*\u001b[0m\u001b[0mtable\u001b[0m\u001b[0;34m[\u001b[0m\u001b[0;34m'halo_vmax'\u001b[0m\u001b[0;34m]\u001b[0m\u001b[0;34m**\u001b[0m\u001b[0;34m(\u001b[0m\u001b[0;36m3.\u001b[0m\u001b[0;34m)\u001b[0m\u001b[0;34m,\u001b[0m\u001b[0;34m(\u001b[0m\u001b[0mmean_nsat\u001b[0m\u001b[0;34m)\u001b[0m\u001b[0;34m,\u001b[0m \u001b[0mls\u001b[0m\u001b[0;34m=\u001b[0m\u001b[0;34m''\u001b[0m\u001b[0;34m,\u001b[0m \u001b[0mmarker\u001b[0m\u001b[0;34m=\u001b[0m\u001b[0;34m'.'\u001b[0m\u001b[0;34m,\u001b[0m\u001b[0mlabel\u001b[0m\u001b[0;34m=\u001b[0m\u001b[0;34m\"Sat (Vmax)\"\u001b[0m\u001b[0;34m)\u001b[0m\u001b[0;34m\u001b[0m\u001b[0m\n\u001b[1;32m      3\u001b[0m \u001b[0;31m#plt.xscale('Log')\u001b[0m\u001b[0;34m\u001b[0m\u001b[0;34m\u001b[0m\u001b[0m\n\u001b[1;32m      4\u001b[0m \u001b[0;31m#plt.yscale('Log')\u001b[0m\u001b[0;34m\u001b[0m\u001b[0;34m\u001b[0m\u001b[0m\n\u001b[1;32m      5\u001b[0m \u001b[0;31m#plt.ylim(0,10)\u001b[0m\u001b[0;34m\u001b[0m\u001b[0;34m\u001b[0m\u001b[0m\n",
      "\u001b[0;31mNameError\u001b[0m: name 'table' is not defined"
     ]
    }
   ],
   "source": [
    "plt.semilogy((10**5.3)*table['halo_vmax']**(3.),(mean_ncen), ls='', marker='.',label=\"Cen (Vmax)\")\n",
    "plt.semilogy((10**5.3)*table['halo_vmax']**(3.),(mean_nsat), ls='', marker='.',label=\"Sat (Vmax)\")\n",
    "#plt.xscale('Log')\n",
    "#plt.yscale('Log')\n",
    "#plt.ylim(0,10)\n",
    "#plt.xlim(0,1500)\n",
    "#plt.semilogy(table['halo_mvir'], mean_ncen, ls='', marker='.',label=\"Cen (Mvir)\")\n",
    "#plt.semilogy(table['halo_mvir'], mean_nsat, ls='', marker='.',label=\"Sats (Mvir)\")\n",
    "#plt.semilogy(M,calc_mean_sat(M))\n",
    "#plt.semilogy(M,calc_mean_cen(M))\n",
    "#plt.semilogy(2*table['halo_rvir']*(table['halo_vmax']**2)/G, mean_ncen, ls='', marker='.',label=\"Cen\")\n",
    "#plt.semilogy(2*table['halo_rvir']*(table['halo_vmax']**2)/G, mean_nsat, ls='', marker='.',label=\"Sats\")\n",
    "plt.xscale('log')\n",
    "plt.ylim(0.1,100)\n",
    "plt.xlabel('Mvir')\n",
    "plt.ylabel('<N>')\n",
    "plt.legend()"
   ]
  },
  {
   "cell_type": "code",
   "execution_count": 16,
   "metadata": {},
   "outputs": [],
   "source": [
    "v = np.logspace(1,4,100)"
   ]
  },
  {
   "cell_type": "code",
   "execution_count": 18,
   "metadata": {},
   "outputs": [
    {
     "ename": "NameError",
     "evalue": "name 'table' is not defined",
     "output_type": "error",
     "traceback": [
      "\u001b[0;31m---------------------------------------------------------------------------\u001b[0m",
      "\u001b[0;31mNameError\u001b[0m                                 Traceback (most recent call last)",
      "\u001b[0;32m<ipython-input-18-4cbe74fdb242>\u001b[0m in \u001b[0;36m<module>\u001b[0;34m()\u001b[0m\n\u001b[0;32m----> 1\u001b[0;31m \u001b[0mhist\u001b[0m\u001b[0;34m,\u001b[0m \u001b[0mbins\u001b[0m \u001b[0;34m=\u001b[0m \u001b[0mnp\u001b[0m\u001b[0;34m.\u001b[0m\u001b[0mhistogram\u001b[0m\u001b[0;34m(\u001b[0m\u001b[0mtable\u001b[0m\u001b[0;34m[\u001b[0m\u001b[0;34m'halo_mvir'\u001b[0m\u001b[0;34m]\u001b[0m\u001b[0;34m,\u001b[0m\u001b[0mbins\u001b[0m\u001b[0;34m=\u001b[0m\u001b[0;36m50\u001b[0m\u001b[0;34m)\u001b[0m\u001b[0;34m\u001b[0m\u001b[0m\n\u001b[0m\u001b[1;32m      2\u001b[0m \u001b[0mplt\u001b[0m\u001b[0;34m.\u001b[0m\u001b[0msemilogy\u001b[0m\u001b[0;34m(\u001b[0m\u001b[0mtable\u001b[0m\u001b[0;34m[\u001b[0m\u001b[0;34m'halo_vmax'\u001b[0m\u001b[0;34m]\u001b[0m\u001b[0;34m,\u001b[0m\u001b[0mtable\u001b[0m\u001b[0;34m[\u001b[0m\u001b[0;34m'halo_mvir'\u001b[0m\u001b[0;34m]\u001b[0m\u001b[0;34m,\u001b[0m \u001b[0mls\u001b[0m\u001b[0;34m=\u001b[0m\u001b[0;34m''\u001b[0m\u001b[0;34m,\u001b[0m \u001b[0mmarker\u001b[0m\u001b[0;34m=\u001b[0m\u001b[0;34m'.'\u001b[0m\u001b[0;34m)\u001b[0m\u001b[0;34m\u001b[0m\u001b[0m\n\u001b[1;32m      3\u001b[0m \u001b[0mplt\u001b[0m\u001b[0;34m.\u001b[0m\u001b[0mplot\u001b[0m\u001b[0;34m(\u001b[0m\u001b[0mv\u001b[0m\u001b[0;34m,\u001b[0m\u001b[0;34m(\u001b[0m\u001b[0;36m10\u001b[0m\u001b[0;34m**\u001b[0m\u001b[0;36m5.3\u001b[0m\u001b[0;34m)\u001b[0m\u001b[0;34m*\u001b[0m\u001b[0mv\u001b[0m\u001b[0;34m**\u001b[0m\u001b[0;34m(\u001b[0m\u001b[0;36m3.\u001b[0m\u001b[0;34m)\u001b[0m\u001b[0;34m,\u001b[0m\u001b[0mc\u001b[0m\u001b[0;34m=\u001b[0m\u001b[0;34m'r'\u001b[0m\u001b[0;34m,\u001b[0m \u001b[0malpha\u001b[0m\u001b[0;34m=\u001b[0m\u001b[0;36m0.5\u001b[0m\u001b[0;34m)\u001b[0m\u001b[0;34m\u001b[0m\u001b[0m\n\u001b[1;32m      4\u001b[0m \u001b[0;32mfor\u001b[0m \u001b[0mi\u001b[0m \u001b[0;32min\u001b[0m \u001b[0mbins\u001b[0m\u001b[0;34m:\u001b[0m\u001b[0;34m\u001b[0m\u001b[0m\n\u001b[1;32m      5\u001b[0m     \u001b[0mplt\u001b[0m\u001b[0;34m.\u001b[0m\u001b[0maxhline\u001b[0m\u001b[0;34m(\u001b[0m\u001b[0mi\u001b[0m\u001b[0;34m)\u001b[0m\u001b[0;34m\u001b[0m\u001b[0m\n",
      "\u001b[0;31mNameError\u001b[0m: name 'table' is not defined"
     ]
    }
   ],
   "source": [
    "hist, bins = np.histogram(table['halo_mvir'],bins=50)\n",
    "plt.semilogy(table['halo_vmax'],table['halo_mvir'], ls='', marker='.')\n",
    "plt.plot(v,(10**5.3)*v**(3.),c='r', alpha=0.5)\n",
    "for i in bins:\n",
    "    plt.axhline(i)\n",
    "plt.xscale('log')\n",
    "plt.xlabel('vmax')\n",
    "plt.ylabel('mvir')\n",
    "plt.show()"
   ]
  },
  {
   "cell_type": "code",
   "execution_count": 19,
   "metadata": {},
   "outputs": [
    {
     "name": "stderr",
     "output_type": "stream",
     "text": [
      "In gridlink_index_particles_float> Running with [nmesh_x, nmesh_y, nmesh_z]  = 24,24,4.  Time taken =   0.045 sec\n",
      "0%.........10%.........20%.........30%.........40%.........50%.........60%.........70%.........80%.........90%.........100% done. Time taken =  4.652 secs\n"
     ]
    }
   ],
   "source": [
    "mass_model = wp(Lbox,pi_max,1,bin_edges[0:28],pos_zdist[:,0],pos_zdist[:,1],pos_zdist[:,2],verbose=True,xbin_refine_factor=2, ybin_refine_factor=2, zbin_refine_factor=1)"
   ]
  },
  {
   "cell_type": "code",
   "execution_count": 20,
   "metadata": {},
   "outputs": [],
   "source": [
    "mvir_mean_ncen = cens_occ_model.mean_occupation(prim_haloprop = mvir_table['halo_mvir'])\n",
    "mvir_mean_nsat = sats_occ_model.mean_occupation(prim_haloprop = mvir_table['halo_mvir'])"
   ]
  },
  {
   "cell_type": "code",
   "execution_count": 21,
   "metadata": {},
   "outputs": [
    {
     "data": {
      "text/plain": [
       "<matplotlib.legend.Legend at 0x1a69865898>"
      ]
     },
     "execution_count": 21,
     "metadata": {},
     "output_type": "execute_result"
    },
    {
     "data": {
      "image/png": "[encoded data removed]",
      "text/plain": [
       "<matplotlib.figure.Figure at 0x1ad5581908>"
      ]
     },
     "metadata": {},
     "output_type": "display_data"
    }
   ],
   "source": [
    "#plt.semilogy((10**5.3)*table['halo_vmax']**(3.),(mean_ncen), ls='', marker='.',label=\"Cen (Vmax)\",color = \"b\")\n",
    "#plt.semilogy((10**5.3)*table['halo_vmax']**(3.),(mean_nsat), ls='', marker='.',label=\"Sat (Vmax)\",color = \"b\")\n",
    "plt.semilogy(mvir_table['halo_mvir'], mvir_mean_ncen, ls='', marker='.',label=\"Cen (Mvir)\", color = \"c\",alpha=0.5)\n",
    "plt.semilogy(mvir_table['halo_mvir'], mvir_mean_nsat, ls='', marker='.',label=\"Sats (Mvir)\", color = \"c\",alpha=0.5)\n",
    "\n",
    "plt.xscale('log')\n",
    "plt.ylim(0.1,100)\n",
    "plt.xlabel('Mvir')\n",
    "plt.ylabel('<N>')\n",
    "plt.legend()"
   ]
  },
  {
   "cell_type": "code",
   "execution_count": 6,
   "metadata": {
    "scrolled": true
   },
   "outputs": [
    {
     "name": "stderr",
     "output_type": "stream",
     "text": [
      "/anaconda3/envs/haloenv/lib/python3.7/site-packages/halotools/empirical_models/factories/hod_model_factory.py:741: UserWarning: \n",
      "\n",
      "The param_dict key sigma_logM appears in more than one component model.\n",
      "This is permissible, but if you are seeing this message you should be sure you understand it.\n",
      "In particular, double-check that this parameter does not have conflicting meanings across components.\n",
      "\n",
      "If you do not wish to see this message every time you instantiate, \n",
      "simply attach a _suppress_repeated_param_warning attribute \n",
      "to any of your component models and set this variable to ``True``.\n",
      "\n",
      "  warn(msg % key)\n",
      "/anaconda3/envs/haloenv/lib/python3.7/site-packages/halotools/empirical_models/factories/hod_model_factory.py:741: UserWarning: \n",
      "\n",
      "The param_dict key logMmin appears in more than one component model.\n",
      "This is permissible, but if you are seeing this message you should be sure you understand it.\n",
      "In particular, double-check that this parameter does not have conflicting meanings across components.\n",
      "\n",
      "If you do not wish to see this message every time you instantiate, \n",
      "simply attach a _suppress_repeated_param_warning attribute \n",
      "to any of your component models and set this variable to ``True``.\n",
      "\n",
      "  warn(msg % key)\n",
      "/anaconda3/envs/haloenv/lib/python3.7/site-packages/halotools/empirical_models/phase_space_models/analytic_models/monte_carlo_helpers.py:205: FutureWarning: Using a non-tuple sequence for multidimensional indexing is deprecated; use `arr[tuple(seq)]` instead of `arr[seq]`. In the future this will be interpreted as an array index, `arr[np.array(seq)]`, which will result either in an error or a different result.\n",
      "  self.rad_prof_func_table_indices[digitized_param_list]\n",
      "/anaconda3/envs/haloenv/lib/python3.7/site-packages/halotools/empirical_models/phase_space_models/analytic_models/monte_carlo_helpers.py:522: FutureWarning: Using a non-tuple sequence for multidimensional indexing is deprecated; use `arr[tuple(seq)]` instead of `arr[seq]`. In the future this will be interpreted as an array index, `arr[np.array(seq)]`, which will result either in an error or a different result.\n",
      "  self.rad_prof_func_table_indices[digitized_param_list]\n",
      "In gridlink_float> Running with [nmesh_x, nmesh_y, nmesh_z]  = 20,40,7.  Time taken =   0.059 sec\n",
      "0%.........10%.........20%.........30%.........40%.........50%.........60%.........70%.........80%.........90%.........100% done. Time taken =  3.353 secs\n"
     ]
    },
    {
     "data": {
      "image/png": "[encoded data removed]",
      "text/plain": [
       "<Figure size 432x288 with 1 Axes>"
      ]
     },
     "metadata": {
      "needs_background": "light"
     },
     "output_type": "display_data"
    }
   ],
   "source": [
    "plt.errorbar(bin_cen,wp_ng_vals[1:len(wp_ng_vals)],yerr=np.sqrt(err),fmt='o',markersize=2,capsize=4,label='data')\n",
    "\n",
    "#cens_occ_model = Zheng07Cens(prim_haloprop_key = 'halo_vmax')\n",
    "cens_occ_model = Zheng07Cens()\n",
    "cens_prof_model = TrivialPhaseSpace()\n",
    "\n",
    "#sats_occ_model =  Zheng07Sats(prim_haloprop_key = 'halo_vmax', modulate_with_cenocc=True)\n",
    "sats_occ_model =  Zheng07Sats(modulate_with_cenocc=True)\n",
    "sats_prof_model = NFWPhaseSpace()\n",
    "\n",
    "#halocat = CachedHaloCatalog(simname='bolplanck',redshift = 0.0)\n",
    "#halocat = CachedHaloCatalog(fname = '/Users/lmezini/.astropy/cache/halotools/halo_catalogs/bolplanck/rockstar/hlist_1.00231.list.halotools_v0p4.hdf5',update_cached_fname = True)\n",
    "#halocat = CachedHaloCatalog(fname = '/Users/lmezini/Downloads/hlist_1.00231.list.halotools_v0p1.hdf5',update_cached_fname = True)\n",
    "halocat = CachedHaloCatalog(fname='/Users/lmezini/.astropy/cache/halotools/halo_catalogs/SMDPL/rockstar/2019-07-03-18-38-02-9731.dat.my_cosmosim_halos.hdf5')\n",
    "halocat.redshift = 0.\n",
    "param_samples=[[12.34754299,  1.08987777,  1.0655134,  10.42476261, 13.26314038]]\n",
    "for i in range(1):\n",
    "    model_instance = HodModelFactory(centrals_occupation = cens_occ_model, centrals_profile = cens_prof_model, \n",
    "                                 satellites_occupation = sats_occ_model, satellites_profile = sats_prof_model)\n",
    "\n",
    "    model_instance.param_dict['logMmin'] = param_samples[i][0]#Mmin_val[i]\n",
    "    model_instance.param_dict['sigma_logM'] = param_samples[i][1]#sigma_val[i]\n",
    "    model_instance.param_dict['alpha'] = param_samples[i][2]#alpha_val[i]\n",
    "    model_instance.param_dict['logM0'] = param_samples[i][3]#M0_val[i]\n",
    "    model_instance.param_dict['logM1'] = param_samples[i][4]#M1_val[i]\n",
    "   \n",
    "    model_instance.populate_mock(halocat)\n",
    "    mvir_table = model_instance.mock.halo_table\n",
    "    pos = return_xyz_formatted_array(model_instance.mock.galaxy_table['x'], model_instance.mock.galaxy_table['y'],\n",
    "                                 model_instance.mock.galaxy_table['z'],period = Lbox)\n",
    "    x = pos[:,0]\n",
    "    y = pos[:,1]\n",
    "    z = pos[:,2]\n",
    "    velz = model_instance.mock.galaxy_table['vz']\n",
    "    pos_zdist = return_xyz_formatted_array(x,y,z, period = Lbox, velocity=velz, velocity_distortion_dimension='z')\n",
    "    \n",
    "    pi_max = 60.\n",
    "    Lbox = 420.\n",
    "    mass_model = wp(Lbox,pi_max,1,bin_edges,pos_zdist[:,0],pos_zdist[:,1],pos_zdist[:,2],verbose=True,xbin_refine_factor=1, ybin_refine_factor=2, zbin_refine_factor=1)\n",
    "    plt.plot(bin_cen,mass_model['wp'],markersize=2,label='Vmax')\n",
    "plt.title(\"Vmax\")\n",
    "#plt.legend()\n",
    "plt.ylabel('wp')\n",
    "plt.xlabel('rp')\n",
    "plt.xscale('log')\n",
    "plt.yscale('log')\n",
    "plt.show()"
   ]
  },
  {
   "cell_type": "code",
   "execution_count": null,
   "metadata": {},
   "outputs": [],
   "source": []
  }
 ],
 "metadata": {
  "kernelspec": {
   "display_name": "Python 3",
   "language": "python",
   "name": "python3"
  },
  "language_info": {
   "codemirror_mode": {
    "name": "ipython",
    "version": 3
   },
   "file_extension": ".py",
   "mimetype": "text/x-python",
   "name": "python",
   "nbconvert_exporter": "python",
   "pygments_lexer": "ipython3",
   "version": "3.7.4"
  }
 },
 "nbformat": 4,
 "nbformat_minor": 2
}
