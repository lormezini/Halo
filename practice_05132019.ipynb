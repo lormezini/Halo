{
 "cells": [
  {
   "cell_type": "code",
   "execution_count": 1,
   "metadata": {},
   "outputs": [
    {
     "name": "stderr",
     "output_type": "stream",
     "text": [
      "WARNING: AstropyDeprecationWarning: astropy.extern.six will be removed in 4.0, use the six module directly if it is still needed [astropy.extern.six]\n"
     ]
    }
   ],
   "source": [
    "from halotools.sim_manager import CachedHaloCatalog, FakeSim\n",
    "from halotools.empirical_models import PrebuiltHodModelFactory, Zheng07Cens, Zheng07Sats, TrivialPhaseSpace, NFWPhaseSpace, HodModelFactory\n",
    "from halotools.mock_observables import return_xyz_formatted_array\n",
    "import numpy as np\n",
    "from Corrfunc.theory.wp import wp\n",
    "%matplotlib inline\n",
    "import matplotlib.pyplot as plt"
   ]
  },
  {
   "cell_type": "code",
   "execution_count": 3,
   "metadata": {},
   "outputs": [],
   "source": [
    "cens_occ_model = Zheng07Cens(prim_haloprop_key = 'halo_vmax')\n",
    "cens_prof_model = TrivialPhaseSpace()\n",
    "\n",
    "sats_occ_model =  Zheng07Sats(prim_haloprop_key = 'halo_vmax')\n",
    "sats_prof_model = NFWPhaseSpace()"
   ]
  },
  {
   "cell_type": "code",
   "execution_count": 4,
   "metadata": {},
   "outputs": [],
   "source": [
    "cens_occ_model.param_dict['logMmin'] = 2.130\n",
    "cens_occ_model.param_dict['sigma_logM'] = 0.1\n",
    "sats_occ_model.param_dict['alpha'] = 2.75\n",
    "sats_occ_model.param_dict['logM0'] = 2.04\n",
    "sats_occ_model.param_dict['logM1'] = 2.34"
   ]
  },
  {
   "cell_type": "code",
   "execution_count": 5,
   "metadata": {},
   "outputs": [],
   "source": [
    "model_instance = HodModelFactory(centrals_occupation = cens_occ_model, centrals_profile = cens_prof_model, \n",
    "                                 satellites_occupation = sats_occ_model, satellites_profile = sats_prof_model)"
   ]
  },
  {
   "cell_type": "code",
   "execution_count": 6,
   "metadata": {},
   "outputs": [],
   "source": [
    "halocat = CachedHaloCatalog(simname='bolplanck',redshift = 0.0) \n",
    "model_instance.populate_mock(halocat) \n",
    "table = model_instance.mock.halo_table\n"
   ]
  },
  {
   "cell_type": "code",
   "execution_count": 328,
   "metadata": {},
   "outputs": [
    {
     "data": {
      "image/png": "[encoded data removed]",
      "text/plain": [
       "<matplotlib.figure.Figure at 0x1a768d1908>"
      ]
     },
     "metadata": {},
     "output_type": "display_data"
    }
   ],
   "source": [
    "mean_ncen = cens_occ_model.mean_occupation(prim_haloprop = table['halo_vmax'])\n",
    "mean_nsat = sats_occ_model.mean_occupation(prim_haloprop = table['halo_vmax'])\n",
    "\n",
    "plt.scatter(table['halo_vmax'],mean_ncen,s=10,label = 'cen')\n",
    "plt.scatter(table['halo_vmax'],mean_nsat,s=10,label = 'sat')\n",
    "plt.legend()\n",
    "plt.xlabel('Vmax')\n",
    "plt.ylabel('<N>')\n",
    "plt.xscale('log')\n",
    "plt.yscale('log')"
   ]
  },
  {
   "cell_type": "code",
   "execution_count": 7,
   "metadata": {
    "scrolled": true
   },
   "outputs": [],
   "source": [
    "Npts = 1000\n",
    "Lbox = 250.\n",
    "nthreads = 1\n",
    "#coords = np.vstack((model_instance.mock.galaxy_table['x'],model_instance.mock.galaxy_table['y'],model_instance.mock.galaxy_table['z'],)).T\n",
    "pi_max = 60\n",
    "pos = return_xyz_formatted_array(model_instance.mock.galaxy_table['x'], model_instance.mock.galaxy_table['y'], model_instance.mock.galaxy_table['z'])\n",
    "x = pos[:,0]\n",
    "y = pos[:,1]\n",
    "z = pos[:,2]\n",
    "velz = model_instance.mock.galaxy_table['vz']\n",
    "pos_zdist = return_xyz_formatted_array(x, y, z, velocity=velz, velocity_distortion_dimension='z')\n",
    "x = pos_zdist[:,0]\n",
    "y = pos_zdist[:,1]\n",
    "z = pos_zdist[:,2]\n",
    "coords = np.vstack((x,y,z)).T\n"
   ]
  },
  {
   "cell_type": "code",
   "execution_count": 1,
   "metadata": {},
   "outputs": [],
   "source": [
    "#print(model_instance.mock.galaxy_table)\n",
    "#print(model_instance.mock.halo_table)"
   ]
  },
  {
   "cell_type": "code",
   "execution_count": 14,
   "metadata": {},
   "outputs": [],
   "source": [
    "z[np.where(z < 0.0)] = 0.0\n",
    "z[np.where(z > 250.)] = 250."
   ]
  },
  {
   "cell_type": "code",
   "execution_count": 18,
   "metadata": {},
   "outputs": [
    {
     "name": "stdout",
     "output_type": "stream",
     "text": [
      "[(0.13159712, 0.20840302, 0., 430.02999878, 142786, 0.)\n",
      " (0.20840302, 0.33003624, 0., 300.40991211, 273708, 0.)]\n"
     ]
    }
   ],
   "source": [
    "#zbin_edge = np.genfromtxt('sdss_binfile.dat')\n",
    "zbin_edge = np.array((0.13159712, 0.20840302, 0.33003624, 0.52265998, 0.82770744, 1.31079410, 2.07583147, \n",
    "                      3.28737848, 5.20603787, 8.24451170, 13.05637315, 20.67664966))\n",
    "zxi_20 = [366.1, 264.3, 184.0, 128.6, 84.7,  59.4, 42.9, 30.9,  21.9, 14.6,  8.24]\n",
    "zxi_20_err = np.sqrt([9.3,7.6,6.6,5.5,4.3,3.6,3.3,3.1,2.7,2.1,1.32])\n",
    "#xi = wp(coords, zbin_edge, pi_max, period=Lbox)\n",
    "xi = wp(Lbox,pi_max,nthreads,zbin_edge,x,y,z)"
   ]
  },
  {
   "cell_type": "code",
   "execution_count": 19,
   "metadata": {},
   "outputs": [
    {
     "name": "stdout",
     "output_type": "stream",
     "text": [
      "[430.02999878 300.40991211 203.46643066 128.78997803  78.61540222\n",
      "  49.15397644  33.19833755  23.6693573   16.36460876  10.60664177\n",
      "   6.29167557]\n"
     ]
    }
   ],
   "source": [
    "print(xi['wp'])"
   ]
  },
  {
   "cell_type": "code",
   "execution_count": 20,
   "metadata": {},
   "outputs": [
    {
     "data": {
      "image/png": "[encoded data removed]",
      "text/plain": [
       "<matplotlib.figure.Figure at 0x1a0e3dbb38>"
      ]
     },
     "metadata": {},
     "output_type": "display_data"
    }
   ],
   "source": [
    "zbin_cen = (zbin_edge[1:]+zbin_edge[:-1])/2.\n",
    "plt.errorbar(zbin_cen,zxi_20,yerr=zxi_20_err,fmt='o',markersize=2)\n",
    "plt.plot(zbin_cen, xi['wp'])\n",
    "plt.xscale('log')\n",
    "plt.yscale('log')"
   ]
  },
  {
   "cell_type": "code",
   "execution_count": 269,
   "metadata": {
    "scrolled": true
   },
   "outputs": [
    {
     "name": "stdout",
     "output_type": "stream",
     "text": [
      "{'logMmin': 11.96, 'sigma_logM': 0.38}\n",
      "{'logM0': 11.3, 'logM1': 13.28, 'alpha': 1.16}\n"
     ]
    }
   ],
   "source": [
    "mass_cens_occ_model = Zheng07Cens()\n",
    "mass_cens_prof_model = TrivialPhaseSpace()\n",
    "\n",
    "mass_sats_occ_model =  Zheng07Sats()\n",
    "mass_sats_prof_model = NFWPhaseSpace()\n",
    "\n",
    "mass_cens_occ_model.param_dict['logMmin'] = 11.96\n",
    "mass_cens_occ_model.param_dict['sigma_logM'] = 0.38\n",
    "mass_sats_occ_model.param_dict['alpha'] = 1.16\n",
    "mass_sats_occ_model.param_dict['logM0'] = 11.3\n",
    "mass_sats_occ_model.param_dict['logM1'] = 13.28\n",
    "\n",
    "print(mass_cens_occ_model.param_dict)\n",
    "print(mass_sats_occ_model.param_dict)\n",
    "mass_model_instance = HodModelFactory(centrals_occupation = mass_cens_occ_model, centrals_profile = mass_cens_prof_model, \n",
    "                                 satellites_occupation = mass_sats_occ_model, satellites_profile = mass_sats_prof_model)\n",
    "\n",
    "mass_halocat = CachedHaloCatalog(simname='bolplanck',redshift = 0.0) \n",
    "mass_model_instance.populate_mock(halocat) \n",
    "mass_table = mass_model_instance.mock.halo_table\n",
    "\n",
    "pos = return_xyz_formatted_array(mass_model_instance.mock.galaxy_table['x'], mass_model_instance.mock.galaxy_table['y'],\n",
    "                                 mass_model_instance.mock.galaxy_table['z'])\n",
    "x = pos[:,0]\n",
    "y = pos[:,1]\n",
    "z = pos[:,2]\n",
    "velz = mass_model_instance.mock.galaxy_table['vz']\n",
    "pos_zdist = return_xyz_formatted_array(x, y, z, velocity=velz, velocity_distortion_dimension='z')\n",
    "\n",
    "zbin_edge = np.array((0.13159712, 0.20840302, 0.33003624, 0.52265998, 0.82770744, 1.31079410, 2.07583147, \n",
    "                      3.28737848, 5.20603787, 8.24451170, 13.05637315, 20.67664966))\n",
    "mass_xi = wp(pos_zdist, zbin_edge, pi_max, period=Lbox)\n",
    "\n"
   ]
  },
  {
   "cell_type": "code",
   "execution_count": 401,
   "metadata": {},
   "outputs": [
    {
     "data": {
      "text/plain": [
       "\"cens_occ_model.param_dict['logMmin'] = 2.25\\ncens_occ_model.param_dict['sigma_logM'] = 0.1\\nsats_occ_model.param_dict['alpha'] = 3.0\\nsats_occ_model.param_dict['logM0'] = 2.0\\nsats_occ_model.param_dict['logM1'] = 2.5\""
      ]
     },
     "execution_count": 401,
     "metadata": {},
     "output_type": "execute_result"
    },
    {
     "data": {
      "image/png": "[encoded data removed]",
      "text/plain": [
       "<matplotlib.figure.Figure at 0x1a18d8e0b8>"
      ]
     },
     "metadata": {},
     "output_type": "display_data"
    }
   ],
   "source": [
    "plt.errorbar(zbin_cen,zxi_20,yerr=zxi_20_err,fmt='o',markersize=2,label = 'Zehavi')\n",
    "plt.plot(zbin_cen,mass_xi,label = 'Mass')\n",
    "plt.plot(zbin_cen,xi,label = 'Vmax')\n",
    "plt.legend()\n",
    "plt.xlabel('rp')\n",
    "plt.ylabel('wp')\n",
    "plt.xscale('log')\n",
    "plt.yscale('log')\n",
    "\n",
    "\"\"\"cens_occ_model.param_dict['logMmin'] = 2.25\n",
    "cens_occ_model.param_dict['sigma_logM'] = 0.1\n",
    "sats_occ_model.param_dict['alpha'] = 3.0\n",
    "sats_occ_model.param_dict['logM0'] = 2.0\n",
    "sats_occ_model.param_dict['logM1'] = 2.5\"\"\""
   ]
  },
  {
   "cell_type": "code",
   "execution_count": 86,
   "metadata": {},
   "outputs": [
    {
     "data": {
      "image/png": "[encoded data removed]",
      "text/plain": [
       "<matplotlib.figure.Figure at 0x1a119da908>"
      ]
     },
     "metadata": {},
     "output_type": "display_data"
    }
   ],
   "source": [
    "mean_ncen = cens_occ_model.mean_occupation(prim_haloprop = table['halo_vmax'])\n",
    "mean_nsat = sats_occ_model.mean_occupation(prim_haloprop = table['halo_vmax'])\n",
    "\n",
    "mass_mean_ncen = mass_cens_occ_model.mean_occupation(prim_haloprop = table['halo_mvir'])\n",
    "mass_mean_nsat = mass_sats_occ_model.mean_occupation(prim_haloprop = table['halo_mvir'])\n",
    "\n",
    "#plt.scatter(table['halo_vmax'],mean_ncen,s=12)\n",
    "#plt.scatter(table['halo_vmax'],mean_nsat,s=12)\n",
    "\n",
    "plt.scatter(mass_table['halo_mvir'],mass_mean_ncen,s=10,label = 'cen')\n",
    "plt.scatter(mass_table['halo_mvir'],mass_mean_nsat,s=10,label = 'sat')\n",
    "plt.legend()\n",
    "plt.xlabel('mvir')\n",
    "plt.ylabel('<N>')\n",
    "plt.xscale('log')\n",
    "plt.yscale('log')"
   ]
  },
  {
   "cell_type": "code",
   "execution_count": 221,
   "metadata": {},
   "outputs": [
    {
     "data": {
      "image/png": "[encoded data removed]",
      "text/plain": [
       "<matplotlib.figure.Figure at 0x10f98c160>"
      ]
     },
     "metadata": {},
     "output_type": "display_data"
    }
   ],
   "source": [
    "plt.scatter(table['halo_vmax'],table['halo_mvir'],c='c')\n",
    "v = np.logspace(1,4,300)\n",
    "plt.plot(v,(10**5.3)*v**(3.),c='r')\n",
    "plt.xscale('log')\n",
    "plt.yscale('log')"
   ]
  },
  {
   "cell_type": "code",
   "execution_count": 4,
   "metadata": {},
   "outputs": [
    {
     "name": "stdout",
     "output_type": "stream",
     "text": [
      "2.22\n",
      "2.0\n",
      "2.6599999999999997\n",
      "-1.0999999999999999\n"
     ]
    }
   ],
   "source": [
    "def find_Vmax(M):\n",
    "    v = ((M)/(10**5.3))**(1/3.)\n",
    "    return v\n",
    "print(np.log10(find_Vmax(10**11.96)))\n",
    "print(np.log10(find_Vmax(10**11.3)))\n",
    "print(np.log10(find_Vmax(10**13.28)))\n",
    "print(np.log10(find_Vmax(10**2.)))"
   ]
  },
  {
   "cell_type": "code",
   "execution_count": 405,
   "metadata": {},
   "outputs": [
    {
     "name": "stdout",
     "output_type": "stream",
     "text": [
      "<class 'numpy.ndarray'>\n"
     ]
    }
   ],
   "source": [
    "print(type(xi))"
   ]
  },
  {
   "cell_type": "code",
   "execution_count": 7,
   "metadata": {},
   "outputs": [
    {
     "data": {
      "text/plain": [
       "3.3333333333333335"
      ]
     },
     "execution_count": 7,
     "metadata": {},
     "output_type": "execute_result"
    }
   ],
   "source": [
    "5*(2.)**1/3"
   ]
  },
  {
   "cell_type": "code",
   "execution_count": null,
   "metadata": {},
   "outputs": [],
   "source": []
  }
 ],
 "metadata": {
  "kernelspec": {
   "display_name": "Python 3",
   "language": "python",
   "name": "python3"
  },
  "language_info": {
   "codemirror_mode": {
    "name": "ipython",
    "version": 3
   },
   "file_extension": ".py",
   "mimetype": "text/x-python",
   "name": "python",
   "nbconvert_exporter": "python",
   "pygments_lexer": "ipython3",
   "version": "3.7.4"
  }
 },
 "nbformat": 4,
 "nbformat_minor": 4
}
